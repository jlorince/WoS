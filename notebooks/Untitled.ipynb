{
 "cells": [
  {
   "cell_type": "code",
   "execution_count": 1,
   "metadata": {
    "collapsed": true
   },
   "outputs": [],
   "source": [
    "from matplotlib import pyplot as plt\n",
    "%matplotlib inline\n",
    "import pandas as pd "
   ]
  },
  {
   "cell_type": "code",
   "execution_count": 2,
   "metadata": {
    "collapsed": true
   },
   "outputs": [],
   "source": [
    "df = pd.read_pickle('/Users/jaredlorince/Desktop/d_pop.pkl')"
   ]
  },
  {
   "cell_type": "code",
   "execution_count": 3,
   "metadata": {
    "collapsed": false
   },
   "outputs": [],
   "source": [
    "data = df.reset_index().pivot_table(index='date',columns='category',values='uid').fillna(0)"
   ]
  },
  {
   "cell_type": "code",
   "execution_count": 4,
   "metadata": {
    "collapsed": false
   },
   "outputs": [
    {
     "data": {
      "text/plain": [
       "<matplotlib.axes._subplots.AxesSubplot at 0x11294ce10>"
      ]
     },
     "execution_count": 4,
     "metadata": {},
     "output_type": "execute_result"
    },
    {
     "data": {
      "image/png": "[encoded data removed]",
      "text/plain": [
       "<matplotlib.figure.Figure at 0x112938dd0>"
      ]
     },
     "metadata": {},
     "output_type": "display_data"
    }
   ],
   "source": [
    "data['Computer Science'].resample('A').sum().plot()"
   ]
  },
  {
   "cell_type": "code",
   "execution_count": 5,
   "metadata": {
    "collapsed": false
   },
   "outputs": [
    {
     "name": "stdout",
     "output_type": "stream",
     "text": [
      ",Acoustics,Agriculture,Allergy,Anatomy & Morphology,Anesthesiology,Anthropology,Archaeology,Architecture,Area Studies,Art,Arts & Humanities - Other Topics,Asian Studies,Astronomy & Astrophysics,Audiology & Speech-Language Pathology,Automation & Control Systems,Behavioral Sciences,Biochemistry & Molecular Biology,Biodiversity & Conservation,Biomedical Social Sciences,Biophysics,Biotechnology & Applied Microbiology,Business & Economics,Cardiovascular System & Cardiology,Cell Biology,Chemistry,Classics,Communication,Computer Science,Construction & Building Technology,Criminology & Penology,Crystallography,Cultural Studies,Dance,Demography,Dentistry, Oral Surgery & Medicine,Dermatology,Developmental Biology,Education & Educational Research,Electrochemistry,Emergency Medicine,Endocrinology & Metabolism,Energy & Fuels,Engineering,Entomology,Environmental Sciences & Ecology,Ethnic Studies,Evolutionary Biology,Family Studies,Film, Radio & Television,Fisheries,Food Science & Technology,Forestry,Gastroenterology & Hepatology,General & Internal Medicine,Genetics & Heredity,Geochemistry & Geophysics,Geography,Geology,Geriatrics & Gerontology,Government & Law,Health Care Sciences & Services,Hematology,History,History & Philosophy of Science,Imaging Science & Photographic Technology,Immunology,Infectious Diseases,Information Science & Library Science,Instruments & Instrumentation,Integrative & Complementary Medicine,International Relations,Legal Medicine,Life Sciences & Biomedicine - Other Topics,Linguistics,Literature,Marine & Freshwater Biology,Materials Science,Mathematical & Computational Biology,Mathematical Methods In Social Sciences,Mathematics,Mechanics,Medical Ethics,Medical Informatics,Medical Laboratory Technology,Metallurgy & Metallurgical Engineering,Meteorology & Atmospheric Sciences,Microbiology,Microscopy,Mineralogy,Mining & Mineral Processing,Music,Mycology,Neurosciences & Neurology,Nuclear Science & Technology,Nursing,Nutrition & Dietetics,Obstetrics & Gynecology,Oceanography,Oncology,Operations Research & Management Science,Ophthalmology,Optics,Orthopedics,Otorhinolaryngology,Paleontology,Parasitology,Pathology,Pediatrics,Pharmacology & Pharmacy,Philosophy,Physical Geography,Physics,Physiology,Plant Sciences,Polymer Science,Psychiatry,Psychology,Public Administration,Public, Environmental & Occupational Health,Radiology, Nuclear Medicine & Medical Imaging,Rehabilitation,Religion,Remote Sensing,Reproductive Biology,Research & Experimental Medicine,Respiratory System,Rheumatology,Robotics,Science & Technology - Other Topics,Social Issues,Social Sciences - Other Topics,Social Work,Sociology,Spectroscopy,Sport Sciences,Substance Abuse,Surgery,Telecommunications,Theater,Thermodynamics,Toxicology,Transplantation,Transportation,Tropical Medicine,Urban Studies,Urology & Nephrology,Veterinary Sciences,Virology,Water Resources,Women's Studies,Zoology\n"
     ]
    }
   ],
   "source": [
    "print ','.join(data.columns)"
   ]
  },
  {
   "cell_type": "code",
   "execution_count": 8,
   "metadata": {
    "collapsed": false
   },
   "outputs": [
    {
     "data": {
      "text/plain": [
       "74182044.0"
      ]
     },
     "execution_count": 8,
     "metadata": {},
     "output_type": "execute_result"
    }
   ],
   "source": [
    "data.sum().sum()"
   ]
  },
  {
   "cell_type": "code",
   "execution_count": null,
   "metadata": {
    "collapsed": true
   },
   "outputs": [],
   "source": []
  }
 ],
 "metadata": {
  "anaconda-cloud": {},
  "kernelspec": {
   "display_name": "Python 2",
   "language": "python",
   "name": "python2"
  },
  "language_info": {
   "codemirror_mode": {
    "name": "ipython",
    "version": 2
   },
   "file_extension": ".py",
   "mimetype": "text/x-python",
   "name": "python",
   "nbconvert_exporter": "python",
   "pygments_lexer": "ipython2",
   "version": "2.7.10"
  }
 },
 "nbformat": 4,
 "nbformat_minor": 0
}
