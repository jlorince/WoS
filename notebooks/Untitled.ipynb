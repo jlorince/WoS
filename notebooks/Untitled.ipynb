{
 "cells": [
  {
   "cell_type": "code",
   "execution_count": 228,
   "metadata": {
    "collapsed": true
   },
   "outputs": [],
   "source": [
    "from matplotlib import pyplot as plt\n",
    "%matplotlib inline\n",
    "import seaborn as sns\n",
    "from seaborn import color_palette\n",
    "\n",
    "import pandas as pd \n",
    "import numpy as np\n",
    "\n",
    "import bokeh\n",
    "from bokeh.io import push_notebook, show, output_notebook\n",
    "from bokeh.plotting import figure, output_file, show, curdoc\n",
    "from bokeh.models import Circle,BoxSelectTool, BoxZoomTool, LassoSelectTool,Text,HoverTool,ColumnDataSource, Range1d, Axis"
   ]
  },
  {
   "cell_type": "code",
   "execution_count": 234,
   "metadata": {
    "collapsed": false
   },
   "outputs": [],
   "source": [
    "totals_pubs = pd.Series(index=pd.date_range('1950-01-01','2015-12-31',freq='AS',),data=[97529,102475,106673,108515,113949,100346,115704,122845,133961,137311,152292,179267,188095,196106,221271,288753,327167,349344,364851,399384,405709,420089,448565,459029,495345,566369,606671,683684,703905,728908,749425,775628,810977,875161,893747,893536,909200,920189,901468,856502,880419,901808,922010,963477,1015818,1080336,1130853,1159929,1161957,1187808,1205276,1189963,1234480,1270516,1356955,1434957,1495934,1567550,1655220,1716898,1750645,1836125,1913473,2005909,2027312,1809485,])\n",
    "totals_refs = pd.Series(index=pd.date_range('1950-01-01','2015-12-31',freq='AS',),data=[862276,913941,991301,1054144,1082894,993625,1132516,1195067,1291857,1390632,1496650,1927193,2030321,2167335,2530307,3071105,3556047,3822576,4197118,4439659,4483020,4909395,5406217,5614448,5994449,6801509,7391424,7858516,8097995,8733158,9155748,9680861,10507381,11104584,11725145,12482330,12384351,12773481,13165658,13524406,14225948,15057108,15906821,16710320,17930450,19381008,21289915,22082648,22865217,23589060,24585765,25072234,26210739,27773579,29654550,31816766,34430852,36991583,40692695,43594503,46666951,50946087,55088628,59408651,62668029,59436898,])"
   ]
  },
  {
   "cell_type": "code",
   "execution_count": 276,
   "metadata": {
    "collapsed": true
   },
   "outputs": [],
   "source": [
    "df_refs = pd.read_pickle('/Users/jaredlorince/Desktop/d_pop_refs.pkl')\n",
    "df_pubs = pd.read_pickle('/Users/jaredlorince/Desktop/d_pop.pkl')\n",
    "df_keywords = pd.read_pickle('/Users/jaredlorince/Desktop/d_pop_keywords.pkl')"
   ]
  },
  {
   "cell_type": "code",
   "execution_count": 278,
   "metadata": {
    "collapsed": false
   },
   "outputs": [
    {
     "data": {
      "text/html": [
       "<div>\n",
       "<table border=\"1\" class=\"dataframe\">\n",
       "  <thead>\n",
       "    <tr style=\"text-align: right;\">\n",
       "      <th></th>\n",
       "      <th></th>\n",
       "      <th>uid</th>\n",
       "    </tr>\n",
       "    <tr>\n",
       "      <th>date</th>\n",
       "      <th>keyword</th>\n",
       "      <th></th>\n",
       "    </tr>\n",
       "  </thead>\n",
       "  <tbody>\n",
       "  </tbody>\n",
       "</table>\n",
       "</div>"
      ],
      "text/plain": [
       "Empty DataFrame\n",
       "Columns: [uid]\n",
       "Index: []"
      ]
     },
     "execution_count": 278,
     "metadata": {},
     "output_type": "execute_result"
    }
   ],
   "source": [
    "df_keywords.head()"
   ]
  },
  {
   "cell_type": "code",
   "execution_count": 277,
   "metadata": {
    "collapsed": false
   },
   "outputs": [
    {
     "ename": "KeyError",
     "evalue": "'keyword'",
     "output_type": "error",
     "traceback": [
      "\u001b[0;31m---------------------------------------------------------------------------\u001b[0m",
      "\u001b[0;31mKeyError\u001b[0m                                  Traceback (most recent call last)",
      "\u001b[0;32m<ipython-input-277-276bd43546e2>\u001b[0m in \u001b[0;36m<module>\u001b[0;34m()\u001b[0m\n\u001b[1;32m      1\u001b[0m \u001b[0mdf_pubs\u001b[0m \u001b[0;34m=\u001b[0m \u001b[0mdf_pubs\u001b[0m\u001b[0;34m.\u001b[0m\u001b[0mreset_index\u001b[0m\u001b[0;34m(\u001b[0m\u001b[0;34m)\u001b[0m\u001b[0;34m.\u001b[0m\u001b[0mpivot_table\u001b[0m\u001b[0;34m(\u001b[0m\u001b[0mindex\u001b[0m\u001b[0;34m=\u001b[0m\u001b[0;34m'date'\u001b[0m\u001b[0;34m,\u001b[0m\u001b[0mcolumns\u001b[0m\u001b[0;34m=\u001b[0m\u001b[0;34m'category'\u001b[0m\u001b[0;34m,\u001b[0m\u001b[0mvalues\u001b[0m\u001b[0;34m=\u001b[0m\u001b[0;34m'uid'\u001b[0m\u001b[0;34m)\u001b[0m\u001b[0;34m.\u001b[0m\u001b[0mfillna\u001b[0m\u001b[0;34m(\u001b[0m\u001b[0;36m0\u001b[0m\u001b[0;34m)\u001b[0m\u001b[0;34m.\u001b[0m\u001b[0mix\u001b[0m\u001b[0;34m[\u001b[0m\u001b[0;34m:\u001b[0m\u001b[0;34m'2015'\u001b[0m\u001b[0;34m]\u001b[0m\u001b[0;34m\u001b[0m\u001b[0m\n\u001b[1;32m      2\u001b[0m \u001b[0mdf_refs\u001b[0m \u001b[0;34m=\u001b[0m \u001b[0mdf_refs\u001b[0m\u001b[0;34m.\u001b[0m\u001b[0mreset_index\u001b[0m\u001b[0;34m(\u001b[0m\u001b[0;34m)\u001b[0m\u001b[0;34m.\u001b[0m\u001b[0mpivot_table\u001b[0m\u001b[0;34m(\u001b[0m\u001b[0mindex\u001b[0m\u001b[0;34m=\u001b[0m\u001b[0;34m'date'\u001b[0m\u001b[0;34m,\u001b[0m\u001b[0mcolumns\u001b[0m\u001b[0;34m=\u001b[0m\u001b[0;34m'category'\u001b[0m\u001b[0;34m,\u001b[0m\u001b[0mvalues\u001b[0m\u001b[0;34m=\u001b[0m\u001b[0;34m'cnt'\u001b[0m\u001b[0;34m)\u001b[0m\u001b[0;34m.\u001b[0m\u001b[0mfillna\u001b[0m\u001b[0;34m(\u001b[0m\u001b[0;36m0\u001b[0m\u001b[0;34m)\u001b[0m\u001b[0;34m.\u001b[0m\u001b[0mix\u001b[0m\u001b[0;34m[\u001b[0m\u001b[0;34m:\u001b[0m\u001b[0;34m'2015'\u001b[0m\u001b[0;34m]\u001b[0m\u001b[0;34m\u001b[0m\u001b[0m\n\u001b[0;32m----> 3\u001b[0;31m \u001b[0mdf_keywords\u001b[0m \u001b[0;34m=\u001b[0m \u001b[0mdf_refs\u001b[0m\u001b[0;34m.\u001b[0m\u001b[0mreset_index\u001b[0m\u001b[0;34m(\u001b[0m\u001b[0;34m)\u001b[0m\u001b[0;34m.\u001b[0m\u001b[0mpivot_table\u001b[0m\u001b[0;34m(\u001b[0m\u001b[0mindex\u001b[0m\u001b[0;34m=\u001b[0m\u001b[0;34m'date'\u001b[0m\u001b[0;34m,\u001b[0m\u001b[0mcolumns\u001b[0m\u001b[0;34m=\u001b[0m\u001b[0;34m'keyword'\u001b[0m\u001b[0;34m,\u001b[0m\u001b[0mvalues\u001b[0m\u001b[0;34m=\u001b[0m\u001b[0;34m'uid'\u001b[0m\u001b[0;34m)\u001b[0m\u001b[0;34m.\u001b[0m\u001b[0mfillna\u001b[0m\u001b[0;34m(\u001b[0m\u001b[0;36m0\u001b[0m\u001b[0;34m)\u001b[0m\u001b[0;34m.\u001b[0m\u001b[0mix\u001b[0m\u001b[0;34m[\u001b[0m\u001b[0;34m:\u001b[0m\u001b[0;34m'2015'\u001b[0m\u001b[0;34m]\u001b[0m\u001b[0;34m\u001b[0m\u001b[0m\n\u001b[0m",
      "\u001b[0;32m/Users/jaredlorince/anaconda/lib/python2.7/site-packages/pandas/tools/pivot.pyc\u001b[0m in \u001b[0;36mpivot_table\u001b[0;34m(data, values, index, columns, aggfunc, fill_value, margins, dropna, margins_name)\u001b[0m\n\u001b[1;32m    118\u001b[0m             \u001b[0mdata\u001b[0m \u001b[0;34m=\u001b[0m \u001b[0mdata\u001b[0m\u001b[0;34m[\u001b[0m\u001b[0mto_filter\u001b[0m\u001b[0;34m]\u001b[0m\u001b[0;34m\u001b[0m\u001b[0m\n\u001b[1;32m    119\u001b[0m \u001b[0;34m\u001b[0m\u001b[0m\n\u001b[0;32m--> 120\u001b[0;31m     \u001b[0mgrouped\u001b[0m \u001b[0;34m=\u001b[0m \u001b[0mdata\u001b[0m\u001b[0;34m.\u001b[0m\u001b[0mgroupby\u001b[0m\u001b[0;34m(\u001b[0m\u001b[0mkeys\u001b[0m\u001b[0;34m)\u001b[0m\u001b[0;34m\u001b[0m\u001b[0m\n\u001b[0m\u001b[1;32m    121\u001b[0m     \u001b[0magged\u001b[0m \u001b[0;34m=\u001b[0m \u001b[0mgrouped\u001b[0m\u001b[0;34m.\u001b[0m\u001b[0magg\u001b[0m\u001b[0;34m(\u001b[0m\u001b[0maggfunc\u001b[0m\u001b[0;34m)\u001b[0m\u001b[0;34m\u001b[0m\u001b[0m\n\u001b[1;32m    122\u001b[0m \u001b[0;34m\u001b[0m\u001b[0m\n",
      "\u001b[0;32m/Users/jaredlorince/anaconda/lib/python2.7/site-packages/pandas/core/generic.pyc\u001b[0m in \u001b[0;36mgroupby\u001b[0;34m(self, by, axis, level, as_index, sort, group_keys, squeeze, **kwargs)\u001b[0m\n\u001b[1;32m   3776\u001b[0m         return groupby(self, by=by, axis=axis, level=level, as_index=as_index,\n\u001b[1;32m   3777\u001b[0m                        \u001b[0msort\u001b[0m\u001b[0;34m=\u001b[0m\u001b[0msort\u001b[0m\u001b[0;34m,\u001b[0m \u001b[0mgroup_keys\u001b[0m\u001b[0;34m=\u001b[0m\u001b[0mgroup_keys\u001b[0m\u001b[0;34m,\u001b[0m \u001b[0msqueeze\u001b[0m\u001b[0;34m=\u001b[0m\u001b[0msqueeze\u001b[0m\u001b[0;34m,\u001b[0m\u001b[0;34m\u001b[0m\u001b[0m\n\u001b[0;32m-> 3778\u001b[0;31m                        **kwargs)\n\u001b[0m\u001b[1;32m   3779\u001b[0m \u001b[0;34m\u001b[0m\u001b[0m\n\u001b[1;32m   3780\u001b[0m     \u001b[0;32mdef\u001b[0m \u001b[0masfreq\u001b[0m\u001b[0;34m(\u001b[0m\u001b[0mself\u001b[0m\u001b[0;34m,\u001b[0m \u001b[0mfreq\u001b[0m\u001b[0;34m,\u001b[0m \u001b[0mmethod\u001b[0m\u001b[0;34m=\u001b[0m\u001b[0mNone\u001b[0m\u001b[0;34m,\u001b[0m \u001b[0mhow\u001b[0m\u001b[0;34m=\u001b[0m\u001b[0mNone\u001b[0m\u001b[0;34m,\u001b[0m \u001b[0mnormalize\u001b[0m\u001b[0;34m=\u001b[0m\u001b[0mFalse\u001b[0m\u001b[0;34m)\u001b[0m\u001b[0;34m:\u001b[0m\u001b[0;34m\u001b[0m\u001b[0m\n",
      "\u001b[0;32m/Users/jaredlorince/anaconda/lib/python2.7/site-packages/pandas/core/groupby.pyc\u001b[0m in \u001b[0;36mgroupby\u001b[0;34m(obj, by, **kwds)\u001b[0m\n\u001b[1;32m   1425\u001b[0m         \u001b[0;32mraise\u001b[0m \u001b[0mTypeError\u001b[0m\u001b[0;34m(\u001b[0m\u001b[0;34m'invalid type: %s'\u001b[0m \u001b[0;34m%\u001b[0m \u001b[0mtype\u001b[0m\u001b[0;34m(\u001b[0m\u001b[0mobj\u001b[0m\u001b[0;34m)\u001b[0m\u001b[0;34m)\u001b[0m\u001b[0;34m\u001b[0m\u001b[0m\n\u001b[1;32m   1426\u001b[0m \u001b[0;34m\u001b[0m\u001b[0m\n\u001b[0;32m-> 1427\u001b[0;31m     \u001b[0;32mreturn\u001b[0m \u001b[0mklass\u001b[0m\u001b[0;34m(\u001b[0m\u001b[0mobj\u001b[0m\u001b[0;34m,\u001b[0m \u001b[0mby\u001b[0m\u001b[0;34m,\u001b[0m \u001b[0;34m**\u001b[0m\u001b[0mkwds\u001b[0m\u001b[0;34m)\u001b[0m\u001b[0;34m\u001b[0m\u001b[0m\n\u001b[0m\u001b[1;32m   1428\u001b[0m \u001b[0;34m\u001b[0m\u001b[0m\n\u001b[1;32m   1429\u001b[0m \u001b[0;34m\u001b[0m\u001b[0m\n",
      "\u001b[0;32m/Users/jaredlorince/anaconda/lib/python2.7/site-packages/pandas/core/groupby.pyc\u001b[0m in \u001b[0;36m__init__\u001b[0;34m(self, obj, keys, axis, level, grouper, exclusions, selection, as_index, sort, group_keys, squeeze, **kwargs)\u001b[0m\n\u001b[1;32m    352\u001b[0m                                                     \u001b[0mlevel\u001b[0m\u001b[0;34m=\u001b[0m\u001b[0mlevel\u001b[0m\u001b[0;34m,\u001b[0m\u001b[0;34m\u001b[0m\u001b[0m\n\u001b[1;32m    353\u001b[0m                                                     \u001b[0msort\u001b[0m\u001b[0;34m=\u001b[0m\u001b[0msort\u001b[0m\u001b[0;34m,\u001b[0m\u001b[0;34m\u001b[0m\u001b[0m\n\u001b[0;32m--> 354\u001b[0;31m                                                     mutated=self.mutated)\n\u001b[0m\u001b[1;32m    355\u001b[0m \u001b[0;34m\u001b[0m\u001b[0m\n\u001b[1;32m    356\u001b[0m         \u001b[0mself\u001b[0m\u001b[0;34m.\u001b[0m\u001b[0mobj\u001b[0m \u001b[0;34m=\u001b[0m \u001b[0mobj\u001b[0m\u001b[0;34m\u001b[0m\u001b[0m\n",
      "\u001b[0;32m/Users/jaredlorince/anaconda/lib/python2.7/site-packages/pandas/core/groupby.pyc\u001b[0m in \u001b[0;36m_get_grouper\u001b[0;34m(obj, key, axis, level, sort, mutated)\u001b[0m\n\u001b[1;32m   2381\u001b[0m \u001b[0;34m\u001b[0m\u001b[0m\n\u001b[1;32m   2382\u001b[0m         \u001b[0;32melif\u001b[0m \u001b[0mis_in_axis\u001b[0m\u001b[0;34m(\u001b[0m\u001b[0mgpr\u001b[0m\u001b[0;34m)\u001b[0m\u001b[0;34m:\u001b[0m  \u001b[0;31m# df.groupby('name')\u001b[0m\u001b[0;34m\u001b[0m\u001b[0m\n\u001b[0;32m-> 2383\u001b[0;31m             \u001b[0min_axis\u001b[0m\u001b[0;34m,\u001b[0m \u001b[0mname\u001b[0m\u001b[0;34m,\u001b[0m \u001b[0mgpr\u001b[0m \u001b[0;34m=\u001b[0m \u001b[0mTrue\u001b[0m\u001b[0;34m,\u001b[0m \u001b[0mgpr\u001b[0m\u001b[0;34m,\u001b[0m \u001b[0mobj\u001b[0m\u001b[0;34m[\u001b[0m\u001b[0mgpr\u001b[0m\u001b[0;34m]\u001b[0m\u001b[0;34m\u001b[0m\u001b[0m\n\u001b[0m\u001b[1;32m   2384\u001b[0m             \u001b[0mexclusions\u001b[0m\u001b[0;34m.\u001b[0m\u001b[0mappend\u001b[0m\u001b[0;34m(\u001b[0m\u001b[0mname\u001b[0m\u001b[0;34m)\u001b[0m\u001b[0;34m\u001b[0m\u001b[0m\n\u001b[1;32m   2385\u001b[0m \u001b[0;34m\u001b[0m\u001b[0m\n",
      "\u001b[0;32m/Users/jaredlorince/anaconda/lib/python2.7/site-packages/pandas/core/frame.pyc\u001b[0m in \u001b[0;36m__getitem__\u001b[0;34m(self, key)\u001b[0m\n\u001b[1;32m   1995\u001b[0m             \u001b[0;32mreturn\u001b[0m \u001b[0mself\u001b[0m\u001b[0;34m.\u001b[0m\u001b[0m_getitem_multilevel\u001b[0m\u001b[0;34m(\u001b[0m\u001b[0mkey\u001b[0m\u001b[0;34m)\u001b[0m\u001b[0;34m\u001b[0m\u001b[0m\n\u001b[1;32m   1996\u001b[0m         \u001b[0;32melse\u001b[0m\u001b[0;34m:\u001b[0m\u001b[0;34m\u001b[0m\u001b[0m\n\u001b[0;32m-> 1997\u001b[0;31m             \u001b[0;32mreturn\u001b[0m \u001b[0mself\u001b[0m\u001b[0;34m.\u001b[0m\u001b[0m_getitem_column\u001b[0m\u001b[0;34m(\u001b[0m\u001b[0mkey\u001b[0m\u001b[0;34m)\u001b[0m\u001b[0;34m\u001b[0m\u001b[0m\n\u001b[0m\u001b[1;32m   1998\u001b[0m \u001b[0;34m\u001b[0m\u001b[0m\n\u001b[1;32m   1999\u001b[0m     \u001b[0;32mdef\u001b[0m \u001b[0m_getitem_column\u001b[0m\u001b[0;34m(\u001b[0m\u001b[0mself\u001b[0m\u001b[0;34m,\u001b[0m \u001b[0mkey\u001b[0m\u001b[0;34m)\u001b[0m\u001b[0;34m:\u001b[0m\u001b[0;34m\u001b[0m\u001b[0m\n",
      "\u001b[0;32m/Users/jaredlorince/anaconda/lib/python2.7/site-packages/pandas/core/frame.pyc\u001b[0m in \u001b[0;36m_getitem_column\u001b[0;34m(self, key)\u001b[0m\n\u001b[1;32m   2002\u001b[0m         \u001b[0;31m# get column\u001b[0m\u001b[0;34m\u001b[0m\u001b[0;34m\u001b[0m\u001b[0m\n\u001b[1;32m   2003\u001b[0m         \u001b[0;32mif\u001b[0m \u001b[0mself\u001b[0m\u001b[0;34m.\u001b[0m\u001b[0mcolumns\u001b[0m\u001b[0;34m.\u001b[0m\u001b[0mis_unique\u001b[0m\u001b[0;34m:\u001b[0m\u001b[0;34m\u001b[0m\u001b[0m\n\u001b[0;32m-> 2004\u001b[0;31m             \u001b[0;32mreturn\u001b[0m \u001b[0mself\u001b[0m\u001b[0;34m.\u001b[0m\u001b[0m_get_item_cache\u001b[0m\u001b[0;34m(\u001b[0m\u001b[0mkey\u001b[0m\u001b[0;34m)\u001b[0m\u001b[0;34m\u001b[0m\u001b[0m\n\u001b[0m\u001b[1;32m   2005\u001b[0m \u001b[0;34m\u001b[0m\u001b[0m\n\u001b[1;32m   2006\u001b[0m         \u001b[0;31m# duplicate columns & possible reduce dimensionality\u001b[0m\u001b[0;34m\u001b[0m\u001b[0;34m\u001b[0m\u001b[0m\n",
      "\u001b[0;32m/Users/jaredlorince/anaconda/lib/python2.7/site-packages/pandas/core/generic.pyc\u001b[0m in \u001b[0;36m_get_item_cache\u001b[0;34m(self, item)\u001b[0m\n\u001b[1;32m   1348\u001b[0m         \u001b[0mres\u001b[0m \u001b[0;34m=\u001b[0m \u001b[0mcache\u001b[0m\u001b[0;34m.\u001b[0m\u001b[0mget\u001b[0m\u001b[0;34m(\u001b[0m\u001b[0mitem\u001b[0m\u001b[0;34m)\u001b[0m\u001b[0;34m\u001b[0m\u001b[0m\n\u001b[1;32m   1349\u001b[0m         \u001b[0;32mif\u001b[0m \u001b[0mres\u001b[0m \u001b[0;32mis\u001b[0m \u001b[0mNone\u001b[0m\u001b[0;34m:\u001b[0m\u001b[0;34m\u001b[0m\u001b[0m\n\u001b[0;32m-> 1350\u001b[0;31m             \u001b[0mvalues\u001b[0m \u001b[0;34m=\u001b[0m \u001b[0mself\u001b[0m\u001b[0;34m.\u001b[0m\u001b[0m_data\u001b[0m\u001b[0;34m.\u001b[0m\u001b[0mget\u001b[0m\u001b[0;34m(\u001b[0m\u001b[0mitem\u001b[0m\u001b[0;34m)\u001b[0m\u001b[0;34m\u001b[0m\u001b[0m\n\u001b[0m\u001b[1;32m   1351\u001b[0m             \u001b[0mres\u001b[0m \u001b[0;34m=\u001b[0m \u001b[0mself\u001b[0m\u001b[0;34m.\u001b[0m\u001b[0m_box_item_values\u001b[0m\u001b[0;34m(\u001b[0m\u001b[0mitem\u001b[0m\u001b[0;34m,\u001b[0m \u001b[0mvalues\u001b[0m\u001b[0;34m)\u001b[0m\u001b[0;34m\u001b[0m\u001b[0m\n\u001b[1;32m   1352\u001b[0m             \u001b[0mcache\u001b[0m\u001b[0;34m[\u001b[0m\u001b[0mitem\u001b[0m\u001b[0;34m]\u001b[0m \u001b[0;34m=\u001b[0m \u001b[0mres\u001b[0m\u001b[0;34m\u001b[0m\u001b[0m\n",
      "\u001b[0;32m/Users/jaredlorince/anaconda/lib/python2.7/site-packages/pandas/core/internals.pyc\u001b[0m in \u001b[0;36mget\u001b[0;34m(self, item, fastpath)\u001b[0m\n\u001b[1;32m   3288\u001b[0m \u001b[0;34m\u001b[0m\u001b[0m\n\u001b[1;32m   3289\u001b[0m             \u001b[0;32mif\u001b[0m \u001b[0;32mnot\u001b[0m \u001b[0misnull\u001b[0m\u001b[0;34m(\u001b[0m\u001b[0mitem\u001b[0m\u001b[0;34m)\u001b[0m\u001b[0;34m:\u001b[0m\u001b[0;34m\u001b[0m\u001b[0m\n\u001b[0;32m-> 3290\u001b[0;31m                 \u001b[0mloc\u001b[0m \u001b[0;34m=\u001b[0m \u001b[0mself\u001b[0m\u001b[0;34m.\u001b[0m\u001b[0mitems\u001b[0m\u001b[0;34m.\u001b[0m\u001b[0mget_loc\u001b[0m\u001b[0;34m(\u001b[0m\u001b[0mitem\u001b[0m\u001b[0;34m)\u001b[0m\u001b[0;34m\u001b[0m\u001b[0m\n\u001b[0m\u001b[1;32m   3291\u001b[0m             \u001b[0;32melse\u001b[0m\u001b[0;34m:\u001b[0m\u001b[0;34m\u001b[0m\u001b[0m\n\u001b[1;32m   3292\u001b[0m                 \u001b[0mindexer\u001b[0m \u001b[0;34m=\u001b[0m \u001b[0mnp\u001b[0m\u001b[0;34m.\u001b[0m\u001b[0marange\u001b[0m\u001b[0;34m(\u001b[0m\u001b[0mlen\u001b[0m\u001b[0;34m(\u001b[0m\u001b[0mself\u001b[0m\u001b[0;34m.\u001b[0m\u001b[0mitems\u001b[0m\u001b[0;34m)\u001b[0m\u001b[0;34m)\u001b[0m\u001b[0;34m[\u001b[0m\u001b[0misnull\u001b[0m\u001b[0;34m(\u001b[0m\u001b[0mself\u001b[0m\u001b[0;34m.\u001b[0m\u001b[0mitems\u001b[0m\u001b[0;34m)\u001b[0m\u001b[0;34m]\u001b[0m\u001b[0;34m\u001b[0m\u001b[0m\n",
      "\u001b[0;32m/Users/jaredlorince/anaconda/lib/python2.7/site-packages/pandas/indexes/base.pyc\u001b[0m in \u001b[0;36mget_loc\u001b[0;34m(self, key, method, tolerance)\u001b[0m\n\u001b[1;32m   1945\u001b[0m                 \u001b[0;32mreturn\u001b[0m \u001b[0mself\u001b[0m\u001b[0;34m.\u001b[0m\u001b[0m_engine\u001b[0m\u001b[0;34m.\u001b[0m\u001b[0mget_loc\u001b[0m\u001b[0;34m(\u001b[0m\u001b[0mkey\u001b[0m\u001b[0;34m)\u001b[0m\u001b[0;34m\u001b[0m\u001b[0m\n\u001b[1;32m   1946\u001b[0m             \u001b[0;32mexcept\u001b[0m \u001b[0mKeyError\u001b[0m\u001b[0;34m:\u001b[0m\u001b[0;34m\u001b[0m\u001b[0m\n\u001b[0;32m-> 1947\u001b[0;31m                 \u001b[0;32mreturn\u001b[0m \u001b[0mself\u001b[0m\u001b[0;34m.\u001b[0m\u001b[0m_engine\u001b[0m\u001b[0;34m.\u001b[0m\u001b[0mget_loc\u001b[0m\u001b[0;34m(\u001b[0m\u001b[0mself\u001b[0m\u001b[0;34m.\u001b[0m\u001b[0m_maybe_cast_indexer\u001b[0m\u001b[0;34m(\u001b[0m\u001b[0mkey\u001b[0m\u001b[0;34m)\u001b[0m\u001b[0;34m)\u001b[0m\u001b[0;34m\u001b[0m\u001b[0m\n\u001b[0m\u001b[1;32m   1948\u001b[0m \u001b[0;34m\u001b[0m\u001b[0m\n\u001b[1;32m   1949\u001b[0m         \u001b[0mindexer\u001b[0m \u001b[0;34m=\u001b[0m \u001b[0mself\u001b[0m\u001b[0;34m.\u001b[0m\u001b[0mget_indexer\u001b[0m\u001b[0;34m(\u001b[0m\u001b[0;34m[\u001b[0m\u001b[0mkey\u001b[0m\u001b[0;34m]\u001b[0m\u001b[0;34m,\u001b[0m \u001b[0mmethod\u001b[0m\u001b[0;34m=\u001b[0m\u001b[0mmethod\u001b[0m\u001b[0;34m,\u001b[0m \u001b[0mtolerance\u001b[0m\u001b[0;34m=\u001b[0m\u001b[0mtolerance\u001b[0m\u001b[0;34m)\u001b[0m\u001b[0;34m\u001b[0m\u001b[0m\n",
      "\u001b[0;32mpandas/index.pyx\u001b[0m in \u001b[0;36mpandas.index.IndexEngine.get_loc (pandas/index.c:4154)\u001b[0;34m()\u001b[0m\n",
      "\u001b[0;32mpandas/index.pyx\u001b[0m in \u001b[0;36mpandas.index.IndexEngine.get_loc (pandas/index.c:4018)\u001b[0;34m()\u001b[0m\n",
      "\u001b[0;32mpandas/hashtable.pyx\u001b[0m in \u001b[0;36mpandas.hashtable.PyObjectHashTable.get_item (pandas/hashtable.c:12368)\u001b[0;34m()\u001b[0m\n",
      "\u001b[0;32mpandas/hashtable.pyx\u001b[0m in \u001b[0;36mpandas.hashtable.PyObjectHashTable.get_item (pandas/hashtable.c:12322)\u001b[0;34m()\u001b[0m\n",
      "\u001b[0;31mKeyError\u001b[0m: 'keyword'"
     ]
    }
   ],
   "source": [
    "df_pubs = df_pubs.reset_index().pivot_table(index='date',columns='category',values='uid').fillna(0).ix[:'2015']\n",
    "df_refs = df_refs.reset_index().pivot_table(index='date',columns='category',values='cnt').fillna(0).ix[:'2015']\n",
    "df_keywords = df_refs.reset_index().pivot_table(index='date',columns='keyword',values='uid').fillna(0).ix[:'2015']"
   ]
  },
  {
   "cell_type": "code",
   "execution_count": 273,
   "metadata": {
    "collapsed": false
   },
   "outputs": [
    {
     "name": "stdout",
     "output_type": "stream",
     "text": [
      "|Acoustics|Agricultural Economics & Policy|Agricultural Engineering|Agriculture, Dairy & Animal Science|Agriculture, Multidisciplinary|Agronomy|Allergy|Anatomy & Morphology|Andrology|Anesthesiology|Anthropology|Archaeology|Architecture|Area Studies|Art|Asian Studies|Astronomy & Astrophysics|Audiology & Speech-Language Pathology|Automation & Control Systems|Behavioral Sciences|Biochemical Research Methods|Biochemistry & Molecular Biology|Biodiversity Conservation|Biology|Biophysics|Biotechnology & Applied Microbiology|Business|Business, Finance|Cardiac & Cardiovascular Systems|Cell & Tissue Engineering|Cell Biology|Chemistry, Analytical|Chemistry, Applied|Chemistry, Inorganic & Nuclear|Chemistry, Medicinal|Chemistry, Multidisciplinary|Chemistry, Organic|Chemistry, Physical|Classics|Clinical Neurology|Communication|Computer Science, Artificial Intelligence|Computer Science, Cybernetics|Computer Science, Hardware & Architecture|Computer Science, Information Systems|Computer Science, Interdisciplinary Applications|Computer Science, Software Engineering|Computer Science, Theory & Methods|Construction & Building Technology|Criminology & Penology|Critical Care Medicine|Crystallography|Cultural Studies|Dance|Demography|Dentistry, Oral Surgery & Medicine|Dermatology|Developmental Biology|Ecology|Economics|Education & Educational Research|Education, Scientific Disciplines|Education, Special|Electrochemistry|Emergency Medicine|Endocrinology & Metabolism|Energy & Fuels|Engineering, Aerospace|Engineering, Biomedical|Engineering, Chemical|Engineering, Civil|Engineering, Electrical & Electronic|Engineering, Environmental|Engineering, Geological|Engineering, Industrial|Engineering, Manufacturing|Engineering, Marine|Engineering, Mechanical|Engineering, Multidisciplinary|Engineering, Ocean|Engineering, Petroleum|Entomology|Environmental Sciences|Environmental Studies|Ergonomics|Ethics|Ethnic Studies|Evolutionary Biology|Family Studies|Film, Radio, Television|Fisheries|Folklore|Food Science & Technology|Forestry|Gastroenterology & Hepatology|Genetics & Heredity|Geochemistry & Geophysics|Geography|Geography, Physical|Geology|Geosciences, Multidisciplinary|Geriatrics & Gerontology|Gerontology|Health Care Sciences & Services|Health Policy & Services|Hematology|History|History & Philosophy Of Science|History Of Social Sciences|Horticulture|Hospitality, Leisure, Sport & Tourism|Humanities, Multidisciplinary|Imaging Science & Photographic Technology|Immunology|Industrial Relations & Labor|Infectious Diseases|Information Science & Library Science|Instruments & Instrumentation|Integrative & Complementary Medicine|International Relations|Language & Linguistics|Law|Limnology|Linguistics|Literary Reviews|Literary Theory & Criticism|Literature|Literature, African, Australian, Canadian|Literature, American|Literature, British Isles|Literature, German, Dutch, Scandinavian|Literature, Romance|Literature, Slavic|Logic|Management|Marine & Freshwater Biology|Materials Science, Biomaterials|Materials Science, Ceramics|Materials Science, Characterization & Testing|Materials Science, Coatings & Films|Materials Science, Composites|Materials Science, Multidisciplinary|Materials Science, Paper & Wood|Materials Science, Textiles|Mathematical & Computational Biology|Mathematics|Mathematics, Applied|Mathematics, Interdisciplinary Applications|Mechanics|Medical Ethics|Medical Informatics|Medical Laboratory Technology|Medicine, General & Internal|Medicine, Legal|Medicine, Research & Experimental|Medieval & Renaissance Studies|Metallurgy & Metallurgical Engineering|Meteorology & Atmospheric Sciences|Microbiology|Microscopy|Mineralogy|Mining & Mineral Processing|Multidisciplinary Sciences|Music|Mycology|Nanoscience & Nanotechnology|Neuroimaging|Neurosciences|Nuclear Science & Technology|Nursing|Nutrition & Dietetics|Obstetrics & Gynecology|Oceanography|Oncology|Operations Research & Management Science|Ophthalmology|Optics|Ornithology|Orthopedics|Otorhinolaryngology|Paleontology|Parasitology|Pathology|Pediatrics|Peripheral Vascular Disease|Pharmacology & Pharmacy|Philosophy|Physics, Applied|Physics, Atomic, Molecular & Chemical|Physics, Condensed Matter|Physics, Fluids & Plasmas|Physics, Mathematical|Physics, Multidisciplinary|Physics, Nuclear|Physics, Particles & Fields|Physiology|Planning & Development|Plant Sciences|Poetry|Political Science|Polymer Science|Primary Health Care|Psychiatry|Psychology|Psychology, Applied|Psychology, Biological|Psychology, Clinical|Psychology, Developmental|Psychology, Educational|Psychology, Experimental|Psychology, Mathematical|Psychology, Multidisciplinary|Psychology, Psychoanalysis|Psychology, Social|Public Administration|Public, Environmental & Occupational Health|Radiology, Nuclear Medicine & Medical Imaging|Rehabilitation|Religion|Remote Sensing|Reproductive Biology|Respiratory System|Rheumatology|Robotics|Social Issues|Social Sciences, Biomedical|Social Sciences, Interdisciplinary|Social Sciences, Mathematical Methods|Social Work|Sociology|Soil Science|Spectroscopy|Sport Sciences|Statistics & Probability|Substance Abuse|Surgery|Telecommunications|Theater|Thermodynamics|Toxicology|Transplantation|Transportation|Transportation Science & Technology|Tropical Medicine|Urban Studies|Urology & Nephrology|Veterinary Sciences|Virology|Water Resources|Women's Studies|Zoology 252\n"
     ]
    }
   ],
   "source": [
    "print '|'.join(df.columns),len(df.columns)"
   ]
  },
  {
   "cell_type": "code",
   "execution_count": null,
   "metadata": {
    "collapsed": false
   },
   "outputs": [],
   "source": [
    "# fig,ax = plt.subplots(1,1,figsize=(24,6))\n",
    "# (df.resample('A').sum()).divide(df.resample('A').sum().sum(1),axis=0).plot(legend=False,ax=ax)"
   ]
  },
  {
   "cell_type": "code",
   "execution_count": 240,
   "metadata": {
    "collapsed": false
   },
   "outputs": [],
   "source": [
    "#totals = df.sum(1)\n",
    "cum_totals_pubs = totals_pubs.cumsum()\n",
    "cum_totals_refs = totals_refs.cumsum()"
   ]
  },
  {
   "cell_type": "code",
   "execution_count": null,
   "metadata": {
    "collapsed": false
   },
   "outputs": [],
   "source": [
    "#top = df.sum().sort_values(ascending=False).index"
   ]
  },
  {
   "cell_type": "code",
   "execution_count": 271,
   "metadata": {
    "collapsed": false
   },
   "outputs": [
    {
     "data": {
      "text/html": [
       "\n",
       "    <div class=\"bk-root\">\n",
       "        <a href=\"http://bokeh.pydata.org\" target=\"_blank\" class=\"bk-logo bk-logo-small bk-logo-notebook\"></a>\n",
       "        <span id=\"72ebf3b0-7a05-4645-bd61-f359fc77ca39\">Loading BokehJS ...</span>\n",
       "    </div>"
      ]
     },
     "metadata": {},
     "output_type": "display_data"
    },
    {
     "data": {
      "application/javascript": [
       "\n",
       "(function(global) {\n",
       "  function now() {\n",
       "    return new Date();\n",
       "  }\n",
       "\n",
       "  var force = \"1\";\n",
       "\n",
       "  if (typeof (window._bokeh_onload_callbacks) === \"undefined\" || force !== \"\") {\n",
       "    window._bokeh_onload_callbacks = [];\n",
       "    window._bokeh_is_loading = undefined;\n",
       "  }\n",
       "\n",
       "\n",
       "  \n",
       "  if (typeof (window._bokeh_timeout) === \"undefined\" || force !== \"\") {\n",
       "    window._bokeh_timeout = Date.now() + 5000;\n",
       "    window._bokeh_failed_load = false;\n",
       "  }\n",
       "\n",
       "  var NB_LOAD_WARNING = {'data': {'text/html':\n",
       "     \"<div style='background-color: #fdd'>\\n\"+\n",
       "     \"<p>\\n\"+\n",
       "     \"BokehJS does not appear to have successfully loaded. If loading BokehJS from CDN, this \\n\"+\n",
       "     \"may be due to a slow or bad network connection. Possible fixes:\\n\"+\n",
       "     \"</p>\\n\"+\n",
       "     \"<ul>\\n\"+\n",
       "     \"<li>re-rerun `output_notebook()` to attempt to load from CDN again, or</li>\\n\"+\n",
       "     \"<li>use INLINE resources instead, as so:</li>\\n\"+\n",
       "     \"</ul>\\n\"+\n",
       "     \"<code>\\n\"+\n",
       "     \"from bokeh.resources import INLINE\\n\"+\n",
       "     \"output_notebook(resources=INLINE)\\n\"+\n",
       "     \"</code>\\n\"+\n",
       "     \"</div>\"}};\n",
       "\n",
       "  function display_loaded() {\n",
       "    if (window.Bokeh !== undefined) {\n",
       "      Bokeh.$(\"#72ebf3b0-7a05-4645-bd61-f359fc77ca39\").text(\"BokehJS successfully loaded.\");\n",
       "    } else if (Date.now() < window._bokeh_timeout) {\n",
       "      setTimeout(display_loaded, 100)\n",
       "    }\n",
       "  }\n",
       "\n",
       "  function run_callbacks() {\n",
       "    window._bokeh_onload_callbacks.forEach(function(callback) { callback() });\n",
       "    delete window._bokeh_onload_callbacks\n",
       "    console.info(\"Bokeh: all callbacks have finished\");\n",
       "  }\n",
       "\n",
       "  function load_libs(js_urls, callback) {\n",
       "    window._bokeh_onload_callbacks.push(callback);\n",
       "    if (window._bokeh_is_loading > 0) {\n",
       "      console.log(\"Bokeh: BokehJS is being loaded, scheduling callback at\", now());\n",
       "      return null;\n",
       "    }\n",
       "    if (js_urls == null || js_urls.length === 0) {\n",
       "      run_callbacks();\n",
       "      return null;\n",
       "    }\n",
       "    console.log(\"Bokeh: BokehJS not loaded, scheduling load and callback at\", now());\n",
       "    window._bokeh_is_loading = js_urls.length;\n",
       "    for (var i = 0; i < js_urls.length; i++) {\n",
       "      var url = js_urls[i];\n",
       "      var s = document.createElement('script');\n",
       "      s.src = url;\n",
       "      s.async = false;\n",
       "      s.onreadystatechange = s.onload = function() {\n",
       "        window._bokeh_is_loading--;\n",
       "        if (window._bokeh_is_loading === 0) {\n",
       "          console.log(\"Bokeh: all BokehJS libraries loaded\");\n",
       "          run_callbacks()\n",
       "        }\n",
       "      };\n",
       "      s.onerror = function() {\n",
       "        console.warn(\"failed to load library \" + url);\n",
       "      };\n",
       "      console.log(\"Bokeh: injecting script tag for BokehJS library: \", url);\n",
       "      document.getElementsByTagName(\"head\")[0].appendChild(s);\n",
       "    }\n",
       "  };var element = document.getElementById(\"72ebf3b0-7a05-4645-bd61-f359fc77ca39\");\n",
       "  if (element == null) {\n",
       "    console.log(\"Bokeh: ERROR: autoload.js configured with elementid '72ebf3b0-7a05-4645-bd61-f359fc77ca39' but no matching script tag was found. \")\n",
       "    return false;\n",
       "  }\n",
       "\n",
       "  var js_urls = ['https://cdn.pydata.org/bokeh/release/bokeh-0.12.2.min.js', 'https://cdn.pydata.org/bokeh/release/bokeh-widgets-0.12.2.min.js', 'https://cdn.pydata.org/bokeh/release/bokeh-compiler-0.12.2.min.js'];\n",
       "\n",
       "  var inline_js = [\n",
       "    function(Bokeh) {\n",
       "      Bokeh.set_log_level(\"info\");\n",
       "    },\n",
       "    \n",
       "    function(Bokeh) {\n",
       "      \n",
       "      Bokeh.$(\"#72ebf3b0-7a05-4645-bd61-f359fc77ca39\").text(\"BokehJS is loading...\");\n",
       "    },\n",
       "    function(Bokeh) {\n",
       "      console.log(\"Bokeh: injecting CSS: https://cdn.pydata.org/bokeh/release/bokeh-0.12.2.min.css\");\n",
       "      Bokeh.embed.inject_css(\"https://cdn.pydata.org/bokeh/release/bokeh-0.12.2.min.css\");\n",
       "      console.log(\"Bokeh: injecting CSS: https://cdn.pydata.org/bokeh/release/bokeh-widgets-0.12.2.min.css\");\n",
       "      Bokeh.embed.inject_css(\"https://cdn.pydata.org/bokeh/release/bokeh-widgets-0.12.2.min.css\");\n",
       "    }\n",
       "  ];\n",
       "\n",
       "  function run_inline_js() {\n",
       "    \n",
       "    if ((window.Bokeh !== undefined) || (force === \"1\")) {\n",
       "      for (var i = 0; i < inline_js.length; i++) {\n",
       "        inline_js[i](window.Bokeh);\n",
       "      }if (force === \"1\") {\n",
       "        display_loaded();\n",
       "      }} else if (Date.now() < window._bokeh_timeout) {\n",
       "      setTimeout(run_inline_js, 100);\n",
       "    } else if (!window._bokeh_failed_load) {\n",
       "      console.log(\"Bokeh: BokehJS failed to load within specified timeout.\");\n",
       "      window._bokeh_failed_load = true;\n",
       "    } else if (!force) {\n",
       "      var cell = $(\"#72ebf3b0-7a05-4645-bd61-f359fc77ca39\").parents('.cell').data().cell;\n",
       "      cell.output_area.append_execute_result(NB_LOAD_WARNING)\n",
       "    }\n",
       "\n",
       "  }\n",
       "\n",
       "  if (window._bokeh_is_loading === 0) {\n",
       "    console.log(\"Bokeh: BokehJS loaded, going straight to plotting\");\n",
       "    run_inline_js();\n",
       "  } else {\n",
       "    load_libs(js_urls, function() {\n",
       "      console.log(\"Bokeh: BokehJS plotting callback run at\", now());\n",
       "      run_inline_js();\n",
       "    });\n",
       "  }\n",
       "}(this));"
      ]
     },
     "metadata": {},
     "output_type": "display_data"
    }
   ],
   "source": [
    "output_notebook()\n",
    "\n",
    "\n",
    "\n",
    "def update(rawcount=True,cumulative=False,resample='yearly',discipline='Psychology',data_type='pubs'):\n",
    "    def do_plot():\n",
    "        df = globals()['df_'+data_type]\n",
    "        #totals = globals()['totals_'+data_type]\n",
    "        totals = totals_pubs\n",
    "        cum_totals = globals()['cum_totals_'+data_type]\n",
    "        lines = {}\n",
    "        hovers = {}\n",
    "        data = {}\n",
    "        colors = ['#%02x%02x%02x' % (a, b, c) for a,b,c in np.round(255*np.array(color_palette(\"coolwarm\",n_colors=len(discipline)))).astype(int)]\n",
    "        for i,disc in enumerate(discipline):\n",
    "            current = df[disc].resample(resample).sum()\n",
    "            totals_current = totals.resample(resample).sum()\n",
    "\n",
    "            if cumulative:\n",
    "                cum_totals_current = cum_totals.resample(resample).sum()\n",
    "                if rawcount:\n",
    "                    values = current.cumsum()\n",
    "                else:\n",
    "                    values = current.cumsum()/cum_totals_current\n",
    "            else:\n",
    "                totals_current = totals.resample(resample).sum()\n",
    "                if rawcount:\n",
    "                    values = current\n",
    "                else:\n",
    "                    values = current/totals_current\n",
    "            data[disc] = ColumnDataSource({'x':idx,'value':values,'date':datestrings,'percent':{False:values.apply(lambda x: \"{:.2f}%\".format(100*x)),True:values.apply(lambda x: \"{:,.0f}\".format(x))}[rawcount]})\n",
    "            lines[disc] = p.line('x','value',source=data[disc],color=colors[i],line_width=2)\n",
    "            hovers[disc] = HoverTool(renderers=[lines[disc]],tooltips=[('Discipline', disc),('date','@date'),('{} this period'.format(data_type),'@percent')])\n",
    "            p.add_tools(hovers[disc])\n",
    "    if discipline == 'all':\n",
    "        discpline = df.columns\n",
    "    else:\n",
    "        discipline = discipline.strip().split('|')\n",
    "        \n",
    "    p = figure(width=800,height=350,x_axis_type='datetime',tools=['pan,box_zoom,reset'])\n",
    "    p.select(dict(type=Axis, layout=\"left\"))[0].formatter.use_scientific = False\n",
    "    resample = {'Daily':'D','Weekly':'W','Monthly':'M','Yearly':'A'}[resample]\n",
    "    freq = {'D':'D','W':'W','M':'MS','A':'AS'}[resample]\n",
    "    idx = pd.date_range('1950-01-01','2015-12-31',freq=freq)\n",
    "    datestrings = idx.map(lambda x: x.strftime('%Y-%m-%d'))\n",
    "    if data_type == 'both':\n",
    "        for data_type in ('pubs','refs'):\n",
    "            do_plot()#data_type,discipline,p,resample,cumulative,rawcount)\n",
    "    else:\n",
    "        do_plot()#data_type,discipline,p,resample,cumulative,rawcount)\n",
    "    show(p)\n",
    "    \n",
    "\n",
    "\n"
   ]
  },
  {
   "cell_type": "code",
   "execution_count": 272,
   "metadata": {
    "collapsed": false
   },
   "outputs": [
    {
     "data": {
      "text/html": [
       "\n",
       "\n",
       "    <div class=\"bk-root\">\n",
       "        <div class=\"plotdiv\" id=\"6f2b0a9d-ea5f-4c1a-bbab-87864ff1b22d\"></div>\n",
       "    </div>\n",
       "<script type=\"text/javascript\">\n",
       "  \n",
       "  (function(global) {\n",
       "    function now() {\n",
       "      return new Date();\n",
       "    }\n",
       "  \n",
       "    var force = \"\";\n",
       "  \n",
       "    if (typeof (window._bokeh_onload_callbacks) === \"undefined\" || force !== \"\") {\n",
       "      window._bokeh_onload_callbacks = [];\n",
       "      window._bokeh_is_loading = undefined;\n",
       "    }\n",
       "  \n",
       "  \n",
       "    \n",
       "    if (typeof (window._bokeh_timeout) === \"undefined\" || force !== \"\") {\n",
       "      window._bokeh_timeout = Date.now() + 0;\n",
       "      window._bokeh_failed_load = false;\n",
       "    }\n",
       "  \n",
       "    var NB_LOAD_WARNING = {'data': {'text/html':\n",
       "       \"<div style='background-color: #fdd'>\\n\"+\n",
       "       \"<p>\\n\"+\n",
       "       \"BokehJS does not appear to have successfully loaded. If loading BokehJS from CDN, this \\n\"+\n",
       "       \"may be due to a slow or bad network connection. Possible fixes:\\n\"+\n",
       "       \"</p>\\n\"+\n",
       "       \"<ul>\\n\"+\n",
       "       \"<li>re-rerun `output_notebook()` to attempt to load from CDN again, or</li>\\n\"+\n",
       "       \"<li>use INLINE resources instead, as so:</li>\\n\"+\n",
       "       \"</ul>\\n\"+\n",
       "       \"<code>\\n\"+\n",
       "       \"from bokeh.resources import INLINE\\n\"+\n",
       "       \"output_notebook(resources=INLINE)\\n\"+\n",
       "       \"</code>\\n\"+\n",
       "       \"</div>\"}};\n",
       "  \n",
       "    function display_loaded() {\n",
       "      if (window.Bokeh !== undefined) {\n",
       "        Bokeh.$(\"#6f2b0a9d-ea5f-4c1a-bbab-87864ff1b22d\").text(\"BokehJS successfully loaded.\");\n",
       "      } else if (Date.now() < window._bokeh_timeout) {\n",
       "        setTimeout(display_loaded, 100)\n",
       "      }\n",
       "    }\n",
       "  \n",
       "    function run_callbacks() {\n",
       "      window._bokeh_onload_callbacks.forEach(function(callback) { callback() });\n",
       "      delete window._bokeh_onload_callbacks\n",
       "      console.info(\"Bokeh: all callbacks have finished\");\n",
       "    }\n",
       "  \n",
       "    function load_libs(js_urls, callback) {\n",
       "      window._bokeh_onload_callbacks.push(callback);\n",
       "      if (window._bokeh_is_loading > 0) {\n",
       "        console.log(\"Bokeh: BokehJS is being loaded, scheduling callback at\", now());\n",
       "        return null;\n",
       "      }\n",
       "      if (js_urls == null || js_urls.length === 0) {\n",
       "        run_callbacks();\n",
       "        return null;\n",
       "      }\n",
       "      console.log(\"Bokeh: BokehJS not loaded, scheduling load and callback at\", now());\n",
       "      window._bokeh_is_loading = js_urls.length;\n",
       "      for (var i = 0; i < js_urls.length; i++) {\n",
       "        var url = js_urls[i];\n",
       "        var s = document.createElement('script');\n",
       "        s.src = url;\n",
       "        s.async = false;\n",
       "        s.onreadystatechange = s.onload = function() {\n",
       "          window._bokeh_is_loading--;\n",
       "          if (window._bokeh_is_loading === 0) {\n",
       "            console.log(\"Bokeh: all BokehJS libraries loaded\");\n",
       "            run_callbacks()\n",
       "          }\n",
       "        };\n",
       "        s.onerror = function() {\n",
       "          console.warn(\"failed to load library \" + url);\n",
       "        };\n",
       "        console.log(\"Bokeh: injecting script tag for BokehJS library: \", url);\n",
       "        document.getElementsByTagName(\"head\")[0].appendChild(s);\n",
       "      }\n",
       "    };var element = document.getElementById(\"6f2b0a9d-ea5f-4c1a-bbab-87864ff1b22d\");\n",
       "    if (element == null) {\n",
       "      console.log(\"Bokeh: ERROR: autoload.js configured with elementid '6f2b0a9d-ea5f-4c1a-bbab-87864ff1b22d' but no matching script tag was found. \")\n",
       "      return false;\n",
       "    }\n",
       "  \n",
       "    var js_urls = [];\n",
       "  \n",
       "    var inline_js = [\n",
       "      function(Bokeh) {\n",
       "        Bokeh.$(function() {\n",
       "            var docs_json = {\"02008dce-831d-4a8c-b3c0-2247aa15da28\":{\"roots\":{\"references\":[{\"attributes\":{\"callback\":null,\"column_names\":[\"date\",\"x\",\"percent\",\"value\"],\"data\":{\"date\":[\"1950-01-01\",\"1951-01-01\",\"1952-01-01\",\"1953-01-01\",\"1954-01-01\",\"1955-01-01\",\"1956-01-01\",\"1957-01-01\",\"1958-01-01\",\"1959-01-01\",\"1960-01-01\",\"1961-01-01\",\"1962-01-01\",\"1963-01-01\",\"1964-01-01\",\"1965-01-01\",\"1966-01-01\",\"1967-01-01\",\"1968-01-01\",\"1969-01-01\",\"1970-01-01\",\"1971-01-01\",\"1972-01-01\",\"1973-01-01\",\"1974-01-01\",\"1975-01-01\",\"1976-01-01\",\"1977-01-01\",\"1978-01-01\",\"1979-01-01\",\"1980-01-01\",\"1981-01-01\",\"1982-01-01\",\"1983-01-01\",\"1984-01-01\",\"1985-01-01\",\"1986-01-01\",\"1987-01-01\",\"1988-01-01\",\"1989-01-01\",\"1990-01-01\",\"1991-01-01\",\"1992-01-01\",\"1993-01-01\",\"1994-01-01\",\"1995-01-01\",\"1996-01-01\",\"1997-01-01\",\"1998-01-01\",\"1999-01-01\",\"2000-01-01\",\"2001-01-01\",\"2002-01-01\",\"2003-01-01\",\"2004-01-01\",\"2005-01-01\",\"2006-01-01\",\"2007-01-01\",\"2008-01-01\",\"2009-01-01\",\"2010-01-01\",\"2011-01-01\",\"2012-01-01\",\"2013-01-01\",\"2014-01-01\",\"2015-01-01\"],\"percent\":[\"0.54%\",\"0.43%\",\"0.51%\",\"0.51%\",\"0.46%\",\"0.41%\",\"0.40%\",\"0.40%\",\"0.32%\",\"0.39%\",\"0.43%\",\"0.59%\",\"0.78%\",\"0.73%\",\"0.86%\",\"0.74%\",\"0.68%\",\"0.68%\",\"0.65%\",\"0.69%\",\"0.64%\",\"0.72%\",\"0.70%\",\"1.03%\",\"0.81%\",\"0.82%\",\"0.70%\",\"0.74%\",\"0.73%\",\"0.79%\",\"0.81%\",\"0.80%\",\"0.81%\",\"0.75%\",\"0.77%\",\"0.79%\",\"0.79%\",\"1.00%\",\"0.99%\",\"1.19%\",\"1.03%\",\"1.49%\",\"1.16%\",\"1.43%\",\"1.25%\",\"1.48%\",\"1.31%\",\"1.61%\",\"1.41%\",\"1.63%\",\"1.65%\",\"1.59%\",\"1.61%\",\"1.65%\",\"1.59%\",\"1.40%\",\"1.38%\",\"1.40%\",\"1.37%\",\"1.39%\",\"1.33%\",\"1.22%\",\"1.39%\",\"1.18%\",\"1.25%\",\"1.30%\"],\"value\":[0.005413774364547981,0.004313247133447182,0.005137194979048119,0.005114500299497765,0.004616100185170559,0.004065931875710044,0.004044803982576229,0.003988766331556026,0.0031576354312075903,0.003881699208366409,0.004300948178499199,0.00592970262234544,0.007847098540631064,0.007281776182268773,0.008586755607377379,0.007425031081928153,0.006846656294797459,0.006761243931483008,0.006504024930725145,0.00687308455020732,0.0064307175832924585,0.007236561776195045,0.007033540289590137,0.010315252413246222,0.008139781364503529,0.008208429486783351,0.006975774348864541,0.007433258639956471,0.0072737088101377315,0.007887140763992164,0.00814891416752844,0.008027043892175114,0.008143264235607175,0.007453485701488069,0.007668836930361724,0.007926932994305769,0.007941047074351077,0.00995447674336468,0.009924922459809998,0.011945097617985715,0.0102678383814979,0.014911156254989975,0.01161484148761944,0.014343881587209659,0.012484519864778927,0.014829645591741828,0.013097193003865224,0.016079432448020525,0.014079694859620451,0.016293037258546837,0.01653480198726267,0.015873602792691874,0.016110427062406844,0.016515337075644856,0.015866406771042518,0.013953728230183902,0.013812775162540593,0.013973397977735957,0.013715397348992884,0.013879100563924007,0.013292814933924353,0.012240996664170467,0.01386379635354144,0.01183952013775301,0.01245047629570584,0.013039069127403654],\"x\":[-631152000000.0,-599616000000.0,-568080000000.0,-536457600000.0,-504921600000.0,-473385600000.0,-441849600000.0,-410227200000.0,-378691200000.0,-347155200000.0,-315619200000.0,-283996800000.0,-252460800000.0,-220924800000.0,-189388800000.0,-157766400000.0,-126230400000.0,-94694400000.0,-63158400000.0,-31536000000.0,0.0,31536000000.0,63072000000.0,94694400000.0,126230400000.0,157766400000.0,189302400000.0,220924800000.0,252460800000.0,283996800000.0,315532800000.0,347155200000.0,378691200000.0,410227200000.0,441763200000.0,473385600000.0,504921600000.0,536457600000.0,567993600000.0,599616000000.0,631152000000.0,662688000000.0,694224000000.0,725846400000.0,757382400000.0,788918400000.0,820454400000.0,852076800000.0,883612800000.0,915148800000.0,946684800000.0,978307200000.0,1009843200000.0,1041379200000.0,1072915200000.0,1104537600000.0,1136073600000.0,1167609600000.0,1199145600000.0,1230768000000.0,1262304000000.0,1293840000000.0,1325376000000.0,1356998400000.0,1388534400000.0,1420070400000.0]}},\"id\":\"dc2da5ee-9818-4266-9c3e-a068d24f4d95\",\"type\":\"ColumnDataSource\"},{\"attributes\":{\"line_color\":{\"value\":\"#dddcdc\"},\"line_width\":{\"value\":2},\"x\":{\"field\":\"x\"},\"y\":{\"field\":\"value\"}},\"id\":\"8871e992-19d7-4d80-9246-f7cd074e6e2a\",\"type\":\"Line\"},{\"attributes\":{\"data_source\":{\"id\":\"a1f01e84-08ac-4b80-bfee-91ba96e683bf\",\"type\":\"ColumnDataSource\"},\"glyph\":{\"id\":\"b04954c6-7298-4e62-b314-843416fedcb9\",\"type\":\"Line\"},\"hover_glyph\":null,\"nonselection_glyph\":{\"id\":\"ee9e3cbc-3848-4f89-9c4c-7819b12feb10\",\"type\":\"Line\"},\"selection_glyph\":null},\"id\":\"a6f4129d-da53-4d54-8067-d5ec5f7b83c7\",\"type\":\"GlyphRenderer\"},{\"attributes\":{\"days\":[1,15]},\"id\":\"eed29e29-0035-484e-af51-12718a91e94b\",\"type\":\"DaysTicker\"},{\"attributes\":{\"months\":[0,4,8]},\"id\":\"2fb927e5-3e0d-4de6-9ada-c58e7c1bede8\",\"type\":\"MonthsTicker\"},{\"attributes\":{},\"id\":\"b17bb66b-b337-4059-909c-af714327de54\",\"type\":\"YearsTicker\"},{\"attributes\":{\"months\":[0,1,2,3,4,5,6,7,8,9,10,11]},\"id\":\"ba177a75-3a09-4183-9bd2-1afc951d2b81\",\"type\":\"MonthsTicker\"},{\"attributes\":{\"base\":24,\"mantissas\":[1,2,4,6,8,12],\"max_interval\":43200000.0,\"min_interval\":3600000.0,\"num_minor_ticks\":0},\"id\":\"20fb6ff2-f494-4dbb-a41b-fc4e49fb7411\",\"type\":\"AdaptiveTicker\"},{\"attributes\":{\"days\":[1,8,15,22]},\"id\":\"1cff6794-261a-4721-9b02-382b60803106\",\"type\":\"DaysTicker\"},{\"attributes\":{\"days\":[1,4,7,10,13,16,19,22,25,28]},\"id\":\"dfb8bac6-8d28-4862-b145-e9cb04a85b5b\",\"type\":\"DaysTicker\"},{\"attributes\":{\"use_scientific\":false},\"id\":\"0e7d6f69-ac50-4d33-8065-57fde082df80\",\"type\":\"BasicTickFormatter\"},{\"attributes\":{\"line_color\":{\"value\":\"#dddcdc\"},\"line_width\":{\"value\":2},\"x\":{\"field\":\"x\"},\"y\":{\"field\":\"value\"}},\"id\":\"b04954c6-7298-4e62-b314-843416fedcb9\",\"type\":\"Line\"},{\"attributes\":{\"bottom_units\":\"screen\",\"fill_alpha\":{\"value\":0.5},\"fill_color\":{\"value\":\"lightgrey\"},\"left_units\":\"screen\",\"level\":\"overlay\",\"line_alpha\":{\"value\":1.0},\"line_color\":{\"value\":\"black\"},\"line_dash\":[4,4],\"line_width\":{\"value\":2},\"plot\":null,\"render_mode\":\"css\",\"right_units\":\"screen\",\"top_units\":\"screen\"},\"id\":\"911b7262-c95e-4e17-b754-cfb43bea981e\",\"type\":\"BoxAnnotation\"},{\"attributes\":{\"callback\":null,\"plot\":{\"id\":\"abf75a7b-5a2e-42f7-a6f8-a5b5174f5714\",\"subtype\":\"Figure\",\"type\":\"Plot\"},\"renderers\":[{\"id\":\"e7ee1bfb-06d6-46c3-98c7-696b68603f6b\",\"type\":\"GlyphRenderer\"}],\"tooltips\":[[\"Discipline\",\"Genetics & Heredity\"],[\"date\",\"@date\"],[\"pubs this period\",\"@percent\"]]},\"id\":\"e5554dc8-b715-45d0-ab8b-7307f7782349\",\"type\":\"HoverTool\"},{\"attributes\":{},\"id\":\"f35c4493-7a5b-4930-b1dc-e350f3c625a5\",\"type\":\"DatetimeTickFormatter\"},{\"attributes\":{\"plot\":{\"id\":\"abf75a7b-5a2e-42f7-a6f8-a5b5174f5714\",\"subtype\":\"Figure\",\"type\":\"Plot\"},\"ticker\":{\"id\":\"fb3fdb59-b5da-4afc-aa5f-f30f4ab5af5b\",\"type\":\"DatetimeTicker\"}},\"id\":\"4e5a5f1a-26bc-4498-a038-6d4a5cf4bb90\",\"type\":\"Grid\"},{\"attributes\":{\"callback\":null},\"id\":\"6e959726-246f-4e05-a490-fe089b9dab12\",\"type\":\"DataRange1d\"},{\"attributes\":{\"callback\":null,\"column_names\":[\"date\",\"x\",\"percent\",\"value\"],\"data\":{\"date\":[\"1950-01-01\",\"1951-01-01\",\"1952-01-01\",\"1953-01-01\",\"1954-01-01\",\"1955-01-01\",\"1956-01-01\",\"1957-01-01\",\"1958-01-01\",\"1959-01-01\",\"1960-01-01\",\"1961-01-01\",\"1962-01-01\",\"1963-01-01\",\"1964-01-01\",\"1965-01-01\",\"1966-01-01\",\"1967-01-01\",\"1968-01-01\",\"1969-01-01\",\"1970-01-01\",\"1971-01-01\",\"1972-01-01\",\"1973-01-01\",\"1974-01-01\",\"1975-01-01\",\"1976-01-01\",\"1977-01-01\",\"1978-01-01\",\"1979-01-01\",\"1980-01-01\",\"1981-01-01\",\"1982-01-01\",\"1983-01-01\",\"1984-01-01\",\"1985-01-01\",\"1986-01-01\",\"1987-01-01\",\"1988-01-01\",\"1989-01-01\",\"1990-01-01\",\"1991-01-01\",\"1992-01-01\",\"1993-01-01\",\"1994-01-01\",\"1995-01-01\",\"1996-01-01\",\"1997-01-01\",\"1998-01-01\",\"1999-01-01\",\"2000-01-01\",\"2001-01-01\",\"2002-01-01\",\"2003-01-01\",\"2004-01-01\",\"2005-01-01\",\"2006-01-01\",\"2007-01-01\",\"2008-01-01\",\"2009-01-01\",\"2010-01-01\",\"2011-01-01\",\"2012-01-01\",\"2013-01-01\",\"2014-01-01\",\"2015-01-01\"],\"percent\":[\"0.01%\",\"0.05%\",\"0.07%\",\"0.11%\",\"0.16%\",\"0.17%\",\"0.18%\",\"0.16%\",\"0.19%\",\"0.17%\",\"0.18%\",\"0.23%\",\"0.27%\",\"0.27%\",\"0.29%\",\"0.27%\",\"0.30%\",\"0.32%\",\"0.32%\",\"0.37%\",\"0.39%\",\"0.41%\",\"0.44%\",\"0.50%\",\"0.51%\",\"0.51%\",\"0.53%\",\"0.54%\",\"0.56%\",\"0.61%\",\"0.65%\",\"0.68%\",\"0.70%\",\"0.69%\",\"0.72%\",\"0.72%\",\"0.78%\",\"0.84%\",\"0.88%\",\"0.95%\",\"1.02%\",\"1.12%\",\"1.16%\",\"1.26%\",\"1.36%\",\"1.41%\",\"1.48%\",\"1.54%\",\"1.65%\",\"1.73%\",\"1.80%\",\"1.85%\",\"1.87%\",\"1.89%\",\"1.92%\",\"1.93%\",\"1.88%\",\"1.87%\",\"1.84%\",\"1.80%\",\"1.82%\",\"1.75%\",\"1.75%\",\"1.67%\",\"1.53%\",\"1.39%\"],\"value\":[0.00014612490664242075,0.000526292178597962,0.0006920198809443347,0.001085240726124704,0.0015597094452457951,0.001665618316769405,0.0017792243111797096,0.0016049309369265488,0.0018949465769044097,0.0016898791340915497,0.0018227374469648883,0.0022872644307031,0.0026660808808065327,0.0027217758214581503,0.002895696055854092,0.00271628615758823,0.002961434424235675,0.0031680207273838373,0.003245798664702779,0.003655460926165726,0.003895588241854821,0.004076266016484719,0.004370523787705895,0.004989626762951585,0.005138420562090027,0.005084312907620941,0.005281390974188465,0.005356354813046128,0.005618674746032814,0.006145657733433885,0.006457910374990662,0.006765100748786704,0.006951304040464508,0.006915162242907974,0.007206222183179825,0.0072393535501785325,0.00779249554538627,0.008351208257169679,0.008845664986892413,0.009458530008637717,0.010225469683988722,0.011203678687833016,0.011628344846528417,0.012619686517074478,0.013616724622081432,0.014065728676238098,0.014767179671689624,0.015412010371219973,0.016478216672949134,0.017275847363142065,0.018003263270433115,0.01845104827914417,0.018666280260163592,0.018894143963224905,0.019155812514437077,0.019258211221090164,0.018771217163025766,0.018745183194782446,0.018365802510745478,0.018035324316003788,0.018191546304364304,0.017543643734601246,0.017549338858103346,0.016737217278338806,0.01528852933925846,0.013927165243381308],\"x\":[-631152000000.0,-599616000000.0,-568080000000.0,-536457600000.0,-504921600000.0,-473385600000.0,-441849600000.0,-410227200000.0,-378691200000.0,-347155200000.0,-315619200000.0,-283996800000.0,-252460800000.0,-220924800000.0,-189388800000.0,-157766400000.0,-126230400000.0,-94694400000.0,-63158400000.0,-31536000000.0,0.0,31536000000.0,63072000000.0,94694400000.0,126230400000.0,157766400000.0,189302400000.0,220924800000.0,252460800000.0,283996800000.0,315532800000.0,347155200000.0,378691200000.0,410227200000.0,441763200000.0,473385600000.0,504921600000.0,536457600000.0,567993600000.0,599616000000.0,631152000000.0,662688000000.0,694224000000.0,725846400000.0,757382400000.0,788918400000.0,820454400000.0,852076800000.0,883612800000.0,915148800000.0,946684800000.0,978307200000.0,1009843200000.0,1041379200000.0,1072915200000.0,1104537600000.0,1136073600000.0,1167609600000.0,1199145600000.0,1230768000000.0,1262304000000.0,1293840000000.0,1325376000000.0,1356998400000.0,1388534400000.0,1420070400000.0]}},\"id\":\"a1f01e84-08ac-4b80-bfee-91ba96e683bf\",\"type\":\"ColumnDataSource\"},{\"attributes\":{\"active_drag\":\"auto\",\"active_scroll\":\"auto\",\"active_tap\":\"auto\",\"tools\":[{\"id\":\"add2389d-ca99-4377-ac3d-1926c6ac109b\",\"type\":\"PanTool\"},{\"id\":\"bbfbfa2d-ca40-4591-b2fb-9c1168c76f55\",\"type\":\"BoxZoomTool\"},{\"id\":\"c2a1761b-270a-4c6f-a8a6-e64a43fe0f31\",\"type\":\"ResetTool\"},{\"id\":\"e5554dc8-b715-45d0-ab8b-7307f7782349\",\"type\":\"HoverTool\"},{\"id\":\"60cd924a-bfd3-4305-97db-e3d327cbf414\",\"type\":\"HoverTool\"}]},\"id\":\"a393ab52-5907-47a2-bac3-dbf020e6b9d7\",\"type\":\"Toolbar\"},{\"attributes\":{\"num_minor_ticks\":5},\"id\":\"fb3fdb59-b5da-4afc-aa5f-f30f4ab5af5b\",\"type\":\"DatetimeTicker\"},{\"attributes\":{\"days\":[1,2,3,4,5,6,7,8,9,10,11,12,13,14,15,16,17,18,19,20,21,22,23,24,25,26,27,28,29,30,31]},\"id\":\"a291bba8-bf39-4517-b41a-3762cb602701\",\"type\":\"DaysTicker\"},{\"attributes\":{\"dimension\":1,\"plot\":{\"id\":\"abf75a7b-5a2e-42f7-a6f8-a5b5174f5714\",\"subtype\":\"Figure\",\"type\":\"Plot\"},\"ticker\":{\"id\":\"60d5215e-66fa-40a6-932d-7d253c7cc12d\",\"type\":\"BasicTicker\"}},\"id\":\"551ffaf4-c5d4-4289-a924-a079b4b936f2\",\"type\":\"Grid\"},{\"attributes\":{\"data_source\":{\"id\":\"dc2da5ee-9818-4266-9c3e-a068d24f4d95\",\"type\":\"ColumnDataSource\"},\"glyph\":{\"id\":\"8871e992-19d7-4d80-9246-f7cd074e6e2a\",\"type\":\"Line\"},\"hover_glyph\":null,\"nonselection_glyph\":{\"id\":\"25fc9e7a-654b-4acb-9cb8-ba8e517fa4c7\",\"type\":\"Line\"},\"selection_glyph\":null},\"id\":\"e7ee1bfb-06d6-46c3-98c7-696b68603f6b\",\"type\":\"GlyphRenderer\"},{\"attributes\":{\"line_alpha\":{\"value\":0.1},\"line_color\":{\"value\":\"#1f77b4\"},\"line_width\":{\"value\":2},\"x\":{\"field\":\"x\"},\"y\":{\"field\":\"value\"}},\"id\":\"25fc9e7a-654b-4acb-9cb8-ba8e517fa4c7\",\"type\":\"Line\"},{\"attributes\":{\"base\":60,\"mantissas\":[1,2,5,10,15,20,30],\"max_interval\":1800000.0,\"min_interval\":1000.0,\"num_minor_ticks\":0},\"id\":\"6c6b6600-d6cc-413b-8925-25371270e5b8\",\"type\":\"AdaptiveTicker\"},{\"attributes\":{},\"id\":\"7c0f251e-2190-42f0-815a-61c2cba18d53\",\"type\":\"ToolEvents\"},{\"attributes\":{\"line_alpha\":{\"value\":0.1},\"line_color\":{\"value\":\"#1f77b4\"},\"line_width\":{\"value\":2},\"x\":{\"field\":\"x\"},\"y\":{\"field\":\"value\"}},\"id\":\"ee9e3cbc-3848-4f89-9c4c-7819b12feb10\",\"type\":\"Line\"},{\"attributes\":{\"overlay\":{\"id\":\"911b7262-c95e-4e17-b754-cfb43bea981e\",\"type\":\"BoxAnnotation\"},\"plot\":{\"id\":\"abf75a7b-5a2e-42f7-a6f8-a5b5174f5714\",\"subtype\":\"Figure\",\"type\":\"Plot\"}},\"id\":\"bbfbfa2d-ca40-4591-b2fb-9c1168c76f55\",\"type\":\"BoxZoomTool\"},{\"attributes\":{},\"id\":\"60d5215e-66fa-40a6-932d-7d253c7cc12d\",\"type\":\"BasicTicker\"},{\"attributes\":{\"below\":[{\"id\":\"7f8088eb-4f5e-4b21-8298-1ae79b7e4f61\",\"type\":\"DatetimeAxis\"}],\"left\":[{\"id\":\"b24eb39c-468b-4e7c-8494-6573222e2650\",\"type\":\"LinearAxis\"}],\"plot_height\":350,\"plot_width\":800,\"renderers\":[{\"id\":\"7f8088eb-4f5e-4b21-8298-1ae79b7e4f61\",\"type\":\"DatetimeAxis\"},{\"id\":\"4e5a5f1a-26bc-4498-a038-6d4a5cf4bb90\",\"type\":\"Grid\"},{\"id\":\"b24eb39c-468b-4e7c-8494-6573222e2650\",\"type\":\"LinearAxis\"},{\"id\":\"551ffaf4-c5d4-4289-a924-a079b4b936f2\",\"type\":\"Grid\"},{\"id\":\"911b7262-c95e-4e17-b754-cfb43bea981e\",\"type\":\"BoxAnnotation\"},{\"id\":\"e7ee1bfb-06d6-46c3-98c7-696b68603f6b\",\"type\":\"GlyphRenderer\"},{\"id\":\"a6f4129d-da53-4d54-8067-d5ec5f7b83c7\",\"type\":\"GlyphRenderer\"}],\"title\":{\"id\":\"fcb2e047-12ce-48f6-9726-596e8b936fe4\",\"type\":\"Title\"},\"tool_events\":{\"id\":\"7c0f251e-2190-42f0-815a-61c2cba18d53\",\"type\":\"ToolEvents\"},\"toolbar\":{\"id\":\"a393ab52-5907-47a2-bac3-dbf020e6b9d7\",\"type\":\"Toolbar\"},\"x_range\":{\"id\":\"81383dd8-07cf-4b12-9ecd-3169e91b431d\",\"type\":\"DataRange1d\"},\"y_range\":{\"id\":\"6e959726-246f-4e05-a490-fe089b9dab12\",\"type\":\"DataRange1d\"}},\"id\":\"abf75a7b-5a2e-42f7-a6f8-a5b5174f5714\",\"subtype\":\"Figure\",\"type\":\"Plot\"},{\"attributes\":{\"months\":[0,6]},\"id\":\"c3037e19-9296-429e-b8ae-f435cddc8e7e\",\"type\":\"MonthsTicker\"},{\"attributes\":{\"callback\":null},\"id\":\"81383dd8-07cf-4b12-9ecd-3169e91b431d\",\"type\":\"DataRange1d\"},{\"attributes\":{\"plot\":null,\"text\":null},\"id\":\"fcb2e047-12ce-48f6-9726-596e8b936fe4\",\"type\":\"Title\"},{\"attributes\":{\"months\":[0,2,4,6,8,10]},\"id\":\"b392c2c6-beeb-4d13-a96f-c8feca543fd1\",\"type\":\"MonthsTicker\"},{\"attributes\":{\"plot\":{\"id\":\"abf75a7b-5a2e-42f7-a6f8-a5b5174f5714\",\"subtype\":\"Figure\",\"type\":\"Plot\"}},\"id\":\"add2389d-ca99-4377-ac3d-1926c6ac109b\",\"type\":\"PanTool\"},{\"attributes\":{\"plot\":{\"id\":\"abf75a7b-5a2e-42f7-a6f8-a5b5174f5714\",\"subtype\":\"Figure\",\"type\":\"Plot\"}},\"id\":\"c2a1761b-270a-4c6f-a8a6-e64a43fe0f31\",\"type\":\"ResetTool\"},{\"attributes\":{\"formatter\":{\"id\":\"f35c4493-7a5b-4930-b1dc-e350f3c625a5\",\"type\":\"DatetimeTickFormatter\"},\"plot\":{\"id\":\"abf75a7b-5a2e-42f7-a6f8-a5b5174f5714\",\"subtype\":\"Figure\",\"type\":\"Plot\"},\"ticker\":{\"id\":\"fb3fdb59-b5da-4afc-aa5f-f30f4ab5af5b\",\"type\":\"DatetimeTicker\"}},\"id\":\"7f8088eb-4f5e-4b21-8298-1ae79b7e4f61\",\"type\":\"DatetimeAxis\"},{\"attributes\":{\"max_interval\":500.0,\"num_minor_ticks\":0},\"id\":\"4f1db8a7-a412-4104-828e-4171850df527\",\"type\":\"AdaptiveTicker\"},{\"attributes\":{\"callback\":null,\"plot\":{\"id\":\"abf75a7b-5a2e-42f7-a6f8-a5b5174f5714\",\"subtype\":\"Figure\",\"type\":\"Plot\"},\"renderers\":[{\"id\":\"a6f4129d-da53-4d54-8067-d5ec5f7b83c7\",\"type\":\"GlyphRenderer\"}],\"tooltips\":[[\"Discipline\",\"Genetics & Heredity\"],[\"date\",\"@date\"],[\"refs this period\",\"@percent\"]]},\"id\":\"60cd924a-bfd3-4305-97db-e3d327cbf414\",\"type\":\"HoverTool\"},{\"attributes\":{\"formatter\":{\"id\":\"0e7d6f69-ac50-4d33-8065-57fde082df80\",\"type\":\"BasicTickFormatter\"},\"plot\":{\"id\":\"abf75a7b-5a2e-42f7-a6f8-a5b5174f5714\",\"subtype\":\"Figure\",\"type\":\"Plot\"},\"ticker\":{\"id\":\"60d5215e-66fa-40a6-932d-7d253c7cc12d\",\"type\":\"BasicTicker\"}},\"id\":\"b24eb39c-468b-4e7c-8494-6573222e2650\",\"type\":\"LinearAxis\"}],\"root_ids\":[\"abf75a7b-5a2e-42f7-a6f8-a5b5174f5714\"]},\"title\":\"Bokeh Application\",\"version\":\"0.12.2\"}};\n",
       "            var render_items = [{\"docid\":\"02008dce-831d-4a8c-b3c0-2247aa15da28\",\"elementid\":\"6f2b0a9d-ea5f-4c1a-bbab-87864ff1b22d\",\"modelid\":\"abf75a7b-5a2e-42f7-a6f8-a5b5174f5714\"}];\n",
       "            \n",
       "            Bokeh.embed.embed_items(docs_json, render_items);\n",
       "        });\n",
       "      },\n",
       "      function(Bokeh) {\n",
       "      }\n",
       "    ];\n",
       "  \n",
       "    function run_inline_js() {\n",
       "      \n",
       "      if ((window.Bokeh !== undefined) || (force === \"1\")) {\n",
       "        for (var i = 0; i < inline_js.length; i++) {\n",
       "          inline_js[i](window.Bokeh);\n",
       "        }if (force === \"1\") {\n",
       "          display_loaded();\n",
       "        }} else if (Date.now() < window._bokeh_timeout) {\n",
       "        setTimeout(run_inline_js, 100);\n",
       "      } else if (!window._bokeh_failed_load) {\n",
       "        console.log(\"Bokeh: BokehJS failed to load within specified timeout.\");\n",
       "        window._bokeh_failed_load = true;\n",
       "      } else if (!force) {\n",
       "        var cell = $(\"#6f2b0a9d-ea5f-4c1a-bbab-87864ff1b22d\").parents('.cell').data().cell;\n",
       "        cell.output_area.append_execute_result(NB_LOAD_WARNING)\n",
       "      }\n",
       "  \n",
       "    }\n",
       "  \n",
       "    if (window._bokeh_is_loading === 0) {\n",
       "      console.log(\"Bokeh: BokehJS loaded, going straight to plotting\");\n",
       "      run_inline_js();\n",
       "    } else {\n",
       "      load_libs(js_urls, function() {\n",
       "        console.log(\"Bokeh: BokehJS plotting callback run at\", now());\n",
       "        run_inline_js();\n",
       "      });\n",
       "    }\n",
       "  }(this));\n",
       "</script>"
      ]
     },
     "metadata": {},
     "output_type": "display_data"
    }
   ],
   "source": [
    "from ipywidgets import Dropdown,Text,Checkbox,interact\n",
    "\n",
    "disc_select = Text(description='Discipline',value='Psychology')\n",
    "rawcount_select = Checkbox(description = 'rawcount',value=True)\n",
    "cumulative_select = Checkbox(description='cumulativ',value=False)\n",
    "resample_select = Dropdown(description=\"Resample\",options=[\"Daily\",\"Weekly\",\"Monthly\",\"Yearly\"],value=\"Yearly\")\n",
    "data_select = Dropdown(description=\"Data\",options=[\"pubs\",\"refs\",\"both\"],value=\"pubs\")\n",
    "\n",
    "\n",
    "\n",
    "interact(update,rawcount=rawcount_select,cumulative=cumulative_select,\n",
    "         disc=disc_select,resample=resample_select,data_type=data_select);\n"
   ]
  },
  {
   "cell_type": "code",
   "execution_count": 275,
   "metadata": {
    "collapsed": false
   },
   "outputs": [
    {
     "data": {
      "text/plain": [
       "'Psychiatry|Psychology|Psychology, Applied|Psychology, Biological|Psychology, Clinical|Psychology, Developmental|Psychology, Educational|Psychology, Experimental|Psychology, Mathematical|Psychology, Multidisciplinary|Psychology, Psychoanalysis|Psychology, Social'"
      ]
     },
     "execution_count": 275,
     "metadata": {},
     "output_type": "execute_result"
    }
   ],
   "source": [
    "'|'.join([x for x in df.columns if 'psych' in x.lower()])"
   ]
  },
  {
   "cell_type": "code",
   "execution_count": null,
   "metadata": {
    "collapsed": false
   },
   "outputs": [],
   "source": [
    "x = df.resample('AS').sum().cumsum().T\n",
    "'|'.join(x.index[(x['2000']<10000).ix[:,0]])"
   ]
  },
  {
   "cell_type": "code",
   "execution_count": 222,
   "metadata": {
    "collapsed": false
   },
   "outputs": [
    {
     "data": {
      "text/plain": [
       "1066017645"
      ]
     },
     "execution_count": 222,
     "metadata": {},
     "output_type": "execute_result"
    }
   ],
   "source": [
    "#Genetics & Heredity|Mathematical & Computational Biology|Medical Informatics\n",
    "totals.sum()"
   ]
  },
  {
   "cell_type": "code",
   "execution_count": 248,
   "metadata": {
    "collapsed": false
   },
   "outputs": [
    {
     "data": {
      "text/html": [
       "<div>\n",
       "<table border=\"1\" class=\"dataframe\">\n",
       "  <thead>\n",
       "    <tr style=\"text-align: right;\">\n",
       "      <th>category</th>\n",
       "      <th></th>\n",
       "      <th>Acoustics</th>\n",
       "      <th>Agricultural Economics &amp; Policy</th>\n",
       "      <th>Agricultural Engineering</th>\n",
       "      <th>Agriculture, Dairy &amp; Animal Science</th>\n",
       "      <th>Agriculture, Multidisciplinary</th>\n",
       "      <th>Agronomy</th>\n",
       "      <th>Allergy</th>\n",
       "      <th>Anatomy &amp; Morphology</th>\n",
       "      <th>Andrology</th>\n",
       "      <th>...</th>\n",
       "      <th>Transportation</th>\n",
       "      <th>Transportation Science &amp; Technology</th>\n",
       "      <th>Tropical Medicine</th>\n",
       "      <th>Urban Studies</th>\n",
       "      <th>Urology &amp; Nephrology</th>\n",
       "      <th>Veterinary Sciences</th>\n",
       "      <th>Virology</th>\n",
       "      <th>Water Resources</th>\n",
       "      <th>Women's Studies</th>\n",
       "      <th>Zoology</th>\n",
       "    </tr>\n",
       "    <tr>\n",
       "      <th>date</th>\n",
       "      <th></th>\n",
       "      <th></th>\n",
       "      <th></th>\n",
       "      <th></th>\n",
       "      <th></th>\n",
       "      <th></th>\n",
       "      <th></th>\n",
       "      <th></th>\n",
       "      <th></th>\n",
       "      <th></th>\n",
       "      <th></th>\n",
       "      <th></th>\n",
       "      <th></th>\n",
       "      <th></th>\n",
       "      <th></th>\n",
       "      <th></th>\n",
       "      <th></th>\n",
       "      <th></th>\n",
       "      <th></th>\n",
       "      <th></th>\n",
       "      <th></th>\n",
       "    </tr>\n",
       "  </thead>\n",
       "  <tbody>\n",
       "    <tr>\n",
       "      <th>1950-01-01</th>\n",
       "      <td>0.0</td>\n",
       "      <td>304.0</td>\n",
       "      <td>0.0</td>\n",
       "      <td>0.0</td>\n",
       "      <td>828.0</td>\n",
       "      <td>473.0</td>\n",
       "      <td>171.0</td>\n",
       "      <td>135.0</td>\n",
       "      <td>889.0</td>\n",
       "      <td>0.0</td>\n",
       "      <td>...</td>\n",
       "      <td>0.0</td>\n",
       "      <td>0.0</td>\n",
       "      <td>246.0</td>\n",
       "      <td>0.0</td>\n",
       "      <td>256.0</td>\n",
       "      <td>427.0</td>\n",
       "      <td>0.0</td>\n",
       "      <td>0.0</td>\n",
       "      <td>0.0</td>\n",
       "      <td>566.0</td>\n",
       "    </tr>\n",
       "    <tr>\n",
       "      <th>1950-01-07</th>\n",
       "      <td>0.0</td>\n",
       "      <td>0.0</td>\n",
       "      <td>0.0</td>\n",
       "      <td>0.0</td>\n",
       "      <td>0.0</td>\n",
       "      <td>0.0</td>\n",
       "      <td>0.0</td>\n",
       "      <td>0.0</td>\n",
       "      <td>0.0</td>\n",
       "      <td>0.0</td>\n",
       "      <td>...</td>\n",
       "      <td>0.0</td>\n",
       "      <td>0.0</td>\n",
       "      <td>0.0</td>\n",
       "      <td>0.0</td>\n",
       "      <td>0.0</td>\n",
       "      <td>0.0</td>\n",
       "      <td>0.0</td>\n",
       "      <td>0.0</td>\n",
       "      <td>0.0</td>\n",
       "      <td>0.0</td>\n",
       "    </tr>\n",
       "    <tr>\n",
       "      <th>1950-01-14</th>\n",
       "      <td>0.0</td>\n",
       "      <td>0.0</td>\n",
       "      <td>0.0</td>\n",
       "      <td>0.0</td>\n",
       "      <td>0.0</td>\n",
       "      <td>0.0</td>\n",
       "      <td>0.0</td>\n",
       "      <td>0.0</td>\n",
       "      <td>0.0</td>\n",
       "      <td>0.0</td>\n",
       "      <td>...</td>\n",
       "      <td>0.0</td>\n",
       "      <td>0.0</td>\n",
       "      <td>0.0</td>\n",
       "      <td>0.0</td>\n",
       "      <td>0.0</td>\n",
       "      <td>0.0</td>\n",
       "      <td>0.0</td>\n",
       "      <td>0.0</td>\n",
       "      <td>0.0</td>\n",
       "      <td>0.0</td>\n",
       "    </tr>\n",
       "    <tr>\n",
       "      <th>1950-01-15</th>\n",
       "      <td>0.0</td>\n",
       "      <td>0.0</td>\n",
       "      <td>0.0</td>\n",
       "      <td>0.0</td>\n",
       "      <td>0.0</td>\n",
       "      <td>0.0</td>\n",
       "      <td>0.0</td>\n",
       "      <td>0.0</td>\n",
       "      <td>0.0</td>\n",
       "      <td>0.0</td>\n",
       "      <td>...</td>\n",
       "      <td>0.0</td>\n",
       "      <td>0.0</td>\n",
       "      <td>0.0</td>\n",
       "      <td>0.0</td>\n",
       "      <td>0.0</td>\n",
       "      <td>0.0</td>\n",
       "      <td>0.0</td>\n",
       "      <td>0.0</td>\n",
       "      <td>0.0</td>\n",
       "      <td>0.0</td>\n",
       "    </tr>\n",
       "    <tr>\n",
       "      <th>1950-01-18</th>\n",
       "      <td>0.0</td>\n",
       "      <td>0.0</td>\n",
       "      <td>0.0</td>\n",
       "      <td>0.0</td>\n",
       "      <td>0.0</td>\n",
       "      <td>0.0</td>\n",
       "      <td>0.0</td>\n",
       "      <td>0.0</td>\n",
       "      <td>0.0</td>\n",
       "      <td>0.0</td>\n",
       "      <td>...</td>\n",
       "      <td>0.0</td>\n",
       "      <td>0.0</td>\n",
       "      <td>0.0</td>\n",
       "      <td>0.0</td>\n",
       "      <td>0.0</td>\n",
       "      <td>0.0</td>\n",
       "      <td>0.0</td>\n",
       "      <td>0.0</td>\n",
       "      <td>0.0</td>\n",
       "      <td>0.0</td>\n",
       "    </tr>\n",
       "  </tbody>\n",
       "</table>\n",
       "<p>5 rows × 252 columns</p>\n",
       "</div>"
      ],
      "text/plain": [
       "category         Acoustics  Agricultural Economics & Policy  \\\n",
       "date                                                          \n",
       "1950-01-01  0.0      304.0                              0.0   \n",
       "1950-01-07  0.0        0.0                              0.0   \n",
       "1950-01-14  0.0        0.0                              0.0   \n",
       "1950-01-15  0.0        0.0                              0.0   \n",
       "1950-01-18  0.0        0.0                              0.0   \n",
       "\n",
       "category    Agricultural Engineering  Agriculture, Dairy & Animal Science  \\\n",
       "date                                                                        \n",
       "1950-01-01                       0.0                                828.0   \n",
       "1950-01-07                       0.0                                  0.0   \n",
       "1950-01-14                       0.0                                  0.0   \n",
       "1950-01-15                       0.0                                  0.0   \n",
       "1950-01-18                       0.0                                  0.0   \n",
       "\n",
       "category    Agriculture, Multidisciplinary  Agronomy  Allergy  \\\n",
       "date                                                            \n",
       "1950-01-01                           473.0     171.0    135.0   \n",
       "1950-01-07                             0.0       0.0      0.0   \n",
       "1950-01-14                             0.0       0.0      0.0   \n",
       "1950-01-15                             0.0       0.0      0.0   \n",
       "1950-01-18                             0.0       0.0      0.0   \n",
       "\n",
       "category    Anatomy & Morphology  Andrology   ...     Transportation  \\\n",
       "date                                          ...                      \n",
       "1950-01-01                 889.0        0.0   ...                0.0   \n",
       "1950-01-07                   0.0        0.0   ...                0.0   \n",
       "1950-01-14                   0.0        0.0   ...                0.0   \n",
       "1950-01-15                   0.0        0.0   ...                0.0   \n",
       "1950-01-18                   0.0        0.0   ...                0.0   \n",
       "\n",
       "category    Transportation Science & Technology  Tropical Medicine  \\\n",
       "date                                                                 \n",
       "1950-01-01                                  0.0              246.0   \n",
       "1950-01-07                                  0.0                0.0   \n",
       "1950-01-14                                  0.0                0.0   \n",
       "1950-01-15                                  0.0                0.0   \n",
       "1950-01-18                                  0.0                0.0   \n",
       "\n",
       "category    Urban Studies  Urology & Nephrology  Veterinary Sciences  \\\n",
       "date                                                                   \n",
       "1950-01-01            0.0                 256.0                427.0   \n",
       "1950-01-07            0.0                   0.0                  0.0   \n",
       "1950-01-14            0.0                   0.0                  0.0   \n",
       "1950-01-15            0.0                   0.0                  0.0   \n",
       "1950-01-18            0.0                   0.0                  0.0   \n",
       "\n",
       "category    Virology  Water Resources  Women's Studies  Zoology  \n",
       "date                                                             \n",
       "1950-01-01       0.0              0.0              0.0    566.0  \n",
       "1950-01-07       0.0              0.0              0.0      0.0  \n",
       "1950-01-14       0.0              0.0              0.0      0.0  \n",
       "1950-01-15       0.0              0.0              0.0      0.0  \n",
       "1950-01-18       0.0              0.0              0.0      0.0  \n",
       "\n",
       "[5 rows x 252 columns]"
      ]
     },
     "execution_count": 248,
     "metadata": {},
     "output_type": "execute_result"
    }
   ],
   "source": [
    "df_pubs.head()"
   ]
  },
  {
   "cell_type": "code",
   "execution_count": null,
   "metadata": {
    "collapsed": true
   },
   "outputs": [],
   "source": []
  }
 ],
 "metadata": {
  "anaconda-cloud": {},
  "kernelspec": {
   "display_name": "Python 2",
   "language": "python",
   "name": "python2"
  },
  "language_info": {
   "codemirror_mode": {
    "name": "ipython",
    "version": 2
   },
   "file_extension": ".py",
   "mimetype": "text/x-python",
   "name": "python",
   "nbconvert_exporter": "python",
   "pygments_lexer": "ipython2",
   "version": "2.7.10"
  },
  "widgets": {
   "state": {
    "903ae6a7676a4995ada1b2f0a881a3a7": {
     "views": [
      {
       "cell_index": 9
      }
     ]
    }
   },
   "version": "1.2.0"
  }
 },
 "nbformat": 4,
 "nbformat_minor": 0
}
