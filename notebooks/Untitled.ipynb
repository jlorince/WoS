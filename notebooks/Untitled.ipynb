{
 "cells": [
  {
   "cell_type": "code",
   "execution_count": 1,
   "metadata": {
    "collapsed": false
   },
   "outputs": [],
   "source": [
    "from matplotlib import pyplot as plt\n",
    "%matplotlib inline\n",
    "import seaborn as sns\n",
    "from seaborn import color_palette\n",
    "\n",
    "import pandas as pd \n",
    "import numpy as np\n",
    "\n",
    "import bokeh\n",
    "from bokeh.io import push_notebook, show, output_notebook\n",
    "from bokeh.plotting import figure, output_file, show, curdoc\n",
    "from bokeh.models import Circle,BoxSelectTool, BoxZoomTool, LassoSelectTool,Text,HoverTool,ColumnDataSource, Range1d, Axis"
   ]
  },
  {
   "cell_type": "code",
   "execution_count": 2,
   "metadata": {
    "collapsed": false
   },
   "outputs": [],
   "source": [
    "totals_pubs = pd.Series(index=pd.date_range('1950-01-01','2015-12-31',freq='AS',),data=[97529,102475,106673,108515,113949,100346,115704,122845,133961,137311,152292,179267,188095,196106,221271,288753,327167,349344,364851,399384,405709,420089,448565,459029,495345,566369,606671,683684,703905,728908,749425,775628,810977,875161,893747,893536,909200,920189,901468,856502,880419,901808,922010,963477,1015818,1080336,1130853,1159929,1161957,1187808,1205276,1189963,1234480,1270516,1356955,1434957,1495934,1567550,1655220,1716898,1750645,1836125,1913473,2005909,2027312,1809485,])\n",
    "totals_refs = pd.Series(index=pd.date_range('1950-01-01','2015-12-31',freq='AS',),data=[862276,913941,991301,1054144,1082894,993625,1132516,1195067,1291857,1390632,1496650,1927193,2030321,2167335,2530307,3071105,3556047,3822576,4197118,4439659,4483020,4909395,5406217,5614448,5994449,6801509,7391424,7858516,8097995,8733158,9155748,9680861,10507381,11104584,11725145,12482330,12384351,12773481,13165658,13524406,14225948,15057108,15906821,16710320,17930450,19381008,21289915,22082648,22865217,23589060,24585765,25072234,26210739,27773579,29654550,31816766,34430852,36991583,40692695,43594503,46666951,50946087,55088628,59408651,62668029,59436898,])"
   ]
  },
  {
   "cell_type": "code",
<<<<<<< HEAD
<<<<<<< HEAD
   "execution_count": 33,
=======
   "execution_count": null,
>>>>>>> 994527dfc395ce1c31c76f7ba563d30bb7f8eaf6
=======
   "execution_count": null,
>>>>>>> 994527dfc395ce1c31c76f7ba563d30bb7f8eaf6
   "metadata": {
    "collapsed": false
   },
   "outputs": [],
   "source": [
    "datadir = '/Projects/WoS/WoS/'\n",
    "\n",
    "df_refs = pd.read_pickle(datadir+'d_pop_refs.pkl')\n",
    "df_pubs = pd.read_pickle(datadir+'d_pop.pkl')\n",
    "df_keywords = pd.read_pickle(datadir+'d_pop_keywords.pkl').reset_index()\n"
   ]
  },
  {
   "cell_type": "code",
<<<<<<< HEAD
<<<<<<< HEAD
   "execution_count": 34,
   "metadata": {
    "collapsed": false
   },
   "outputs": [],
   "source": [
    "vc = df_keywords['keyword'].value_counts()\n",
    "vc_df = pd.DataFrame(vc[vc>=100])\n",
    "vc_df.columns = ['n']\n",
    "keywords_trimmed = df_keywords.join(vc_df,on='keyword',how='inner')\n"
   ]
  },
  {
   "cell_type": "code",
   "execution_count": 35,
=======
   "execution_count": null,
>>>>>>> 994527dfc395ce1c31c76f7ba563d30bb7f8eaf6
=======
   "execution_count": null,
>>>>>>> 994527dfc395ce1c31c76f7ba563d30bb7f8eaf6
   "metadata": {
    "collapsed": false
   },
   "outputs": [],
   "source": [
    "df_pubs = df_pubs.reset_index().pivot_table(index='date',columns='category',values='uid').fillna(0).ix[:'2015']\n",
    "df_refs = df_refs.reset_index().pivot_table(index='date',columns='category',values='cnt').fillna(0).ix[:'2015']\n",
<<<<<<< HEAD
<<<<<<< HEAD
    "df_keywords = keywords_trimmed.pivot_table(index='date',columns='keyword',values='uid').fillna(0).ix[:'2015']"
=======
    "df_keywords = df_keywords.reset_index().pivot_table(index='date',columns='keyword',values='uid').fillna(0).ix[:'2015']"
>>>>>>> 994527dfc395ce1c31c76f7ba563d30bb7f8eaf6
=======
    "df_keywords = df_keywords.reset_index().pivot_table(index='date',columns='keyword',values='uid').fillna(0).ix[:'2015']"
>>>>>>> 994527dfc395ce1c31c76f7ba563d30bb7f8eaf6
   ]
  },
  {
   "cell_type": "code",
   "execution_count": 36,
   "metadata": {
    "collapsed": false
   },
   "outputs": [
    {
     "data": {
      "text/plain": [
       "(9304, 149738)"
      ]
     },
     "execution_count": 36,
     "metadata": {},
     "output_type": "execute_result"
    }
   ],
   "source": [
    "df_keywords.shape"
   ]
  },
  {
   "cell_type": "code",
<<<<<<< HEAD
   "execution_count": 12,
=======
   "execution_count": null,
   "metadata": {
    "collapsed": false
   },
   "outputs": [],
   "source": [
    "df_keywords.head()"
   ]
  },
  {
   "cell_type": "code",
   "execution_count": 240,
>>>>>>> 994527dfc395ce1c31c76f7ba563d30bb7f8eaf6
   "metadata": {
    "collapsed": false
   },
   "outputs": [],
   "source": [
    "#totals = df.sum(1)\n",
    "cum_totals_pubs = totals_pubs.cumsum()\n",
    "cum_totals_refs = totals_refs.cumsum()\n"
   ]
  },
  {
   "cell_type": "code",
   "execution_count": null,
   "metadata": {
    "collapsed": false
   },
   "outputs": [],
   "source": [
    "#top = df.sum().sort_values(ascending=False).index"
   ]
  },
  {
   "cell_type": "code",
   "execution_count": 37,
   "metadata": {
    "collapsed": false
   },
   "outputs": [
    {
     "data": {
      "text/html": [
       "\n",
       "    <div class=\"bk-root\">\n",
       "        <a href=\"http://bokeh.pydata.org\" target=\"_blank\" class=\"bk-logo bk-logo-small bk-logo-notebook\"></a>\n",
       "        <span id=\"aa5c95ae-4d3b-48dd-ae51-c42323f7c07e\">Loading BokehJS ...</span>\n",
       "    </div>"
      ]
     },
     "metadata": {},
     "output_type": "display_data"
    },
    {
     "data": {
      "application/javascript": [
       "\n",
       "(function(global) {\n",
       "  function now() {\n",
       "    return new Date();\n",
       "  }\n",
       "\n",
       "  if (typeof (window._bokeh_onload_callbacks) === \"undefined\") {\n",
       "    window._bokeh_onload_callbacks = [];\n",
       "  }\n",
       "\n",
       "  function run_callbacks() {\n",
       "    window._bokeh_onload_callbacks.forEach(function(callback) { callback() });\n",
       "    delete window._bokeh_onload_callbacks\n",
       "    console.info(\"Bokeh: all callbacks have finished\");\n",
       "  }\n",
       "\n",
       "  function load_libs(js_urls, callback) {\n",
       "    window._bokeh_onload_callbacks.push(callback);\n",
       "    if (window._bokeh_is_loading > 0) {\n",
       "      console.log(\"Bokeh: BokehJS is being loaded, scheduling callback at\", now());\n",
       "      return null;\n",
       "    }\n",
       "    if (js_urls == null || js_urls.length === 0) {\n",
       "      run_callbacks();\n",
       "      return null;\n",
       "    }\n",
       "    console.log(\"Bokeh: BokehJS not loaded, scheduling load and callback at\", now());\n",
       "    window._bokeh_is_loading = js_urls.length;\n",
       "    for (var i = 0; i < js_urls.length; i++) {\n",
       "      var url = js_urls[i];\n",
       "      var s = document.createElement('script');\n",
       "      s.src = url;\n",
       "      s.async = false;\n",
       "      s.onreadystatechange = s.onload = function() {\n",
       "        window._bokeh_is_loading--;\n",
       "        if (window._bokeh_is_loading === 0) {\n",
       "          console.log(\"Bokeh: all BokehJS libraries loaded\");\n",
       "          run_callbacks()\n",
       "        }\n",
       "      };\n",
       "      s.onerror = function() {\n",
       "        console.warn(\"failed to load library \" + url);\n",
       "      };\n",
       "      console.log(\"Bokeh: injecting script tag for BokehJS library: \", url);\n",
       "      document.getElementsByTagName(\"head\")[0].appendChild(s);\n",
       "    }\n",
       "  };\n",
       "\n",
       "  var js_urls = ['https://cdn.pydata.org/bokeh/release/bokeh-0.12.0.min.js', 'https://cdn.pydata.org/bokeh/release/bokeh-widgets-0.12.0.min.js', 'https://cdn.pydata.org/bokeh/release/bokeh-compiler-0.12.0.min.js'];\n",
       "\n",
       "  var inline_js = [\n",
       "    function(Bokeh) {\n",
       "      Bokeh.set_log_level(\"info\");\n",
       "    },\n",
       "    \n",
       "    function(Bokeh) {\n",
       "      Bokeh.$(\"#aa5c95ae-4d3b-48dd-ae51-c42323f7c07e\").text(\"BokehJS successfully loaded\");\n",
       "    },\n",
       "    function(Bokeh) {\n",
       "      console.log(\"Bokeh: injecting CSS: https://cdn.pydata.org/bokeh/release/bokeh-0.12.0.min.css\");\n",
       "      Bokeh.embed.inject_css(\"https://cdn.pydata.org/bokeh/release/bokeh-0.12.0.min.css\");\n",
       "      console.log(\"Bokeh: injecting CSS: https://cdn.pydata.org/bokeh/release/bokeh-widgets-0.12.0.min.css\");\n",
       "      Bokeh.embed.inject_css(\"https://cdn.pydata.org/bokeh/release/bokeh-widgets-0.12.0.min.css\");\n",
       "    }\n",
       "  ];\n",
       "\n",
       "  function run_inline_js() {\n",
       "    for (var i = 0; i < inline_js.length; i++) {\n",
       "      inline_js[i](window.Bokeh);\n",
       "    }\n",
       "  }\n",
       "\n",
       "  if (window._bokeh_is_loading === 0) {\n",
       "    console.log(\"Bokeh: BokehJS loaded, going straight to plotting\");\n",
       "    run_inline_js();\n",
       "  } else {\n",
       "    load_libs(js_urls, function() {\n",
       "      console.log(\"Bokeh: BokehJS plotting callback run at\", now());\n",
       "      run_inline_js();\n",
       "    });\n",
       "  }\n",
       "}(this));"
      ]
     },
     "metadata": {},
     "output_type": "display_data"
    }
   ],
   "source": [
    "output_notebook()\n",
    "\n",
    "\n",
    "\n",
    "def update(rawcount=True,cumulative=False,resample='yearly',discipline='Psychology',data_type='pubs'):\n",
    "    def do_plot():\n",
    "        df = globals()['df_'+data_type]\n",
    "        #totals = globals()['totals_'+data_type]\n",
    "        totals = totals_pubs\n",
    "        #cum_totals = globals()['cum_totals_'+data_type]\n",
    "        cum_totals = cum_totals_pubs\n",
    "        lines = {}\n",
    "        hovers = {}\n",
    "        data = {}\n",
    "        colors = ['#%02x%02x%02x' % (a, b, c) for a,b,c in np.round(255*np.array(color_palette(\"coolwarm\",n_colors=len(discipline)))).astype(int)]\n",
    "        for i,disc in enumerate(discipline):\n",
    "\n",
    "            current = df[disc].resample(resample).sum()\n",
    "            totals_current = totals.resample(resample).sum()\n",
    "\n",
    "            if cumulative:\n",
    "                cum_totals_current = cum_totals.resample(resample).sum()\n",
    "                if rawcount:\n",
    "                    values = current.cumsum()\n",
    "                else:\n",
    "                    values = current.cumsum()/cum_totals_current\n",
    "            else:\n",
    "                totals_current = totals.resample(resample).sum()\n",
    "                if rawcount:\n",
    "                    values = current\n",
    "                else:\n",
    "                    values = current/totals_current\n",
    "            data[disc] = ColumnDataSource({'x':idx,'value':values,'date':datestrings,'percent':{False:values.apply(lambda x: \"{:.2f}%\".format(100*x)),True:values.apply(lambda x: \"{:,.0f}\".format(x))}[rawcount]})\n",
    "            lines[disc] = p.line('x','value',source=data[disc],color=colors[i],line_width=2)\n",
    "            hovers[disc] = HoverTool(renderers=[lines[disc]],tooltips=[('Discipline', disc),('date','@date'),('{} this period'.format(data_type),'@percent')])\n",
    "            p.add_tools(hovers[disc])\n",
    "    if discipline == 'all':\n",
    "        discpline = df.columns\n",
    "    else:\n",
    "        discipline = discipline.strip().split('|')\n",
    "        \n",
    "    p = figure(width=800,height=350,x_axis_type='datetime',tools=['pan,box_zoom,reset'])\n",
    "    p.select(dict(type=Axis, layout=\"left\"))[0].formatter.use_scientific = False\n",
    "    resample = {'Daily':'D','Weekly':'W','Monthly':'M','Yearly':'A'}[resample]\n",
    "    freq = {'D':'D','W':'W','M':'MS','A':'AS'}[resample]\n",
    "    idx = pd.date_range('1950-01-01','2015-12-31',freq=freq)\n",
    "    datestrings = idx.map(lambda x: x.strftime('%Y-%m-%d'))\n",
    "    if data_type == 'both':\n",
    "        for data_type in ('pubs','refs'):\n",
    "            do_plot()#data_type,discipline,p,resample,cumulative,rawcount)\n",
    "    else:\n",
    "        do_plot()#data_type,discipline,p,resample,cumulative,rawcount)\n",
    "    show(p)\n",
    "    \n",
    "\n",
    "\n"
   ]
  },
  {
   "cell_type": "code",
   "execution_count": 38,
   "metadata": {
    "collapsed": false
   },
   "outputs": [
    {
     "data": {
      "text/html": [
       "\n",
       "\n",
       "    <div class=\"bk-root\">\n",
       "        <div class=\"plotdiv\" id=\"120faa66-3e79-41cc-891d-2b02af54e526\"></div>\n",
       "    </div>\n",
       "<script type=\"text/javascript\">\n",
       "  \n",
       "  (function(global) {\n",
       "    function now() {\n",
       "      return new Date();\n",
       "    }\n",
       "  \n",
       "    if (typeof (window._bokeh_onload_callbacks) === \"undefined\") {\n",
       "      window._bokeh_onload_callbacks = [];\n",
       "    }\n",
       "  \n",
       "    function run_callbacks() {\n",
       "      window._bokeh_onload_callbacks.forEach(function(callback) { callback() });\n",
       "      delete window._bokeh_onload_callbacks\n",
       "      console.info(\"Bokeh: all callbacks have finished\");\n",
       "    }\n",
       "  \n",
       "    function load_libs(js_urls, callback) {\n",
       "      window._bokeh_onload_callbacks.push(callback);\n",
       "      if (window._bokeh_is_loading > 0) {\n",
       "        console.log(\"Bokeh: BokehJS is being loaded, scheduling callback at\", now());\n",
       "        return null;\n",
       "      }\n",
       "      if (js_urls == null || js_urls.length === 0) {\n",
       "        run_callbacks();\n",
       "        return null;\n",
       "      }\n",
       "      console.log(\"Bokeh: BokehJS not loaded, scheduling load and callback at\", now());\n",
       "      window._bokeh_is_loading = js_urls.length;\n",
       "      for (var i = 0; i < js_urls.length; i++) {\n",
       "        var url = js_urls[i];\n",
       "        var s = document.createElement('script');\n",
       "        s.src = url;\n",
       "        s.async = false;\n",
       "        s.onreadystatechange = s.onload = function() {\n",
       "          window._bokeh_is_loading--;\n",
       "          if (window._bokeh_is_loading === 0) {\n",
       "            console.log(\"Bokeh: all BokehJS libraries loaded\");\n",
       "            run_callbacks()\n",
       "          }\n",
       "        };\n",
       "        s.onerror = function() {\n",
       "          console.warn(\"failed to load library \" + url);\n",
       "        };\n",
       "        console.log(\"Bokeh: injecting script tag for BokehJS library: \", url);\n",
       "        document.getElementsByTagName(\"head\")[0].appendChild(s);\n",
       "      }\n",
       "    };var element = document.getElementById(\"120faa66-3e79-41cc-891d-2b02af54e526\");\n",
       "    if (element == null) {\n",
       "      console.log(\"Bokeh: ERROR: autoload.js configured with elementid '120faa66-3e79-41cc-891d-2b02af54e526' but no matching script tag was found. \")\n",
       "      return false;\n",
       "    }\n",
       "  \n",
       "    var js_urls = [];\n",
       "  \n",
       "    var inline_js = [\n",
       "      function(Bokeh) {\n",
       "        Bokeh.$(function() {\n",
       "            var docs_json = {\"767a8e80-83b9-4235-9705-e2f99a5bbaaa\":{\"roots\":{\"references\":[{\"attributes\":{\"active_drag\":\"auto\",\"active_scroll\":\"auto\",\"active_tap\":\"auto\",\"tools\":[{\"id\":\"50020a13-431e-4bf0-9ad6-cdac366cfbb9\",\"type\":\"PanTool\"},{\"id\":\"b7cc6c94-34d5-4739-a06d-3201d0a5c0fb\",\"type\":\"BoxZoomTool\"},{\"id\":\"7d79f280-68e0-4e02-87aa-3602ec0f8002\",\"type\":\"ResetTool\"},{\"id\":\"3580e274-4143-4441-8f6e-7d056f647187\",\"type\":\"HoverTool\"}]},\"id\":\"5eb3bddc-8228-4e4e-8146-acd0c1e4e588\",\"type\":\"Toolbar\"},{\"attributes\":{\"callback\":null},\"id\":\"3c4eacd5-0a3c-4c5c-8334-2a56a589b4b0\",\"type\":\"DataRange1d\"},{\"attributes\":{\"callback\":null,\"column_names\":[\"date\",\"x\",\"percent\",\"value\"],\"data\":{\"date\":[\"1950-01-01\",\"1951-01-01\",\"1952-01-01\",\"1953-01-01\",\"1954-01-01\",\"1955-01-01\",\"1956-01-01\",\"1957-01-01\",\"1958-01-01\",\"1959-01-01\",\"1960-01-01\",\"1961-01-01\",\"1962-01-01\",\"1963-01-01\",\"1964-01-01\",\"1965-01-01\",\"1966-01-01\",\"1967-01-01\",\"1968-01-01\",\"1969-01-01\",\"1970-01-01\",\"1971-01-01\",\"1972-01-01\",\"1973-01-01\",\"1974-01-01\",\"1975-01-01\",\"1976-01-01\",\"1977-01-01\",\"1978-01-01\",\"1979-01-01\",\"1980-01-01\",\"1981-01-01\",\"1982-01-01\",\"1983-01-01\",\"1984-01-01\",\"1985-01-01\",\"1986-01-01\",\"1987-01-01\",\"1988-01-01\",\"1989-01-01\",\"1990-01-01\",\"1991-01-01\",\"1992-01-01\",\"1993-01-01\",\"1994-01-01\",\"1995-01-01\",\"1996-01-01\",\"1997-01-01\",\"1998-01-01\",\"1999-01-01\",\"2000-01-01\",\"2001-01-01\",\"2002-01-01\",\"2003-01-01\",\"2004-01-01\",\"2005-01-01\",\"2006-01-01\",\"2007-01-01\",\"2008-01-01\",\"2009-01-01\",\"2010-01-01\",\"2011-01-01\",\"2012-01-01\",\"2013-01-01\",\"2014-01-01\",\"2015-01-01\"],\"percent\":[\"0\",\"0\",\"0\",\"0\",\"0\",\"0\",\"0\",\"0\",\"nan\",\"nan\",\"0\",\"nan\",\"nan\",\"nan\",\"0\",\"0\",\"0\",\"0\",\"0\",\"0\",\"0\",\"0\",\"0\",\"0\",\"0\",\"0\",\"0\",\"0\",\"0\",\"0\",\"0\",\"0\",\"0\",\"0\",\"0\",\"0\",\"0\",\"0\",\"0\",\"0\",\"0\",\"1\",\"1\",\"2\",\"0\",\"0\",\"3\",\"14\",\"20\",\"41\",\"70\",\"106\",\"146\",\"178\",\"212\",\"214\",\"243\",\"240\",\"218\",\"231\",\"311\",\"286\",\"357\",\"396\",\"395\",\"395\"],\"value\":[0.0,0.0,0.0,0.0,0.0,0.0,0.0,0.0,\"NaN\",\"NaN\",0.0,\"NaN\",\"NaN\",\"NaN\",0.0,0.0,0.0,0.0,0.0,0.0,0.0,0.0,0.0,0.0,0.0,0.0,0.0,0.0,0.0,0.0,0.0,0.0,0.0,0.0,0.0,0.0,0.0,0.0,0.0,0.0,0.0,1.0,1.0,2.0,0.0,0.0,3.0,14.5,20.0,41.0,70.5,106.5,145.5,177.83333333333331,211.5,214.16666666666669,243.0,240.16666666666666,218.00000000000003,231.16666666666669,311.1666666666667,285.50000000000006,357.1666666666667,395.83333333333337,395.1666666666666,395.3333333333333],\"x\":[-631152000000.0,-599616000000.0,-568080000000.0,-536457600000.0,-504921600000.0,-473385600000.0,-441849600000.0,-410227200000.0,-378691200000.0,-347155200000.0,-315619200000.0,-283996800000.0,-252460800000.0,-220924800000.0,-189388800000.0,-157766400000.0,-126230400000.0,-94694400000.0,-63158400000.0,-31536000000.0,0.0,31536000000.0,63072000000.0,94694400000.0,126230400000.0,157766400000.0,189302400000.0,220924800000.0,252460800000.0,283996800000.0,315532800000.0,347155200000.0,378691200000.0,410227200000.0,441763200000.0,473385600000.0,504921600000.0,536457600000.0,567993600000.0,599616000000.0,631152000000.0,662688000000.0,694224000000.0,725846400000.0,757382400000.0,788918400000.0,820454400000.0,852076800000.0,883612800000.0,915148800000.0,946684800000.0,978307200000.0,1009843200000.0,1041379200000.0,1072915200000.0,1104537600000.0,1136073600000.0,1167609600000.0,1199145600000.0,1230768000000.0,1262304000000.0,1293840000000.0,1325376000000.0,1356998400000.0,1388534400000.0,1420070400000.0]}},\"id\":\"00df01e3-d2fb-4db3-9bf4-d559576f1541\",\"type\":\"ColumnDataSource\"},{\"attributes\":{\"months\":[0,1,2,3,4,5,6,7,8,9,10,11]},\"id\":\"5c14fc02-05e3-408c-b675-0a3ee995798a\",\"type\":\"MonthsTicker\"},{\"attributes\":{\"days\":[1,15]},\"id\":\"b3fd8c93-7d2f-4171-80cd-5f37a33b0f57\",\"type\":\"DaysTicker\"},{\"attributes\":{\"days\":[1,8,15,22]},\"id\":\"600ef3f5-b148-4e5c-976f-9b602a7bf450\",\"type\":\"DaysTicker\"},{\"attributes\":{\"data_source\":{\"id\":\"00df01e3-d2fb-4db3-9bf4-d559576f1541\",\"type\":\"ColumnDataSource\"},\"glyph\":{\"id\":\"5daa15cf-33b9-4526-9c30-56b3330920bc\",\"type\":\"Line\"},\"hover_glyph\":null,\"nonselection_glyph\":{\"id\":\"094da440-adfe-4000-bb7f-fdc3692ac3e3\",\"type\":\"Line\"},\"selection_glyph\":null},\"id\":\"1c3855f0-1796-4b59-bef5-eec9cf6cf60d\",\"type\":\"GlyphRenderer\"},{\"attributes\":{\"base\":60,\"mantissas\":[1,2,5,10,15,20,30],\"max_interval\":1800000.0,\"min_interval\":1000.0,\"num_minor_ticks\":0},\"id\":\"1b064515-4d94-437b-8f77-1e3bfaaed2b4\",\"type\":\"AdaptiveTicker\"},{\"attributes\":{\"max_interval\":500.0,\"num_minor_ticks\":0},\"id\":\"6d3d438f-c970-4915-b012-307ba951bcbd\",\"type\":\"AdaptiveTicker\"},{\"attributes\":{\"dimension\":1,\"plot\":{\"id\":\"9a29a28b-e295-45d5-8e43-4d2b7250a3e5\",\"subtype\":\"Figure\",\"type\":\"Plot\"},\"ticker\":{\"id\":\"9c240674-e52e-4d2e-9927-b9e3d2a82ba7\",\"type\":\"BasicTicker\"}},\"id\":\"2649a79b-e035-4ed0-b195-da79129aef91\",\"type\":\"Grid\"},{\"attributes\":{\"line_color\":{\"value\":\"#dddcdc\"},\"line_width\":{\"value\":2},\"x\":{\"field\":\"x\"},\"y\":{\"field\":\"value\"}},\"id\":\"5daa15cf-33b9-4526-9c30-56b3330920bc\",\"type\":\"Line\"},{\"attributes\":{\"plot\":{\"id\":\"9a29a28b-e295-45d5-8e43-4d2b7250a3e5\",\"subtype\":\"Figure\",\"type\":\"Plot\"}},\"id\":\"50020a13-431e-4bf0-9ad6-cdac366cfbb9\",\"type\":\"PanTool\"},{\"attributes\":{\"plot\":{\"id\":\"9a29a28b-e295-45d5-8e43-4d2b7250a3e5\",\"subtype\":\"Figure\",\"type\":\"Plot\"},\"ticker\":{\"id\":\"62c89ac3-cd82-47e0-9dae-725cfd66a435\",\"type\":\"DatetimeTicker\"}},\"id\":\"37e9d317-329c-49a2-a10a-9f29f84eeee5\",\"type\":\"Grid\"},{\"attributes\":{\"overlay\":{\"id\":\"91ca2320-2ec9-42eb-9866-7b7a394f16fe\",\"type\":\"BoxAnnotation\"},\"plot\":{\"id\":\"9a29a28b-e295-45d5-8e43-4d2b7250a3e5\",\"subtype\":\"Figure\",\"type\":\"Plot\"}},\"id\":\"b7cc6c94-34d5-4739-a06d-3201d0a5c0fb\",\"type\":\"BoxZoomTool\"},{\"attributes\":{\"line_alpha\":{\"value\":0.1},\"line_color\":{\"value\":\"#1f77b4\"},\"line_width\":{\"value\":2},\"x\":{\"field\":\"x\"},\"y\":{\"field\":\"value\"}},\"id\":\"094da440-adfe-4000-bb7f-fdc3692ac3e3\",\"type\":\"Line\"},{\"attributes\":{\"days\":[1,2,3,4,5,6,7,8,9,10,11,12,13,14,15,16,17,18,19,20,21,22,23,24,25,26,27,28,29,30,31]},\"id\":\"22173c3a-c324-4d7a-ba6c-ae7e11ea7bc0\",\"type\":\"DaysTicker\"},{\"attributes\":{\"days\":[1,4,7,10,13,16,19,22,25,28]},\"id\":\"bee2ab94-556c-4b69-b343-32ba758469fd\",\"type\":\"DaysTicker\"},{\"attributes\":{\"bottom_units\":\"screen\",\"fill_alpha\":{\"value\":0.5},\"fill_color\":{\"value\":\"lightgrey\"},\"left_units\":\"screen\",\"level\":\"overlay\",\"line_alpha\":{\"value\":1.0},\"line_color\":{\"value\":\"black\"},\"line_dash\":[4,4],\"line_width\":{\"value\":2},\"plot\":null,\"render_mode\":\"css\",\"right_units\":\"screen\",\"top_units\":\"screen\"},\"id\":\"91ca2320-2ec9-42eb-9866-7b7a394f16fe\",\"type\":\"BoxAnnotation\"},{\"attributes\":{\"months\":[0,4,8]},\"id\":\"9b27bfd9-5fbc-48fe-97e4-061d0f09cca5\",\"type\":\"MonthsTicker\"},{\"attributes\":{\"months\":[0,2,4,6,8,10]},\"id\":\"e7c85834-ef0f-4321-b62a-fb8e0914e96d\",\"type\":\"MonthsTicker\"},{\"attributes\":{\"num_minor_ticks\":5},\"id\":\"62c89ac3-cd82-47e0-9dae-725cfd66a435\",\"type\":\"DatetimeTicker\"},{\"attributes\":{},\"id\":\"9c240674-e52e-4d2e-9927-b9e3d2a82ba7\",\"type\":\"BasicTicker\"},{\"attributes\":{\"below\":[{\"id\":\"083ad9b0-9953-4c69-adc5-0a301f7d04ca\",\"type\":\"DatetimeAxis\"}],\"left\":[{\"id\":\"5743ef08-967e-4e20-bdd9-dfbb6f0d7e0d\",\"type\":\"LinearAxis\"}],\"plot_height\":350,\"plot_width\":800,\"renderers\":[{\"id\":\"083ad9b0-9953-4c69-adc5-0a301f7d04ca\",\"type\":\"DatetimeAxis\"},{\"id\":\"37e9d317-329c-49a2-a10a-9f29f84eeee5\",\"type\":\"Grid\"},{\"id\":\"5743ef08-967e-4e20-bdd9-dfbb6f0d7e0d\",\"type\":\"LinearAxis\"},{\"id\":\"2649a79b-e035-4ed0-b195-da79129aef91\",\"type\":\"Grid\"},{\"id\":\"91ca2320-2ec9-42eb-9866-7b7a394f16fe\",\"type\":\"BoxAnnotation\"},{\"id\":\"1c3855f0-1796-4b59-bef5-eec9cf6cf60d\",\"type\":\"GlyphRenderer\"}],\"title\":{\"id\":\"1bfe372c-229d-4b36-bfa6-5079af3e29d9\",\"type\":\"Title\"},\"tool_events\":{\"id\":\"4db4bc3a-ff72-46cf-95c9-f91f7f787840\",\"type\":\"ToolEvents\"},\"toolbar\":{\"id\":\"5eb3bddc-8228-4e4e-8146-acd0c1e4e588\",\"type\":\"Toolbar\"},\"x_range\":{\"id\":\"3c4eacd5-0a3c-4c5c-8334-2a56a589b4b0\",\"type\":\"DataRange1d\"},\"y_range\":{\"id\":\"602917ad-0917-4143-9abb-24556cebb6ec\",\"type\":\"DataRange1d\"}},\"id\":\"9a29a28b-e295-45d5-8e43-4d2b7250a3e5\",\"subtype\":\"Figure\",\"type\":\"Plot\"},{\"attributes\":{\"formatter\":{\"id\":\"ba9d7291-7fc2-416b-a840-6cb01c8567e0\",\"type\":\"DatetimeTickFormatter\"},\"plot\":{\"id\":\"9a29a28b-e295-45d5-8e43-4d2b7250a3e5\",\"subtype\":\"Figure\",\"type\":\"Plot\"},\"ticker\":{\"id\":\"62c89ac3-cd82-47e0-9dae-725cfd66a435\",\"type\":\"DatetimeTicker\"}},\"id\":\"083ad9b0-9953-4c69-adc5-0a301f7d04ca\",\"type\":\"DatetimeAxis\"},{\"attributes\":{},\"id\":\"4db4bc3a-ff72-46cf-95c9-f91f7f787840\",\"type\":\"ToolEvents\"},{\"attributes\":{\"callback\":null,\"plot\":{\"id\":\"9a29a28b-e295-45d5-8e43-4d2b7250a3e5\",\"subtype\":\"Figure\",\"type\":\"Plot\"},\"renderers\":[{\"id\":\"1c3855f0-1796-4b59-bef5-eec9cf6cf60d\",\"type\":\"GlyphRenderer\"}],\"tooltips\":[[\"Discipline\",\"genomics\"],[\"date\",\"@date\"],[\"keywords this period\",\"@percent\"]]},\"id\":\"3580e274-4143-4441-8f6e-7d056f647187\",\"type\":\"HoverTool\"},{\"attributes\":{\"plot\":null,\"text\":null},\"id\":\"1bfe372c-229d-4b36-bfa6-5079af3e29d9\",\"type\":\"Title\"},{\"attributes\":{\"base\":24,\"mantissas\":[1,2,4,6,8,12],\"max_interval\":43200000.0,\"min_interval\":3600000.0,\"num_minor_ticks\":0},\"id\":\"69daec1e-b0c4-4c5e-ae7b-dba9ca3c2676\",\"type\":\"AdaptiveTicker\"},{\"attributes\":{\"plot\":{\"id\":\"9a29a28b-e295-45d5-8e43-4d2b7250a3e5\",\"subtype\":\"Figure\",\"type\":\"Plot\"}},\"id\":\"7d79f280-68e0-4e02-87aa-3602ec0f8002\",\"type\":\"ResetTool\"},{\"attributes\":{\"callback\":null},\"id\":\"602917ad-0917-4143-9abb-24556cebb6ec\",\"type\":\"DataRange1d\"},{\"attributes\":{\"formatter\":{\"id\":\"6830eef8-29d1-4a7d-844d-36f1a9833b89\",\"type\":\"BasicTickFormatter\"},\"plot\":{\"id\":\"9a29a28b-e295-45d5-8e43-4d2b7250a3e5\",\"subtype\":\"Figure\",\"type\":\"Plot\"},\"ticker\":{\"id\":\"9c240674-e52e-4d2e-9927-b9e3d2a82ba7\",\"type\":\"BasicTicker\"}},\"id\":\"5743ef08-967e-4e20-bdd9-dfbb6f0d7e0d\",\"type\":\"LinearAxis\"},{\"attributes\":{},\"id\":\"29bd9b91-7c30-4419-8de1-b3adf6eec139\",\"type\":\"YearsTicker\"},{\"attributes\":{},\"id\":\"ba9d7291-7fc2-416b-a840-6cb01c8567e0\",\"type\":\"DatetimeTickFormatter\"},{\"attributes\":{\"months\":[0,6]},\"id\":\"e0ab5baf-8232-4b17-b9e4-0306be43d543\",\"type\":\"MonthsTicker\"},{\"attributes\":{\"use_scientific\":false},\"id\":\"6830eef8-29d1-4a7d-844d-36f1a9833b89\",\"type\":\"BasicTickFormatter\"}],\"root_ids\":[\"9a29a28b-e295-45d5-8e43-4d2b7250a3e5\"]},\"title\":\"Bokeh Application\",\"version\":\"0.12.0\"}};\n",
       "            var render_items = [{\"docid\":\"767a8e80-83b9-4235-9705-e2f99a5bbaaa\",\"elementid\":\"120faa66-3e79-41cc-891d-2b02af54e526\",\"modelid\":\"9a29a28b-e295-45d5-8e43-4d2b7250a3e5\",\"notebook_comms_target\":\"3f55b49f-80dd-4169-ba3f-192c1d1815b3\"}];\n",
       "            \n",
       "            Bokeh.embed.embed_items(docs_json, render_items);\n",
       "        });\n",
       "      },\n",
       "      function(Bokeh) {\n",
       "      }\n",
       "    ];\n",
       "  \n",
       "    function run_inline_js() {\n",
       "      for (var i = 0; i < inline_js.length; i++) {\n",
       "        inline_js[i](window.Bokeh);\n",
       "      }\n",
       "    }\n",
       "  \n",
       "    if (window._bokeh_is_loading === 0) {\n",
       "      console.log(\"Bokeh: BokehJS loaded, going straight to plotting\");\n",
       "      run_inline_js();\n",
       "    } else {\n",
       "      load_libs(js_urls, function() {\n",
       "        console.log(\"Bokeh: BokehJS plotting callback run at\", now());\n",
       "        run_inline_js();\n",
       "      });\n",
       "    }\n",
       "  }(this));\n",
       "</script>"
      ]
     },
     "metadata": {},
     "output_type": "display_data"
    }
   ],
   "source": [
    "from ipywidgets import Dropdown,Text,Checkbox,interact\n",
    "\n",
    "disc_select = Text(description='Discipline',value='Psychology')\n",
    "rawcount_select = Checkbox(description = 'rawcount',value=True)\n",
    "cumulative_select = Checkbox(description='cumulativ',value=False)\n",
    "resample_select = Dropdown(description=\"Resample\",options=[\"Daily\",\"Weekly\",\"Monthly\",\"Yearly\"],value=\"Yearly\")\n",
    "data_select = Dropdown(description=\"Data\",options=[\"pubs\",\"refs\",\"keywords\",\"both\"],value=\"pubs\")\n",
    "\n",
    "\n",
    "\n",
    "interact(update,rawcount=rawcount_select,cumulative=cumulative_select,\n",
    "         disc=disc_select,resample=resample_select,data_type=data_select);\n"
   ]
  },
  {
   "cell_type": "code",
   "execution_count": null,
   "metadata": {
    "collapsed": false
   },
   "outputs": [],
   "source": [
    "x = df.resample('AS').sum().cumsum().T\n",
    "'|'.join(x.index[(x['2000']<10000).ix[:,0]])"
   ]
  },
  {
   "cell_type": "code",
   "execution_count": 222,
   "metadata": {
    "collapsed": false
   },
   "outputs": [
    {
     "data": {
      "text/plain": [
       "1066017645"
      ]
     },
     "execution_count": 222,
     "metadata": {},
     "output_type": "execute_result"
    }
   ],
   "source": [
    "#Genetics & Heredity|Mathematical & Computational Biology|Medical Informatics\n",
    "totals.sum()"
   ]
  },
  {
   "cell_type": "code",
   "execution_count": 27,
   "metadata": {
    "collapsed": false
   },
   "outputs": [],
   "source": [
    "kw = pd.read_pickle(datadir+'d_pop_keywords.pkl').reset_index()"
   ]
  },
  {
   "cell_type": "code",
   "execution_count": 31,
   "metadata": {
    "collapsed": false
   },
   "outputs": [
    {
     "data": {
      "text/plain": [
       "(10956392L,)"
      ]
     },
     "execution_count": 31,
     "metadata": {},
     "output_type": "execute_result"
    }
   ],
   "source": [
    "kw['keyword'].str.lower().unique().shape # (13794566L,)"
   ]
  },
  {
   "cell_type": "code",
   "execution_count": 41,
   "metadata": {
    "collapsed": false
   },
   "outputs": [
    {
     "data": {
      "text/plain": [
       "date\n",
       "1950-01-01     0.000000\n",
       "1950-02-01     0.000000\n",
       "1950-03-01     0.000000\n",
       "1950-04-01     0.000000\n",
       "1950-05-01     0.000000\n",
       "1950-06-01     0.000000\n",
       "1950-07-01     0.000000\n",
       "1950-08-01     0.000000\n",
       "1950-09-01     0.000000\n",
       "1950-10-01     0.000000\n",
       "1950-11-01     0.000000\n",
       "1950-12-01     0.000000\n",
       "1951-01-01     0.000000\n",
       "1951-02-01     0.000000\n",
       "1951-03-01     0.000000\n",
       "1951-04-01     0.000000\n",
       "1951-05-01     0.000000\n",
       "1951-06-01     0.000000\n",
       "1951-07-01     0.000000\n",
       "1951-08-01     0.000000\n",
       "1951-09-01     0.000000\n",
       "1951-10-01     0.000000\n",
       "1951-11-01     0.000000\n",
       "1951-12-01     0.000000\n",
       "1952-01-01     0.000000\n",
       "1952-02-01     0.000000\n",
       "1952-03-01     0.000000\n",
       "1952-04-01     0.000000\n",
       "1952-05-01     0.000000\n",
       "1952-06-01     0.000000\n",
       "                ...    \n",
       "2015-11-30     1.000000\n",
       "2015-12-01    11.333333\n",
       "2015-12-02     0.000000\n",
       "2015-12-03     0.000000\n",
       "2015-12-04     0.000000\n",
       "2015-12-05     0.000000\n",
       "2015-12-06     0.000000\n",
       "2015-12-07     4.000000\n",
       "2015-12-08     0.000000\n",
       "2015-12-09     0.000000\n",
       "2015-12-10     0.000000\n",
       "2015-12-11     0.000000\n",
       "2015-12-12     0.000000\n",
       "2015-12-13     0.000000\n",
       "2015-12-14     0.000000\n",
       "2015-12-15     1.000000\n",
       "2015-12-16     0.000000\n",
       "2015-12-17     0.000000\n",
       "2015-12-18     0.000000\n",
       "2015-12-19     0.000000\n",
       "2015-12-20     0.000000\n",
       "2015-12-21     0.000000\n",
       "2015-12-22     0.000000\n",
       "2015-12-23     0.000000\n",
       "2015-12-24     0.000000\n",
       "2015-12-25     0.000000\n",
       "2015-12-27     0.000000\n",
       "2015-12-28     0.000000\n",
       "2015-12-30     0.000000\n",
       "2015-12-31     0.000000\n",
       "Name: genomics, dtype: float64"
      ]
     },
     "execution_count": 41,
     "metadata": {},
     "output_type": "execute_result"
    }
   ],
   "source": [
    "df_keywords['genomics']"
   ]
  },
  {
   "cell_type": "code",
   "execution_count": null,
   "metadata": {
    "collapsed": true
   },
   "outputs": [],
   "source": []
  }
 ],
 "metadata": {
  "anaconda-cloud": {},
  "kernelspec": {
   "display_name": "Python [Root]",
   "language": "python",
   "name": "Python [Root]"
  },
  "language_info": {
   "codemirror_mode": {
    "name": "ipython",
    "version": 2
   },
   "file_extension": ".py",
   "mimetype": "text/x-python",
   "name": "python",
   "nbconvert_exporter": "python",
   "pygments_lexer": "ipython2",
   "version": "2.7.12"
  },
  "widgets": {
   "state": {
    "903ae6a7676a4995ada1b2f0a881a3a7": {
     "views": [
      {
       "cell_index": 9
      }
     ]
    }
   },
   "version": "1.2.0"
  }
 },
 "nbformat": 4,
 "nbformat_minor": 0
}
