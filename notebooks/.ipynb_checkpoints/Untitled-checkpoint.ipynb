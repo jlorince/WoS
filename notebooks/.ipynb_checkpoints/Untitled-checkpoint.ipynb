{
 "cells": [
  {
   "cell_type": "code",
   "execution_count": 1,
   "metadata": {
    "collapsed": true
   },
   "outputs": [],
   "source": [
    "from matplotlib import pyplot as plt\n",
    "%matplotlib inline\n",
    "import seaborn as sns\n",
    "from seaborn import color_palette\n",
    "\n",
    "import pandas as pd \n",
    "import numpy as np\n",
    "from dateutil.parser import parse\n",
    "\n",
    "import bokeh\n",
    "from bokeh.io import push_notebook, show, output_notebook\n",
    "from bokeh.plotting import figure, output_file, show, curdoc\n",
    "from bokeh.models import Circle,BoxSelectTool, BoxZoomTool, LassoSelectTool,Text,HoverTool,ColumnDataSource, Range1d, Axis"
   ]
  },
  {
   "cell_type": "code",
   "execution_count": 2,
   "metadata": {
    "collapsed": false
   },
   "outputs": [],
   "source": [
    "totals_pubs = pd.Series(index=pd.date_range('1950-01-01','2015-12-31',freq='AS',),data=[97529,102475,106673,108515,113949,100346,115704,122845,133961,137311,152292,179267,188095,196106,221271,288753,327167,349344,364851,399384,405709,420089,448565,459029,495345,566369,606671,683684,703905,728908,749425,775628,810977,875161,893747,893536,909200,920189,901468,856502,880419,901808,922010,963477,1015818,1080336,1130853,1159929,1161957,1187808,1205276,1189963,1234480,1270516,1356955,1434957,1495934,1567550,1655220,1716898,1750645,1836125,1913473,2005909,2027312,1809485,])\n",
    "totals_refs = pd.Series(index=pd.date_range('1950-01-01','2015-12-31',freq='AS',),data=[862276,913941,991301,1054144,1082894,993625,1132516,1195067,1291857,1390632,1496650,1927193,2030321,2167335,2530307,3071105,3556047,3822576,4197118,4439659,4483020,4909395,5406217,5614448,5994449,6801509,7391424,7858516,8097995,8733158,9155748,9680861,10507381,11104584,11725145,12482330,12384351,12773481,13165658,13524406,14225948,15057108,15906821,16710320,17930450,19381008,21289915,22082648,22865217,23589060,24585765,25072234,26210739,27773579,29654550,31816766,34430852,36991583,40692695,43594503,46666951,50946087,55088628,59408651,62668029,59436898,])"
   ]
  },
  {
   "cell_type": "code",
   "execution_count": 3,
   "metadata": {
    "collapsed": true
   },
   "outputs": [],
   "source": [
    "df_refs = pd.read_pickle('/Users/jaredlorince/Desktop/d_pop_refs.pkl')\n",
    "df_pubs = pd.read_pickle('/Users/jaredlorince/Desktop/d_pop.pkl')\n",
    "df_keywords = pd.read_pickle('/Users/jaredlorince/Desktop/d_pop_keywords.pkl')"
   ]
  },
  {
   "cell_type": "code",
   "execution_count": 4,
   "metadata": {
    "collapsed": false
   },
   "outputs": [],
   "source": [
    "vc = df_keywords.groupby('keyword')['freq'].sum()\n",
    "vc_df = vc[vc>=100].reset_index()\n",
    "df_keywords=df_keywords.join(vc_df.set_index('keyword'),on='keyword',how='inner',rsuffix='_')"
   ]
  },
  {
   "cell_type": "code",
   "execution_count": 5,
   "metadata": {
    "collapsed": false
   },
   "outputs": [],
   "source": [
    "df_pubs = df_pubs.reset_index().pivot_table(index='date',columns='category',values='uid').fillna(0).ix[:'2015']\n",
    "df_refs = df_refs.reset_index().pivot_table(index='date',columns='category',values='cnt').fillna(0).ix[:'2015']\n",
    "df_keywords = df_keywords.pivot_table(index='date',columns='keyword',values='freq').fillna(0).ix[:'2015']"
   ]
  },
  {
   "cell_type": "code",
   "execution_count": 6,
   "metadata": {
    "collapsed": false
   },
   "outputs": [
    {
     "data": {
      "text/plain": [
       "(61, 176296)"
      ]
     },
     "execution_count": 6,
     "metadata": {},
     "output_type": "execute_result"
    }
   ],
   "source": [
    "df_keywords.shape"
   ]
  },
  {
   "cell_type": "code",
   "execution_count": 7,
   "metadata": {
    "collapsed": false
   },
   "outputs": [],
   "source": [
    "#totals = df.sum(1)\n",
    "cum_totals_pubs = totals_pubs.cumsum()\n",
    "cum_totals_refs = totals_refs.cumsum()"
   ]
  },
  {
   "cell_type": "code",
   "execution_count": 8,
   "metadata": {
    "collapsed": false
   },
   "outputs": [],
   "source": [
    "#top = df.sum().sort_values(ascending=False).index"
   ]
  },
  {
   "cell_type": "code",
   "execution_count": 9,
   "metadata": {
    "collapsed": false
   },
   "outputs": [
    {
     "data": {
      "text/html": [
       "\n",
       "    <div class=\"bk-root\">\n",
       "        <a href=\"http://bokeh.pydata.org\" target=\"_blank\" class=\"bk-logo bk-logo-small bk-logo-notebook\"></a>\n",
       "        <span id=\"2d9dc072-149a-406e-82c0-86f9f99d6c1c\">Loading BokehJS ...</span>\n",
       "    </div>"
      ]
     },
     "metadata": {},
     "output_type": "display_data"
    },
    {
     "data": {
      "application/javascript": [
       "\n",
       "(function(global) {\n",
       "  function now() {\n",
       "    return new Date();\n",
       "  }\n",
       "\n",
       "  var force = \"1\";\n",
       "\n",
       "  if (typeof (window._bokeh_onload_callbacks) === \"undefined\" || force !== \"\") {\n",
       "    window._bokeh_onload_callbacks = [];\n",
       "    window._bokeh_is_loading = undefined;\n",
       "  }\n",
       "\n",
       "\n",
       "  \n",
       "  if (typeof (window._bokeh_timeout) === \"undefined\" || force !== \"\") {\n",
       "    window._bokeh_timeout = Date.now() + 5000;\n",
       "    window._bokeh_failed_load = false;\n",
       "  }\n",
       "\n",
       "  var NB_LOAD_WARNING = {'data': {'text/html':\n",
       "     \"<div style='background-color: #fdd'>\\n\"+\n",
       "     \"<p>\\n\"+\n",
       "     \"BokehJS does not appear to have successfully loaded. If loading BokehJS from CDN, this \\n\"+\n",
       "     \"may be due to a slow or bad network connection. Possible fixes:\\n\"+\n",
       "     \"</p>\\n\"+\n",
       "     \"<ul>\\n\"+\n",
       "     \"<li>re-rerun `output_notebook()` to attempt to load from CDN again, or</li>\\n\"+\n",
       "     \"<li>use INLINE resources instead, as so:</li>\\n\"+\n",
       "     \"</ul>\\n\"+\n",
       "     \"<code>\\n\"+\n",
       "     \"from bokeh.resources import INLINE\\n\"+\n",
       "     \"output_notebook(resources=INLINE)\\n\"+\n",
       "     \"</code>\\n\"+\n",
       "     \"</div>\"}};\n",
       "\n",
       "  function display_loaded() {\n",
       "    if (window.Bokeh !== undefined) {\n",
       "      Bokeh.$(\"#2d9dc072-149a-406e-82c0-86f9f99d6c1c\").text(\"BokehJS successfully loaded.\");\n",
       "    } else if (Date.now() < window._bokeh_timeout) {\n",
       "      setTimeout(display_loaded, 100)\n",
       "    }\n",
       "  }\n",
       "\n",
       "  function run_callbacks() {\n",
       "    window._bokeh_onload_callbacks.forEach(function(callback) { callback() });\n",
       "    delete window._bokeh_onload_callbacks\n",
       "    console.info(\"Bokeh: all callbacks have finished\");\n",
       "  }\n",
       "\n",
       "  function load_libs(js_urls, callback) {\n",
       "    window._bokeh_onload_callbacks.push(callback);\n",
       "    if (window._bokeh_is_loading > 0) {\n",
       "      console.log(\"Bokeh: BokehJS is being loaded, scheduling callback at\", now());\n",
       "      return null;\n",
       "    }\n",
       "    if (js_urls == null || js_urls.length === 0) {\n",
       "      run_callbacks();\n",
       "      return null;\n",
       "    }\n",
       "    console.log(\"Bokeh: BokehJS not loaded, scheduling load and callback at\", now());\n",
       "    window._bokeh_is_loading = js_urls.length;\n",
       "    for (var i = 0; i < js_urls.length; i++) {\n",
       "      var url = js_urls[i];\n",
       "      var s = document.createElement('script');\n",
       "      s.src = url;\n",
       "      s.async = false;\n",
       "      s.onreadystatechange = s.onload = function() {\n",
       "        window._bokeh_is_loading--;\n",
       "        if (window._bokeh_is_loading === 0) {\n",
       "          console.log(\"Bokeh: all BokehJS libraries loaded\");\n",
       "          run_callbacks()\n",
       "        }\n",
       "      };\n",
       "      s.onerror = function() {\n",
       "        console.warn(\"failed to load library \" + url);\n",
       "      };\n",
       "      console.log(\"Bokeh: injecting script tag for BokehJS library: \", url);\n",
       "      document.getElementsByTagName(\"head\")[0].appendChild(s);\n",
       "    }\n",
       "  };var element = document.getElementById(\"2d9dc072-149a-406e-82c0-86f9f99d6c1c\");\n",
       "  if (element == null) {\n",
       "    console.log(\"Bokeh: ERROR: autoload.js configured with elementid '2d9dc072-149a-406e-82c0-86f9f99d6c1c' but no matching script tag was found. \")\n",
       "    return false;\n",
       "  }\n",
       "\n",
       "  var js_urls = ['https://cdn.pydata.org/bokeh/release/bokeh-0.12.2.min.js', 'https://cdn.pydata.org/bokeh/release/bokeh-widgets-0.12.2.min.js', 'https://cdn.pydata.org/bokeh/release/bokeh-compiler-0.12.2.min.js'];\n",
       "\n",
       "  var inline_js = [\n",
       "    function(Bokeh) {\n",
       "      Bokeh.set_log_level(\"info\");\n",
       "    },\n",
       "    \n",
       "    function(Bokeh) {\n",
       "      \n",
       "      Bokeh.$(\"#2d9dc072-149a-406e-82c0-86f9f99d6c1c\").text(\"BokehJS is loading...\");\n",
       "    },\n",
       "    function(Bokeh) {\n",
       "      console.log(\"Bokeh: injecting CSS: https://cdn.pydata.org/bokeh/release/bokeh-0.12.2.min.css\");\n",
       "      Bokeh.embed.inject_css(\"https://cdn.pydata.org/bokeh/release/bokeh-0.12.2.min.css\");\n",
       "      console.log(\"Bokeh: injecting CSS: https://cdn.pydata.org/bokeh/release/bokeh-widgets-0.12.2.min.css\");\n",
       "      Bokeh.embed.inject_css(\"https://cdn.pydata.org/bokeh/release/bokeh-widgets-0.12.2.min.css\");\n",
       "    }\n",
       "  ];\n",
       "\n",
       "  function run_inline_js() {\n",
       "    \n",
       "    if ((window.Bokeh !== undefined) || (force === \"1\")) {\n",
       "      for (var i = 0; i < inline_js.length; i++) {\n",
       "        inline_js[i](window.Bokeh);\n",
       "      }if (force === \"1\") {\n",
       "        display_loaded();\n",
       "      }} else if (Date.now() < window._bokeh_timeout) {\n",
       "      setTimeout(run_inline_js, 100);\n",
       "    } else if (!window._bokeh_failed_load) {\n",
       "      console.log(\"Bokeh: BokehJS failed to load within specified timeout.\");\n",
       "      window._bokeh_failed_load = true;\n",
       "    } else if (!force) {\n",
       "      var cell = $(\"#2d9dc072-149a-406e-82c0-86f9f99d6c1c\").parents('.cell').data().cell;\n",
       "      cell.output_area.append_execute_result(NB_LOAD_WARNING)\n",
       "    }\n",
       "\n",
       "  }\n",
       "\n",
       "  if (window._bokeh_is_loading === 0) {\n",
       "    console.log(\"Bokeh: BokehJS loaded, going straight to plotting\");\n",
       "    run_inline_js();\n",
       "  } else {\n",
       "    load_libs(js_urls, function() {\n",
       "      console.log(\"Bokeh: BokehJS plotting callback run at\", now());\n",
       "      run_inline_js();\n",
       "    });\n",
       "  }\n",
       "}(this));"
      ]
     },
     "metadata": {},
     "output_type": "display_data"
    }
   ],
   "source": [
    "output_notebook()\n",
    "\n",
    "\n",
    "\n",
    "def update(rawcount=True,cumulative=False,resample='yearly',discipline='genomics',data_type='pubs'):\n",
    "    def do_plot():\n",
    "        df = globals()['df_'+data_type]\n",
    "        #totals = globals()['totals_'+data_type]\n",
    "        totals = totals_pubs\n",
    "        #cum_totals = globals()['cum_totals_'+data_type]\n",
    "        cum_totals = cum_totals_pubs\n",
    "        lines = {}\n",
    "        hovers = {}\n",
    "        data = {}\n",
    "        colors = ['#%02x%02x%02x' % (a, b, c) for a,b,c in np.round(255*np.array(color_palette(\"coolwarm\",n_colors=len(discipline)))).astype(int)]\n",
    "        for i,disc in enumerate(discipline):\n",
    "            current = df[disc].resample(resample).sum()\n",
    "            totals_current = totals.resample(resample).sum()\n",
    "\n",
    "            if cumulative:\n",
    "                cum_totals_current = cum_totals.resample(resample).sum()\n",
    "                if rawcount:\n",
    "                    values = current.cumsum()\n",
    "                else:\n",
    "                    values = current.cumsum()/cum_totals_current\n",
    "            else:\n",
    "                totals_current = totals.resample(resample).sum()\n",
    "                if rawcount:\n",
    "                    values = current\n",
    "                else:\n",
    "                    values = current/totals_current\n",
    "            data[disc] = ColumnDataSource({'x':idx,'value':values,'date':datestrings,'percent':{False:values.apply(lambda x: \"{:.2f}%\".format(100*x)),True:values.apply(lambda x: \"{:,.0f}\".format(x))}[rawcount]})\n",
    "            lines[disc] = p.line('x','value',source=data[disc],color=colors[i],line_width=2)\n",
    "            hovers[disc] = HoverTool(renderers=[lines[disc]],tooltips=[('Discipline', disc),('date','@date'),('{} this period'.format(data_type),'@percent')])\n",
    "            p.add_tools(hovers[disc])\n",
    "            if data_type == 'keywords':\n",
    "                p.set(x_range=Range1d(parse('1990-01-01'), parse('2016-01-01')))\n",
    "    if discipline == 'all':\n",
    "        discpline = df.columns\n",
    "    else:\n",
    "        discipline = discipline.strip().split('|')\n",
    "        \n",
    "    p = figure(width=800,height=350,x_axis_type='datetime',tools=['pan,box_zoom,reset'])\n",
    "    p.select(dict(type=Axis, layout=\"left\"))[0].formatter.use_scientific = False\n",
    "    resample = {'Daily':'D','Weekly':'W','Monthly':'M','Yearly':'A'}[resample]\n",
    "    freq = {'D':'D','W':'W','M':'MS','A':'AS'}[resample]\n",
    "    idx = pd.date_range('1950-01-01','2015-12-31',freq=freq)\n",
    "    datestrings = idx.map(lambda x: x.strftime('%Y-%m-%d'))\n",
    "    if data_type == 'both':\n",
    "        for data_type in ('pubs','refs'):\n",
    "            do_plot()#data_type,discipline,p,resample,cumulative,rawcount)\n",
    "    else:\n",
    "        do_plot()#data_type,discipline,p,resample,cumulative,rawcount)\n",
    "    show(p)\n",
    "    \n",
    "\n",
    "\n"
   ]
  },
  {
   "cell_type": "code",
   "execution_count": 10,
   "metadata": {
    "collapsed": false
   },
   "outputs": [
    {
     "data": {
      "text/html": [
       "\n",
       "\n",
       "    <div class=\"bk-root\">\n",
       "        <div class=\"plotdiv\" id=\"e239598c-0e5a-4864-b802-77debf3699b3\"></div>\n",
       "    </div>\n",
       "<script type=\"text/javascript\">\n",
       "  \n",
       "  (function(global) {\n",
       "    function now() {\n",
       "      return new Date();\n",
       "    }\n",
       "  \n",
       "    var force = \"\";\n",
       "  \n",
       "    if (typeof (window._bokeh_onload_callbacks) === \"undefined\" || force !== \"\") {\n",
       "      window._bokeh_onload_callbacks = [];\n",
       "      window._bokeh_is_loading = undefined;\n",
       "    }\n",
       "  \n",
       "  \n",
       "    \n",
       "    if (typeof (window._bokeh_timeout) === \"undefined\" || force !== \"\") {\n",
       "      window._bokeh_timeout = Date.now() + 0;\n",
       "      window._bokeh_failed_load = false;\n",
       "    }\n",
       "  \n",
       "    var NB_LOAD_WARNING = {'data': {'text/html':\n",
       "       \"<div style='background-color: #fdd'>\\n\"+\n",
       "       \"<p>\\n\"+\n",
       "       \"BokehJS does not appear to have successfully loaded. If loading BokehJS from CDN, this \\n\"+\n",
       "       \"may be due to a slow or bad network connection. Possible fixes:\\n\"+\n",
       "       \"</p>\\n\"+\n",
       "       \"<ul>\\n\"+\n",
       "       \"<li>re-rerun `output_notebook()` to attempt to load from CDN again, or</li>\\n\"+\n",
       "       \"<li>use INLINE resources instead, as so:</li>\\n\"+\n",
       "       \"</ul>\\n\"+\n",
       "       \"<code>\\n\"+\n",
       "       \"from bokeh.resources import INLINE\\n\"+\n",
       "       \"output_notebook(resources=INLINE)\\n\"+\n",
       "       \"</code>\\n\"+\n",
       "       \"</div>\"}};\n",
       "  \n",
       "    function display_loaded() {\n",
       "      if (window.Bokeh !== undefined) {\n",
       "        Bokeh.$(\"#e239598c-0e5a-4864-b802-77debf3699b3\").text(\"BokehJS successfully loaded.\");\n",
       "      } else if (Date.now() < window._bokeh_timeout) {\n",
       "        setTimeout(display_loaded, 100)\n",
       "      }\n",
       "    }\n",
       "  \n",
       "    function run_callbacks() {\n",
       "      window._bokeh_onload_callbacks.forEach(function(callback) { callback() });\n",
       "      delete window._bokeh_onload_callbacks\n",
       "      console.info(\"Bokeh: all callbacks have finished\");\n",
       "    }\n",
       "  \n",
       "    function load_libs(js_urls, callback) {\n",
       "      window._bokeh_onload_callbacks.push(callback);\n",
       "      if (window._bokeh_is_loading > 0) {\n",
       "        console.log(\"Bokeh: BokehJS is being loaded, scheduling callback at\", now());\n",
       "        return null;\n",
       "      }\n",
       "      if (js_urls == null || js_urls.length === 0) {\n",
       "        run_callbacks();\n",
       "        return null;\n",
       "      }\n",
       "      console.log(\"Bokeh: BokehJS not loaded, scheduling load and callback at\", now());\n",
       "      window._bokeh_is_loading = js_urls.length;\n",
       "      for (var i = 0; i < js_urls.length; i++) {\n",
       "        var url = js_urls[i];\n",
       "        var s = document.createElement('script');\n",
       "        s.src = url;\n",
       "        s.async = false;\n",
       "        s.onreadystatechange = s.onload = function() {\n",
       "          window._bokeh_is_loading--;\n",
       "          if (window._bokeh_is_loading === 0) {\n",
       "            console.log(\"Bokeh: all BokehJS libraries loaded\");\n",
       "            run_callbacks()\n",
       "          }\n",
       "        };\n",
       "        s.onerror = function() {\n",
       "          console.warn(\"failed to load library \" + url);\n",
       "        };\n",
       "        console.log(\"Bokeh: injecting script tag for BokehJS library: \", url);\n",
       "        document.getElementsByTagName(\"head\")[0].appendChild(s);\n",
       "      }\n",
       "    };var element = document.getElementById(\"e239598c-0e5a-4864-b802-77debf3699b3\");\n",
       "    if (element == null) {\n",
       "      console.log(\"Bokeh: ERROR: autoload.js configured with elementid 'e239598c-0e5a-4864-b802-77debf3699b3' but no matching script tag was found. \")\n",
       "      return false;\n",
       "    }\n",
       "  \n",
       "    var js_urls = [];\n",
       "  \n",
       "    var inline_js = [\n",
       "      function(Bokeh) {\n",
       "        Bokeh.$(function() {\n",
       "            var docs_json = {\"7c07ec38-cdb8-4cd2-81e2-91e2f84c9179\":{\"roots\":{\"references\":[{\"attributes\":{\"callback\":null,\"end\":1451628000000.0,\"start\":631173600000.0},\"id\":\"cb139dbe-aa13-41cf-a629-4889ac92533b\",\"type\":\"Range1d\"},{\"attributes\":{\"callback\":null,\"column_names\":[\"date\",\"x\",\"percent\",\"value\"],\"data\":{\"date\":[\"1950-01-01\",\"1951-01-01\",\"1952-01-01\",\"1953-01-01\",\"1954-01-01\",\"1955-01-01\",\"1956-01-01\",\"1957-01-01\",\"1958-01-01\",\"1959-01-01\",\"1960-01-01\",\"1961-01-01\",\"1962-01-01\",\"1963-01-01\",\"1964-01-01\",\"1965-01-01\",\"1966-01-01\",\"1967-01-01\",\"1968-01-01\",\"1969-01-01\",\"1970-01-01\",\"1971-01-01\",\"1972-01-01\",\"1973-01-01\",\"1974-01-01\",\"1975-01-01\",\"1976-01-01\",\"1977-01-01\",\"1978-01-01\",\"1979-01-01\",\"1980-01-01\",\"1981-01-01\",\"1982-01-01\",\"1983-01-01\",\"1984-01-01\",\"1985-01-01\",\"1986-01-01\",\"1987-01-01\",\"1988-01-01\",\"1989-01-01\",\"1990-01-01\",\"1991-01-01\",\"1992-01-01\",\"1993-01-01\",\"1994-01-01\",\"1995-01-01\",\"1996-01-01\",\"1997-01-01\",\"1998-01-01\",\"1999-01-01\",\"2000-01-01\",\"2001-01-01\",\"2002-01-01\",\"2003-01-01\",\"2004-01-01\",\"2005-01-01\",\"2006-01-01\",\"2007-01-01\",\"2008-01-01\",\"2009-01-01\",\"2010-01-01\",\"2011-01-01\",\"2012-01-01\",\"2013-01-01\",\"2014-01-01\",\"2015-01-01\"],\"percent\":[\"0.00%\",\"0.00%\",\"0.00%\",\"0.00%\",\"0.00%\",\"0.00%\",\"0.00%\",\"0.00%\",\"nan%\",\"nan%\",\"0.00%\",\"nan%\",\"nan%\",\"nan%\",\"0.00%\",\"0.00%\",\"0.00%\",\"0.00%\",\"0.00%\",\"0.00%\",\"0.00%\",\"0.00%\",\"0.00%\",\"0.00%\",\"0.00%\",\"0.00%\",\"0.00%\",\"0.00%\",\"0.00%\",\"0.00%\",\"0.00%\",\"0.00%\",\"0.00%\",\"0.00%\",\"0.00%\",\"0.00%\",\"0.00%\",\"0.00%\",\"0.00%\",\"0.00%\",\"0.00%\",\"0.00%\",\"0.00%\",\"0.00%\",\"0.00%\",\"0.01%\",\"0.07%\",\"0.08%\",\"0.08%\",\"0.08%\",\"0.08%\",\"0.08%\",\"0.09%\",\"0.09%\",\"0.09%\",\"0.09%\",\"0.10%\",\"0.10%\",\"0.11%\",\"0.11%\",\"0.12%\",\"0.13%\",\"0.13%\",\"0.13%\",\"0.14%\",\"0.16%\"],\"value\":[0.0,0.0,0.0,0.0,0.0,0.0,0.0,0.0,\"NaN\",\"NaN\",0.0,\"NaN\",\"NaN\",\"NaN\",0.0,0.0,0.0,0.0,0.0,0.0,0.0,0.0,0.0,0.0,0.0,0.0,0.0,0.0,0.0,0.0,0.0,0.0,0.0,0.0,0.0,0.0,0.0,0.0,0.0,0.0,0.0,0.0,0.0,0.0,0.0,6.849720827594378e-05,0.0006870919562489555,0.0007621156122486807,0.0007779978088690029,0.0007930574638325386,0.0007973277489969103,0.0008243953803605659,0.0009015941935065777,0.0008815315981853042,0.0009108629247101046,0.0008906190220334129,0.0009639462703568473,0.000976683359382476,0.0010620944647841374,0.0010816018190946697,0.0012435416660716478,0.0012613520321328885,0.001336313603588867,0.0012916837204479366,0.0014191204905806309,0.001581665501510098],\"x\":[-631152000000.0,-599616000000.0,-568080000000.0,-536457600000.0,-504921600000.0,-473385600000.0,-441849600000.0,-410227200000.0,-378691200000.0,-347155200000.0,-315619200000.0,-283996800000.0,-252460800000.0,-220924800000.0,-189388800000.0,-157766400000.0,-126230400000.0,-94694400000.0,-63158400000.0,-31536000000.0,0.0,31536000000.0,63072000000.0,94694400000.0,126230400000.0,157766400000.0,189302400000.0,220924800000.0,252460800000.0,283996800000.0,315532800000.0,347155200000.0,378691200000.0,410227200000.0,441763200000.0,473385600000.0,504921600000.0,536457600000.0,567993600000.0,599616000000.0,631152000000.0,662688000000.0,694224000000.0,725846400000.0,757382400000.0,788918400000.0,820454400000.0,852076800000.0,883612800000.0,915148800000.0,946684800000.0,978307200000.0,1009843200000.0,1041379200000.0,1072915200000.0,1104537600000.0,1136073600000.0,1167609600000.0,1199145600000.0,1230768000000.0,1262304000000.0,1293840000000.0,1325376000000.0,1356998400000.0,1388534400000.0,1420070400000.0]}},\"id\":\"b8a881c5-d9e7-44c2-ad5b-c5d7a9f6b188\",\"type\":\"ColumnDataSource\"},{\"attributes\":{\"plot\":{\"id\":\"b9fc3709-24b4-4d38-9b26-2e9b1cfe2c9a\",\"subtype\":\"Figure\",\"type\":\"Plot\"},\"ticker\":{\"id\":\"fb12136f-b332-4df1-825c-1223f01b7983\",\"type\":\"DatetimeTicker\"}},\"id\":\"46ad8f53-a65d-433f-b1c2-8f2c8d96c010\",\"type\":\"Grid\"},{\"attributes\":{\"use_scientific\":false},\"id\":\"c5c02303-de96-402f-b8b3-5a6f41b267b4\",\"type\":\"BasicTickFormatter\"},{\"attributes\":{\"active_drag\":\"auto\",\"active_scroll\":\"auto\",\"active_tap\":\"auto\",\"tools\":[{\"id\":\"0856c104-4f36-4fbb-b27e-c744cb5f0d38\",\"type\":\"PanTool\"},{\"id\":\"c0bd4929-f8aa-461b-9ad3-bed517e17b62\",\"type\":\"BoxZoomTool\"},{\"id\":\"9f6b8d27-64e8-4d0d-8ae0-94856fafe96e\",\"type\":\"ResetTool\"},{\"id\":\"6a85cb7e-75b6-4cc3-a088-c9c00cc4ccea\",\"type\":\"HoverTool\"}]},\"id\":\"19c0face-4921-4b7d-8441-d8765c5bc777\",\"type\":\"Toolbar\"},{\"attributes\":{\"num_minor_ticks\":5},\"id\":\"fb12136f-b332-4df1-825c-1223f01b7983\",\"type\":\"DatetimeTicker\"},{\"attributes\":{\"line_color\":{\"value\":\"#dddcdc\"},\"line_width\":{\"value\":2},\"x\":{\"field\":\"x\"},\"y\":{\"field\":\"value\"}},\"id\":\"93dc435f-3924-4587-988c-7680b1a474c3\",\"type\":\"Line\"},{\"attributes\":{\"data_source\":{\"id\":\"b8a881c5-d9e7-44c2-ad5b-c5d7a9f6b188\",\"type\":\"ColumnDataSource\"},\"glyph\":{\"id\":\"93dc435f-3924-4587-988c-7680b1a474c3\",\"type\":\"Line\"},\"hover_glyph\":null,\"nonselection_glyph\":{\"id\":\"7780e196-a201-47a4-84fa-7b0de98a1175\",\"type\":\"Line\"},\"selection_glyph\":null},\"id\":\"70c44b64-7a4d-41d1-b012-de7ce35da885\",\"type\":\"GlyphRenderer\"},{\"attributes\":{\"months\":[0,6]},\"id\":\"552c19d4-7365-444a-9b97-4b1e19dbb8a4\",\"type\":\"MonthsTicker\"},{\"attributes\":{\"days\":[1,4,7,10,13,16,19,22,25,28]},\"id\":\"bfefb362-ca1c-4de7-81f7-ca38964c1cd0\",\"type\":\"DaysTicker\"},{\"attributes\":{\"overlay\":{\"id\":\"e4d288c3-03b2-42b6-961e-b26dcbdd1e02\",\"type\":\"BoxAnnotation\"},\"plot\":{\"id\":\"b9fc3709-24b4-4d38-9b26-2e9b1cfe2c9a\",\"subtype\":\"Figure\",\"type\":\"Plot\"}},\"id\":\"c0bd4929-f8aa-461b-9ad3-bed517e17b62\",\"type\":\"BoxZoomTool\"},{\"attributes\":{\"months\":[0,2,4,6,8,10]},\"id\":\"599c86ec-21b6-435d-8ac7-2e193475797e\",\"type\":\"MonthsTicker\"},{\"attributes\":{\"dimension\":1,\"plot\":{\"id\":\"b9fc3709-24b4-4d38-9b26-2e9b1cfe2c9a\",\"subtype\":\"Figure\",\"type\":\"Plot\"},\"ticker\":{\"id\":\"2d5a65e3-02dc-4a8b-8be1-79d0404a1454\",\"type\":\"BasicTicker\"}},\"id\":\"41f7ea89-de70-4668-91e9-71661961abd6\",\"type\":\"Grid\"},{\"attributes\":{},\"id\":\"bfed2e94-ae2e-4a38-b034-2aea73f888db\",\"type\":\"YearsTicker\"},{\"attributes\":{\"formatter\":{\"id\":\"1830e2db-defb-47c8-9077-cae3cc15e042\",\"type\":\"DatetimeTickFormatter\"},\"plot\":{\"id\":\"b9fc3709-24b4-4d38-9b26-2e9b1cfe2c9a\",\"subtype\":\"Figure\",\"type\":\"Plot\"},\"ticker\":{\"id\":\"fb12136f-b332-4df1-825c-1223f01b7983\",\"type\":\"DatetimeTicker\"}},\"id\":\"358f9d36-0e05-4e5d-ac51-68285e8685a8\",\"type\":\"DatetimeAxis\"},{\"attributes\":{\"plot\":null,\"text\":null},\"id\":\"3b25ed52-5c51-4eff-9826-deedf59e27fd\",\"type\":\"Title\"},{\"attributes\":{\"days\":[1,2,3,4,5,6,7,8,9,10,11,12,13,14,15,16,17,18,19,20,21,22,23,24,25,26,27,28,29,30,31]},\"id\":\"c80a3602-7e2b-4893-8bdc-5a1f174b5e98\",\"type\":\"DaysTicker\"},{\"attributes\":{\"months\":[0,1,2,3,4,5,6,7,8,9,10,11]},\"id\":\"9df8654b-681a-43c8-90ad-1f7740df679b\",\"type\":\"MonthsTicker\"},{\"attributes\":{\"days\":[1,8,15,22]},\"id\":\"6058252c-5056-4095-a23f-d609645b45d7\",\"type\":\"DaysTicker\"},{\"attributes\":{\"plot\":{\"id\":\"b9fc3709-24b4-4d38-9b26-2e9b1cfe2c9a\",\"subtype\":\"Figure\",\"type\":\"Plot\"}},\"id\":\"9f6b8d27-64e8-4d0d-8ae0-94856fafe96e\",\"type\":\"ResetTool\"},{\"attributes\":{\"line_alpha\":{\"value\":0.1},\"line_color\":{\"value\":\"#1f77b4\"},\"line_width\":{\"value\":2},\"x\":{\"field\":\"x\"},\"y\":{\"field\":\"value\"}},\"id\":\"7780e196-a201-47a4-84fa-7b0de98a1175\",\"type\":\"Line\"},{\"attributes\":{},\"id\":\"2d5a65e3-02dc-4a8b-8be1-79d0404a1454\",\"type\":\"BasicTicker\"},{\"attributes\":{\"months\":[0,4,8]},\"id\":\"ee56dedb-58e0-49ac-9419-0ce51221a21d\",\"type\":\"MonthsTicker\"},{\"attributes\":{\"plot\":{\"id\":\"b9fc3709-24b4-4d38-9b26-2e9b1cfe2c9a\",\"subtype\":\"Figure\",\"type\":\"Plot\"}},\"id\":\"0856c104-4f36-4fbb-b27e-c744cb5f0d38\",\"type\":\"PanTool\"},{\"attributes\":{},\"id\":\"6b3c683f-0c2e-4695-96d4-0a884c63ad0c\",\"type\":\"ToolEvents\"},{\"attributes\":{},\"id\":\"1830e2db-defb-47c8-9077-cae3cc15e042\",\"type\":\"DatetimeTickFormatter\"},{\"attributes\":{\"base\":24,\"mantissas\":[1,2,4,6,8,12],\"max_interval\":43200000.0,\"min_interval\":3600000.0,\"num_minor_ticks\":0},\"id\":\"b186814a-278d-4c7d-9646-b655870e46ad\",\"type\":\"AdaptiveTicker\"},{\"attributes\":{\"base\":60,\"mantissas\":[1,2,5,10,15,20,30],\"max_interval\":1800000.0,\"min_interval\":1000.0,\"num_minor_ticks\":0},\"id\":\"4629b41c-fc68-41b1-9453-5fcf4c27c5c8\",\"type\":\"AdaptiveTicker\"},{\"attributes\":{\"formatter\":{\"id\":\"c5c02303-de96-402f-b8b3-5a6f41b267b4\",\"type\":\"BasicTickFormatter\"},\"plot\":{\"id\":\"b9fc3709-24b4-4d38-9b26-2e9b1cfe2c9a\",\"subtype\":\"Figure\",\"type\":\"Plot\"},\"ticker\":{\"id\":\"2d5a65e3-02dc-4a8b-8be1-79d0404a1454\",\"type\":\"BasicTicker\"}},\"id\":\"93cb0be0-51c1-496b-9c52-028f41a11313\",\"type\":\"LinearAxis\"},{\"attributes\":{\"max_interval\":500.0,\"num_minor_ticks\":0},\"id\":\"9fb7e83a-6886-4d36-b425-17e278a52178\",\"type\":\"AdaptiveTicker\"},{\"attributes\":{\"bottom_units\":\"screen\",\"fill_alpha\":{\"value\":0.5},\"fill_color\":{\"value\":\"lightgrey\"},\"left_units\":\"screen\",\"level\":\"overlay\",\"line_alpha\":{\"value\":1.0},\"line_color\":{\"value\":\"black\"},\"line_dash\":[4,4],\"line_width\":{\"value\":2},\"plot\":null,\"render_mode\":\"css\",\"right_units\":\"screen\",\"top_units\":\"screen\"},\"id\":\"e4d288c3-03b2-42b6-961e-b26dcbdd1e02\",\"type\":\"BoxAnnotation\"},{\"attributes\":{\"callback\":null,\"plot\":{\"id\":\"b9fc3709-24b4-4d38-9b26-2e9b1cfe2c9a\",\"subtype\":\"Figure\",\"type\":\"Plot\"},\"renderers\":[{\"id\":\"70c44b64-7a4d-41d1-b012-de7ce35da885\",\"type\":\"GlyphRenderer\"}],\"tooltips\":[[\"Discipline\",\"alzheimer's disease\"],[\"date\",\"@date\"],[\"keywords this period\",\"@percent\"]]},\"id\":\"6a85cb7e-75b6-4cc3-a088-c9c00cc4ccea\",\"type\":\"HoverTool\"},{\"attributes\":{\"below\":[{\"id\":\"358f9d36-0e05-4e5d-ac51-68285e8685a8\",\"type\":\"DatetimeAxis\"}],\"left\":[{\"id\":\"93cb0be0-51c1-496b-9c52-028f41a11313\",\"type\":\"LinearAxis\"}],\"plot_height\":350,\"plot_width\":800,\"renderers\":[{\"id\":\"358f9d36-0e05-4e5d-ac51-68285e8685a8\",\"type\":\"DatetimeAxis\"},{\"id\":\"46ad8f53-a65d-433f-b1c2-8f2c8d96c010\",\"type\":\"Grid\"},{\"id\":\"93cb0be0-51c1-496b-9c52-028f41a11313\",\"type\":\"LinearAxis\"},{\"id\":\"41f7ea89-de70-4668-91e9-71661961abd6\",\"type\":\"Grid\"},{\"id\":\"e4d288c3-03b2-42b6-961e-b26dcbdd1e02\",\"type\":\"BoxAnnotation\"},{\"id\":\"70c44b64-7a4d-41d1-b012-de7ce35da885\",\"type\":\"GlyphRenderer\"}],\"title\":{\"id\":\"3b25ed52-5c51-4eff-9826-deedf59e27fd\",\"type\":\"Title\"},\"tool_events\":{\"id\":\"6b3c683f-0c2e-4695-96d4-0a884c63ad0c\",\"type\":\"ToolEvents\"},\"toolbar\":{\"id\":\"19c0face-4921-4b7d-8441-d8765c5bc777\",\"type\":\"Toolbar\"},\"x_range\":{\"id\":\"cb139dbe-aa13-41cf-a629-4889ac92533b\",\"type\":\"Range1d\"},\"y_range\":{\"id\":\"3594ea1a-6332-48ba-a320-758c97d8a37b\",\"type\":\"DataRange1d\"}},\"id\":\"b9fc3709-24b4-4d38-9b26-2e9b1cfe2c9a\",\"subtype\":\"Figure\",\"type\":\"Plot\"},{\"attributes\":{\"callback\":null},\"id\":\"3594ea1a-6332-48ba-a320-758c97d8a37b\",\"type\":\"DataRange1d\"},{\"attributes\":{\"days\":[1,15]},\"id\":\"2ca80cad-1bd9-4fc7-a02c-c420e2ba22a3\",\"type\":\"DaysTicker\"}],\"root_ids\":[\"b9fc3709-24b4-4d38-9b26-2e9b1cfe2c9a\"]},\"title\":\"Bokeh Application\",\"version\":\"0.12.2\"}};\n",
       "            var render_items = [{\"docid\":\"7c07ec38-cdb8-4cd2-81e2-91e2f84c9179\",\"elementid\":\"e239598c-0e5a-4864-b802-77debf3699b3\",\"modelid\":\"b9fc3709-24b4-4d38-9b26-2e9b1cfe2c9a\"}];\n",
       "            \n",
       "            Bokeh.embed.embed_items(docs_json, render_items);\n",
       "        });\n",
       "      },\n",
       "      function(Bokeh) {\n",
       "      }\n",
       "    ];\n",
       "  \n",
       "    function run_inline_js() {\n",
       "      \n",
       "      if ((window.Bokeh !== undefined) || (force === \"1\")) {\n",
       "        for (var i = 0; i < inline_js.length; i++) {\n",
       "          inline_js[i](window.Bokeh);\n",
       "        }if (force === \"1\") {\n",
       "          display_loaded();\n",
       "        }} else if (Date.now() < window._bokeh_timeout) {\n",
       "        setTimeout(run_inline_js, 100);\n",
       "      } else if (!window._bokeh_failed_load) {\n",
       "        console.log(\"Bokeh: BokehJS failed to load within specified timeout.\");\n",
       "        window._bokeh_failed_load = true;\n",
       "      } else if (!force) {\n",
       "        var cell = $(\"#e239598c-0e5a-4864-b802-77debf3699b3\").parents('.cell').data().cell;\n",
       "        cell.output_area.append_execute_result(NB_LOAD_WARNING)\n",
       "      }\n",
       "  \n",
       "    }\n",
       "  \n",
       "    if (window._bokeh_is_loading === 0) {\n",
       "      console.log(\"Bokeh: BokehJS loaded, going straight to plotting\");\n",
       "      run_inline_js();\n",
       "    } else {\n",
       "      load_libs(js_urls, function() {\n",
       "        console.log(\"Bokeh: BokehJS plotting callback run at\", now());\n",
       "        run_inline_js();\n",
       "      });\n",
       "    }\n",
       "  }(this));\n",
       "</script>"
      ]
     },
     "metadata": {},
     "output_type": "display_data"
    }
   ],
   "source": [
    "from ipywidgets import Dropdown,Text,Checkbox,interact\n",
    "\n",
    "disc_select = Text(description='Discipline',value='Psychology')\n",
    "rawcount_select = Checkbox(description = 'rawcount',value=True)\n",
    "cumulative_select = Checkbox(description='cumulativ',value=False)\n",
    "resample_select = Dropdown(description=\"Resample\",options=[\"Daily\",\"Weekly\",\"Monthly\",\"Yearly\"],value=\"Yearly\")\n",
    "data_select = Dropdown(description=\"Data\",options=[\"pubs\",\"refs\",\"keywords\",\"both\"],value=\"keywords\")\n",
    "\n",
    "\n",
    "\n",
    "interact(update,rawcount=rawcount_select,cumulative=cumulative_select,\n",
    "         disc=disc_select,resample=resample_select,data_type=data_select);\n"
   ]
  },
  {
   "cell_type": "code",
   "execution_count": 62,
   "metadata": {
    "collapsed": false
   },
   "outputs": [],
   "source": [
    "new_df = df_keywords.ix['1991':]\n",
    "arr = new_df.divide(totals_pubs.reindex(new_df.index.values),axis=0).T.values"
   ]
  },
  {
   "cell_type": "code",
   "execution_count": 66,
   "metadata": {
    "collapsed": false
   },
   "outputs": [],
   "source": [
    "from sklearn.cluster import KMeans\n",
    "\n",
    "kmeans = KMeans(n_clusters=16, random_state=0).fit(arr)\n"
   ]
  },
  {
   "cell_type": "code",
   "execution_count": 71,
   "metadata": {
    "collapsed": true
   },
   "outputs": [],
   "source": [
    "labels = kmeans.labels_"
   ]
  },
  {
   "cell_type": "code",
   "execution_count": 75,
   "metadata": {
    "collapsed": false
   },
   "outputs": [
    {
     "data": {
      "image/png": "[encoded data removed]",
      "text/plain": [
       "<matplotlib.figure.Figure at 0x1b8e98c90>"
      ]
     },
     "metadata": {},
     "output_type": "display_data"
    }
   ],
   "source": [
    "fig,ax = plt.subplots(4,4)\n",
    "af = ax.flat\n",
    "for i,row in enumerate(kmeans.cluster_centers_):\n",
    "    ax = af.next()\n",
    "    ax.plot(row)\n",
    "    ax.set_xticklabels([])\n",
    "    ax.set_yticklabels([])\n",
    "    ax.set_title('N = {}'.format(np.where(labels==i)[0].sum()))"
   ]
  },
  {
   "cell_type": "code",
   "execution_count": null,
   "metadata": {
    "collapsed": false
   },
   "outputs": [],
   "source": [
    "srt = vc.sort_values(ascending=False)"
   ]
  },
  {
   "cell_type": "code",
   "execution_count": 30,
   "metadata": {
    "collapsed": false
   },
   "outputs": [
    {
     "data": {
      "text/plain": [
       "53785058"
      ]
     },
     "execution_count": 30,
     "metadata": {},
     "output_type": "execute_result"
    }
   ],
   "source": [
    "totals_pubs.sum()"
   ]
  },
  {
   "cell_type": "code",
   "execution_count": 31,
   "metadata": {
    "collapsed": false
   },
   "outputs": [
    {
     "data": {
      "text/plain": [
       "keyword\n",
       "care                      99135\n",
       "particles                 98740\n",
       "complex                   97436\n",
       "prediction                97306\n",
       "breast-cancer             96276\n",
       "metaanalysis              96171\n",
       "chemotherapy              95717\n",
       "energy                    95542\n",
       "reduction                 94350\n",
       "microstructure            93435\n",
       "complications             92578\n",
       "proliferation             92304\n",
       "size                      92188\n",
       "diffusion                 91994\n",
       "recognition               91325\n",
       "transition                91184\n",
       "diversity                 90466\n",
       "mutations                 89962\n",
       "pregnancy                 88860\n",
       "state                     88050\n",
       "adults                    87279\n",
       "information               86931\n",
       "hypertension              86482\n",
       "toxicity                  86465\n",
       "polymers                  86133\n",
       "plants                    86019\n",
       "family                    85870\n",
       "double-blind              85449\n",
       "validation                85280\n",
       "adolescents               84585\n",
       "                          ...  \n",
       "prognosis                 70463\n",
       "networks                  70442\n",
       "genes                     70429\n",
       "invitro                   70323\n",
       "central-nervous-system    70130\n",
       "variability               69989\n",
       "silicon                   69681\n",
       "schizophrenia             69575\n",
       "pharmacokinetics          69501\n",
       "nitrogen                  69241\n",
       "scale                     69079\n",
       "light                     68721\n",
       "radiation                 68559\n",
       "deposition                68258\n",
       "receptors                 67698\n",
       "carbon                    67612\n",
       "dependence                67186\n",
       "disorders                 66900\n",
       "pressure                  66766\n",
       "resolution                66173\n",
       "iron                      65272\n",
       "parameters                65259\n",
       "composites                64946\n",
       "damage                    64064\n",
       "angiogenesis              63968\n",
       "efficiency                63896\n",
       "myocardial-infarction     63818\n",
       "oxygen                    63438\n",
       "pathway                   63275\n",
       "transcription             63268\n",
       "Name: freq, dtype: int64"
      ]
     },
     "execution_count": 31,
     "metadata": {},
     "output_type": "execute_result"
    }
   ],
   "source": [
    "vc.sort_values(ascending=False)[100:200]"
   ]
  },
  {
   "cell_type": "code",
   "execution_count": null,
   "metadata": {
    "collapsed": true
   },
   "outputs": [],
   "source": []
  }
 ],
 "metadata": {
  "anaconda-cloud": {},
  "kernelspec": {
   "display_name": "Python [default]",
   "language": "python",
   "name": "python2"
  },
  "language_info": {
   "codemirror_mode": {
    "name": "ipython",
    "version": 2
   },
   "file_extension": ".py",
   "mimetype": "text/x-python",
   "name": "python",
   "nbconvert_exporter": "python",
   "pygments_lexer": "ipython2",
   "version": "2.7.12"
  },
  "widgets": {
   "state": {
    "d97e4c04e8cf486398ccf3963cf1e95c": {
     "views": [
      {
       "cell_index": 9
      }
     ]
    }
   },
   "version": "1.2.0"
  }
 },
 "nbformat": 4,
 "nbformat_minor": 0
}
