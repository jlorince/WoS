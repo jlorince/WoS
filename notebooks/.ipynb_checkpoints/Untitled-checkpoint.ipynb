{
 "cells": [
  {
   "cell_type": "code",
   "execution_count": 1,
   "metadata": {
    "collapsed": true
   },
   "outputs": [],
   "source": [
    "from matplotlib import pyplot as plt\n",
    "%matplotlib inline\n",
    "import seaborn as sns\n",
    "from seaborn import color_palette\n",
    "\n",
    "import pandas as pd \n",
    "import numpy as np\n",
    "from dateutil.parser import parse\n",
    "\n",
    "import bokeh\n",
    "from bokeh.io import push_notebook, show, output_notebook\n",
    "from bokeh.plotting import figure, output_file, show, curdoc\n",
    "from bokeh.models import Circle,BoxSelectTool, BoxZoomTool, LassoSelectTool,Text,HoverTool,ColumnDataSource, Range1d, Axis"
   ]
  },
  {
   "cell_type": "code",
   "execution_count": 2,
   "metadata": {
    "collapsed": false
   },
   "outputs": [],
   "source": [
    "totals_pubs = pd.Series(index=pd.date_range('1950-01-01','2015-12-31',freq='AS',),data=[97529,102475,106673,108515,113949,100346,115704,122845,133961,137311,152292,179267,188095,196106,221271,288753,327167,349344,364851,399384,405709,420089,448565,459029,495345,566369,606671,683684,703905,728908,749425,775628,810977,875161,893747,893536,909200,920189,901468,856502,880419,901808,922010,963477,1015818,1080336,1130853,1159929,1161957,1187808,1205276,1189963,1234480,1270516,1356955,1434957,1495934,1567550,1655220,1716898,1750645,1836125,1913473,2005909,2027312,1809485,])\n",
    "totals_refs = pd.Series(index=pd.date_range('1950-01-01','2015-12-31',freq='AS',),data=[862276,913941,991301,1054144,1082894,993625,1132516,1195067,1291857,1390632,1496650,1927193,2030321,2167335,2530307,3071105,3556047,3822576,4197118,4439659,4483020,4909395,5406217,5614448,5994449,6801509,7391424,7858516,8097995,8733158,9155748,9680861,10507381,11104584,11725145,12482330,12384351,12773481,13165658,13524406,14225948,15057108,15906821,16710320,17930450,19381008,21289915,22082648,22865217,23589060,24585765,25072234,26210739,27773579,29654550,31816766,34430852,36991583,40692695,43594503,46666951,50946087,55088628,59408651,62668029,59436898,])"
   ]
  },
  {
   "cell_type": "code",
   "execution_count": 3,
   "metadata": {
    "collapsed": true
   },
   "outputs": [],
   "source": [
    "df_refs = pd.read_pickle('/Users/jaredlorince/Desktop/d_pop_refs.pkl')\n",
    "df_pubs = pd.read_pickle('/Users/jaredlorince/Desktop/d_pop.pkl')\n",
    "df_keywords = pd.read_pickle('/Users/jaredlorince/Desktop/d_pop_keywords.pkl')"
   ]
  },
  {
   "cell_type": "code",
   "execution_count": 4,
   "metadata": {
    "collapsed": false
   },
   "outputs": [],
   "source": [
    "vc = df_keywords.groupby('keyword')['freq'].sum()\n",
    "vc_df = vc[vc>=100].reset_index()\n",
    "df_keywords=df_keywords.join(vc_df.set_index('keyword'),on='keyword',how='inner',rsuffix='_')"
   ]
  },
  {
   "cell_type": "code",
   "execution_count": 5,
   "metadata": {
    "collapsed": false
   },
   "outputs": [],
   "source": [
    "df_pubs = df_pubs.reset_index().pivot_table(index='date',columns='category',values='uid').fillna(0).ix[:'2015']\n",
    "df_refs = df_refs.reset_index().pivot_table(index='date',columns='category',values='cnt').fillna(0).ix[:'2015']\n",
    "df_keywords = df_keywords.pivot_table(index='date',columns='keyword',values='freq').fillna(0).ix[:'2015']"
   ]
  },
  {
   "cell_type": "code",
   "execution_count": 7,
   "metadata": {
    "collapsed": false
   },
   "outputs": [
    {
     "data": {
      "text/plain": [
       "(61, 176296)"
      ]
     },
     "execution_count": 7,
     "metadata": {},
     "output_type": "execute_result"
    }
   ],
   "source": [
    "df_keywords.shape"
   ]
  },
  {
   "cell_type": "code",
   "execution_count": 8,
   "metadata": {
    "collapsed": false
   },
   "outputs": [],
   "source": [
    "#totals = df.sum(1)\n",
    "cum_totals_pubs = totals_pubs.cumsum()\n",
    "cum_totals_refs = totals_refs.cumsum()"
   ]
  },
  {
   "cell_type": "code",
   "execution_count": 9,
   "metadata": {
    "collapsed": false
   },
   "outputs": [],
   "source": [
    "#top = df.sum().sort_values(ascending=False).index"
   ]
  },
  {
   "cell_type": "code",
   "execution_count": 10,
   "metadata": {
    "collapsed": false
   },
   "outputs": [
    {
     "data": {
      "text/html": [
       "\n",
       "    <div class=\"bk-root\">\n",
       "        <a href=\"http://bokeh.pydata.org\" target=\"_blank\" class=\"bk-logo bk-logo-small bk-logo-notebook\"></a>\n",
       "        <span id=\"df156336-1176-4aeb-914d-307d4a15d2ba\">Loading BokehJS ...</span>\n",
       "    </div>"
      ]
     },
     "metadata": {},
     "output_type": "display_data"
    },
    {
     "data": {
      "application/javascript": [
       "\n",
       "(function(global) {\n",
       "  function now() {\n",
       "    return new Date();\n",
       "  }\n",
       "\n",
       "  var force = \"1\";\n",
       "\n",
       "  if (typeof (window._bokeh_onload_callbacks) === \"undefined\" || force !== \"\") {\n",
       "    window._bokeh_onload_callbacks = [];\n",
       "    window._bokeh_is_loading = undefined;\n",
       "  }\n",
       "\n",
       "\n",
       "  \n",
       "  if (typeof (window._bokeh_timeout) === \"undefined\" || force !== \"\") {\n",
       "    window._bokeh_timeout = Date.now() + 5000;\n",
       "    window._bokeh_failed_load = false;\n",
       "  }\n",
       "\n",
       "  var NB_LOAD_WARNING = {'data': {'text/html':\n",
       "     \"<div style='background-color: #fdd'>\\n\"+\n",
       "     \"<p>\\n\"+\n",
       "     \"BokehJS does not appear to have successfully loaded. If loading BokehJS from CDN, this \\n\"+\n",
       "     \"may be due to a slow or bad network connection. Possible fixes:\\n\"+\n",
       "     \"</p>\\n\"+\n",
       "     \"<ul>\\n\"+\n",
       "     \"<li>re-rerun `output_notebook()` to attempt to load from CDN again, or</li>\\n\"+\n",
       "     \"<li>use INLINE resources instead, as so:</li>\\n\"+\n",
       "     \"</ul>\\n\"+\n",
       "     \"<code>\\n\"+\n",
       "     \"from bokeh.resources import INLINE\\n\"+\n",
       "     \"output_notebook(resources=INLINE)\\n\"+\n",
       "     \"</code>\\n\"+\n",
       "     \"</div>\"}};\n",
       "\n",
       "  function display_loaded() {\n",
       "    if (window.Bokeh !== undefined) {\n",
       "      Bokeh.$(\"#df156336-1176-4aeb-914d-307d4a15d2ba\").text(\"BokehJS successfully loaded.\");\n",
       "    } else if (Date.now() < window._bokeh_timeout) {\n",
       "      setTimeout(display_loaded, 100)\n",
       "    }\n",
       "  }\n",
       "\n",
       "  function run_callbacks() {\n",
       "    window._bokeh_onload_callbacks.forEach(function(callback) { callback() });\n",
       "    delete window._bokeh_onload_callbacks\n",
       "    console.info(\"Bokeh: all callbacks have finished\");\n",
       "  }\n",
       "\n",
       "  function load_libs(js_urls, callback) {\n",
       "    window._bokeh_onload_callbacks.push(callback);\n",
       "    if (window._bokeh_is_loading > 0) {\n",
       "      console.log(\"Bokeh: BokehJS is being loaded, scheduling callback at\", now());\n",
       "      return null;\n",
       "    }\n",
       "    if (js_urls == null || js_urls.length === 0) {\n",
       "      run_callbacks();\n",
       "      return null;\n",
       "    }\n",
       "    console.log(\"Bokeh: BokehJS not loaded, scheduling load and callback at\", now());\n",
       "    window._bokeh_is_loading = js_urls.length;\n",
       "    for (var i = 0; i < js_urls.length; i++) {\n",
       "      var url = js_urls[i];\n",
       "      var s = document.createElement('script');\n",
       "      s.src = url;\n",
       "      s.async = false;\n",
       "      s.onreadystatechange = s.onload = function() {\n",
       "        window._bokeh_is_loading--;\n",
       "        if (window._bokeh_is_loading === 0) {\n",
       "          console.log(\"Bokeh: all BokehJS libraries loaded\");\n",
       "          run_callbacks()\n",
       "        }\n",
       "      };\n",
       "      s.onerror = function() {\n",
       "        console.warn(\"failed to load library \" + url);\n",
       "      };\n",
       "      console.log(\"Bokeh: injecting script tag for BokehJS library: \", url);\n",
       "      document.getElementsByTagName(\"head\")[0].appendChild(s);\n",
       "    }\n",
       "  };var element = document.getElementById(\"df156336-1176-4aeb-914d-307d4a15d2ba\");\n",
       "  if (element == null) {\n",
       "    console.log(\"Bokeh: ERROR: autoload.js configured with elementid 'df156336-1176-4aeb-914d-307d4a15d2ba' but no matching script tag was found. \")\n",
       "    return false;\n",
       "  }\n",
       "\n",
       "  var js_urls = ['https://cdn.pydata.org/bokeh/release/bokeh-0.12.2.min.js', 'https://cdn.pydata.org/bokeh/release/bokeh-widgets-0.12.2.min.js', 'https://cdn.pydata.org/bokeh/release/bokeh-compiler-0.12.2.min.js'];\n",
       "\n",
       "  var inline_js = [\n",
       "    function(Bokeh) {\n",
       "      Bokeh.set_log_level(\"info\");\n",
       "    },\n",
       "    \n",
       "    function(Bokeh) {\n",
       "      \n",
       "      Bokeh.$(\"#df156336-1176-4aeb-914d-307d4a15d2ba\").text(\"BokehJS is loading...\");\n",
       "    },\n",
       "    function(Bokeh) {\n",
       "      console.log(\"Bokeh: injecting CSS: https://cdn.pydata.org/bokeh/release/bokeh-0.12.2.min.css\");\n",
       "      Bokeh.embed.inject_css(\"https://cdn.pydata.org/bokeh/release/bokeh-0.12.2.min.css\");\n",
       "      console.log(\"Bokeh: injecting CSS: https://cdn.pydata.org/bokeh/release/bokeh-widgets-0.12.2.min.css\");\n",
       "      Bokeh.embed.inject_css(\"https://cdn.pydata.org/bokeh/release/bokeh-widgets-0.12.2.min.css\");\n",
       "    }\n",
       "  ];\n",
       "\n",
       "  function run_inline_js() {\n",
       "    \n",
       "    if ((window.Bokeh !== undefined) || (force === \"1\")) {\n",
       "      for (var i = 0; i < inline_js.length; i++) {\n",
       "        inline_js[i](window.Bokeh);\n",
       "      }if (force === \"1\") {\n",
       "        display_loaded();\n",
       "      }} else if (Date.now() < window._bokeh_timeout) {\n",
       "      setTimeout(run_inline_js, 100);\n",
       "    } else if (!window._bokeh_failed_load) {\n",
       "      console.log(\"Bokeh: BokehJS failed to load within specified timeout.\");\n",
       "      window._bokeh_failed_load = true;\n",
       "    } else if (!force) {\n",
       "      var cell = $(\"#df156336-1176-4aeb-914d-307d4a15d2ba\").parents('.cell').data().cell;\n",
       "      cell.output_area.append_execute_result(NB_LOAD_WARNING)\n",
       "    }\n",
       "\n",
       "  }\n",
       "\n",
       "  if (window._bokeh_is_loading === 0) {\n",
       "    console.log(\"Bokeh: BokehJS loaded, going straight to plotting\");\n",
       "    run_inline_js();\n",
       "  } else {\n",
       "    load_libs(js_urls, function() {\n",
       "      console.log(\"Bokeh: BokehJS plotting callback run at\", now());\n",
       "      run_inline_js();\n",
       "    });\n",
       "  }\n",
       "}(this));"
      ]
     },
     "metadata": {},
     "output_type": "display_data"
    }
   ],
   "source": [
    "output_notebook()\n",
    "\n",
    "\n",
    "\n",
    "def update(rawcount=True,cumulative=False,resample='yearly',discipline='genomics',data_type='pubs'):\n",
    "    def do_plot():\n",
    "        df = globals()['df_'+data_type]\n",
    "        #totals = globals()['totals_'+data_type]\n",
    "        totals = totals_pubs\n",
    "        #cum_totals = globals()['cum_totals_'+data_type]\n",
    "        cum_totals = cum_totals_pubs\n",
    "        lines = {}\n",
    "        hovers = {}\n",
    "        data = {}\n",
    "        colors = ['#%02x%02x%02x' % (a, b, c) for a,b,c in np.round(255*np.array(color_palette(\"coolwarm\",n_colors=len(discipline)))).astype(int)]\n",
    "        for i,disc in enumerate(discipline):\n",
    "            current = df[disc].resample(resample).sum()\n",
    "            totals_current = totals.resample(resample).sum()\n",
    "\n",
    "            if cumulative:\n",
    "                cum_totals_current = cum_totals.resample(resample).sum()\n",
    "                if rawcount:\n",
    "                    values = current.cumsum()\n",
    "                else:\n",
    "                    values = current.cumsum()/cum_totals_current\n",
    "            else:\n",
    "                totals_current = totals.resample(resample).sum()\n",
    "                if rawcount:\n",
    "                    values = current\n",
    "                else:\n",
    "                    values = current/totals_current\n",
    "            data[disc] = ColumnDataSource({'x':idx,'value':values,'date':datestrings,'percent':{False:values.apply(lambda x: \"{:.2f}%\".format(100*x)),True:values.apply(lambda x: \"{:,.0f}\".format(x))}[rawcount]})\n",
    "            lines[disc] = p.line('x','value',source=data[disc],color=colors[i],line_width=2)\n",
    "            hovers[disc] = HoverTool(renderers=[lines[disc]],tooltips=[('Discipline', disc),('date','@date'),('{} this period'.format(data_type),'@percent')])\n",
    "            p.add_tools(hovers[disc])\n",
    "            if data_type == 'keywords':\n",
    "                p.set(x_range=Range1d(parse('1990-01-01'), parse('2016-01-01')))\n",
    "    if discipline == 'all':\n",
    "        discpline = df.columns\n",
    "    else:\n",
    "        discipline = discipline.strip().split('|')\n",
    "        \n",
    "    p = figure(width=800,height=350,x_axis_type='datetime',tools=['pan,box_zoom,reset'])\n",
    "    p.select(dict(type=Axis, layout=\"left\"))[0].formatter.use_scientific = False\n",
    "    resample = {'Daily':'D','Weekly':'W','Monthly':'M','Yearly':'A'}[resample]\n",
    "    freq = {'D':'D','W':'W','M':'MS','A':'AS'}[resample]\n",
    "    idx = pd.date_range('1950-01-01','2015-12-31',freq=freq)\n",
    "    datestrings = idx.map(lambda x: x.strftime('%Y-%m-%d'))\n",
    "    if data_type == 'both':\n",
    "        for data_type in ('pubs','refs'):\n",
    "            do_plot()#data_type,discipline,p,resample,cumulative,rawcount)\n",
    "    else:\n",
    "        do_plot()#data_type,discipline,p,resample,cumulative,rawcount)\n",
    "    show(p)\n",
    "    \n",
    "\n",
    "\n"
   ]
  },
  {
   "cell_type": "code",
   "execution_count": 11,
   "metadata": {
    "collapsed": false
   },
   "outputs": [
    {
     "data": {
      "text/html": [
       "\n",
       "\n",
       "    <div class=\"bk-root\">\n",
       "        <div class=\"plotdiv\" id=\"f5f2742b-ec24-4b01-9fac-c1017fb81bc0\"></div>\n",
       "    </div>\n",
       "<script type=\"text/javascript\">\n",
       "  \n",
       "  (function(global) {\n",
       "    function now() {\n",
       "      return new Date();\n",
       "    }\n",
       "  \n",
       "    var force = \"\";\n",
       "  \n",
       "    if (typeof (window._bokeh_onload_callbacks) === \"undefined\" || force !== \"\") {\n",
       "      window._bokeh_onload_callbacks = [];\n",
       "      window._bokeh_is_loading = undefined;\n",
       "    }\n",
       "  \n",
       "  \n",
       "    \n",
       "    if (typeof (window._bokeh_timeout) === \"undefined\" || force !== \"\") {\n",
       "      window._bokeh_timeout = Date.now() + 0;\n",
       "      window._bokeh_failed_load = false;\n",
       "    }\n",
       "  \n",
       "    var NB_LOAD_WARNING = {'data': {'text/html':\n",
       "       \"<div style='background-color: #fdd'>\\n\"+\n",
       "       \"<p>\\n\"+\n",
       "       \"BokehJS does not appear to have successfully loaded. If loading BokehJS from CDN, this \\n\"+\n",
       "       \"may be due to a slow or bad network connection. Possible fixes:\\n\"+\n",
       "       \"</p>\\n\"+\n",
       "       \"<ul>\\n\"+\n",
       "       \"<li>re-rerun `output_notebook()` to attempt to load from CDN again, or</li>\\n\"+\n",
       "       \"<li>use INLINE resources instead, as so:</li>\\n\"+\n",
       "       \"</ul>\\n\"+\n",
       "       \"<code>\\n\"+\n",
       "       \"from bokeh.resources import INLINE\\n\"+\n",
       "       \"output_notebook(resources=INLINE)\\n\"+\n",
       "       \"</code>\\n\"+\n",
       "       \"</div>\"}};\n",
       "  \n",
       "    function display_loaded() {\n",
       "      if (window.Bokeh !== undefined) {\n",
       "        Bokeh.$(\"#f5f2742b-ec24-4b01-9fac-c1017fb81bc0\").text(\"BokehJS successfully loaded.\");\n",
       "      } else if (Date.now() < window._bokeh_timeout) {\n",
       "        setTimeout(display_loaded, 100)\n",
       "      }\n",
       "    }\n",
       "  \n",
       "    function run_callbacks() {\n",
       "      window._bokeh_onload_callbacks.forEach(function(callback) { callback() });\n",
       "      delete window._bokeh_onload_callbacks\n",
       "      console.info(\"Bokeh: all callbacks have finished\");\n",
       "    }\n",
       "  \n",
       "    function load_libs(js_urls, callback) {\n",
       "      window._bokeh_onload_callbacks.push(callback);\n",
       "      if (window._bokeh_is_loading > 0) {\n",
       "        console.log(\"Bokeh: BokehJS is being loaded, scheduling callback at\", now());\n",
       "        return null;\n",
       "      }\n",
       "      if (js_urls == null || js_urls.length === 0) {\n",
       "        run_callbacks();\n",
       "        return null;\n",
       "      }\n",
       "      console.log(\"Bokeh: BokehJS not loaded, scheduling load and callback at\", now());\n",
       "      window._bokeh_is_loading = js_urls.length;\n",
       "      for (var i = 0; i < js_urls.length; i++) {\n",
       "        var url = js_urls[i];\n",
       "        var s = document.createElement('script');\n",
       "        s.src = url;\n",
       "        s.async = false;\n",
       "        s.onreadystatechange = s.onload = function() {\n",
       "          window._bokeh_is_loading--;\n",
       "          if (window._bokeh_is_loading === 0) {\n",
       "            console.log(\"Bokeh: all BokehJS libraries loaded\");\n",
       "            run_callbacks()\n",
       "          }\n",
       "        };\n",
       "        s.onerror = function() {\n",
       "          console.warn(\"failed to load library \" + url);\n",
       "        };\n",
       "        console.log(\"Bokeh: injecting script tag for BokehJS library: \", url);\n",
       "        document.getElementsByTagName(\"head\")[0].appendChild(s);\n",
       "      }\n",
       "    };var element = document.getElementById(\"f5f2742b-ec24-4b01-9fac-c1017fb81bc0\");\n",
       "    if (element == null) {\n",
       "      console.log(\"Bokeh: ERROR: autoload.js configured with elementid 'f5f2742b-ec24-4b01-9fac-c1017fb81bc0' but no matching script tag was found. \")\n",
       "      return false;\n",
       "    }\n",
       "  \n",
       "    var js_urls = [];\n",
       "  \n",
       "    var inline_js = [\n",
       "      function(Bokeh) {\n",
       "        Bokeh.$(function() {\n",
       "            var docs_json = {\"f9abd910-acf7-4a7c-8920-574e45b2b4fa\":{\"roots\":{\"references\":[{\"attributes\":{\"data_source\":{\"id\":\"11cf4f0e-ba40-419f-897d-6107cc27631e\",\"type\":\"ColumnDataSource\"},\"glyph\":{\"id\":\"30cac5bb-debd-4f61-b9d8-ed16a4c5e9a2\",\"type\":\"Line\"},\"hover_glyph\":null,\"nonselection_glyph\":{\"id\":\"5870801b-58bf-4b99-8444-2255ea715418\",\"type\":\"Line\"},\"selection_glyph\":null},\"id\":\"6653facd-4d0e-4db3-94ea-d5d2c6716056\",\"type\":\"GlyphRenderer\"},{\"attributes\":{\"base\":24,\"mantissas\":[1,2,4,6,8,12],\"max_interval\":43200000.0,\"min_interval\":3600000.0,\"num_minor_ticks\":0},\"id\":\"8b619014-7d12-456a-bd28-064c87eb0840\",\"type\":\"AdaptiveTicker\"},{\"attributes\":{\"plot\":{\"id\":\"8448a953-70d0-4b7a-ad91-befc4f5844bb\",\"subtype\":\"Figure\",\"type\":\"Plot\"}},\"id\":\"d042634c-fc16-47b5-909f-94643fcc549d\",\"type\":\"ResetTool\"},{\"attributes\":{\"active_drag\":\"auto\",\"active_scroll\":\"auto\",\"active_tap\":\"auto\",\"tools\":[{\"id\":\"4112bea4-76c8-44f7-a6b5-9f2e3dd80c71\",\"type\":\"PanTool\"},{\"id\":\"d32a91c2-ee98-4b0c-916e-50b79ba43428\",\"type\":\"BoxZoomTool\"},{\"id\":\"d042634c-fc16-47b5-909f-94643fcc549d\",\"type\":\"ResetTool\"},{\"id\":\"90a1cae5-be63-437c-b494-5f828b9d8b31\",\"type\":\"HoverTool\"}]},\"id\":\"75a14221-8dde-4736-be67-191835c04d65\",\"type\":\"Toolbar\"},{\"attributes\":{},\"id\":\"af4365c0-8dec-4554-94b5-b8808d252cd3\",\"type\":\"ToolEvents\"},{\"attributes\":{\"callback\":null,\"plot\":{\"id\":\"8448a953-70d0-4b7a-ad91-befc4f5844bb\",\"subtype\":\"Figure\",\"type\":\"Plot\"},\"renderers\":[{\"id\":\"6653facd-4d0e-4db3-94ea-d5d2c6716056\",\"type\":\"GlyphRenderer\"}],\"tooltips\":[[\"Discipline\",\"religion\"],[\"date\",\"@date\"],[\"keywords this period\",\"@percent\"]]},\"id\":\"90a1cae5-be63-437c-b494-5f828b9d8b31\",\"type\":\"HoverTool\"},{\"attributes\":{\"callback\":null},\"id\":\"3a6d6b1d-648b-4024-85e4-e8bff2273df2\",\"type\":\"DataRange1d\"},{\"attributes\":{},\"id\":\"44ca92af-6026-46ba-ac20-fc563103e97f\",\"type\":\"DatetimeTickFormatter\"},{\"attributes\":{\"days\":[1,2,3,4,5,6,7,8,9,10,11,12,13,14,15,16,17,18,19,20,21,22,23,24,25,26,27,28,29,30,31]},\"id\":\"03a47683-2d48-4cfa-b04a-fbed63ca0bb6\",\"type\":\"DaysTicker\"},{\"attributes\":{},\"id\":\"bddbea49-f598-49d4-a9e9-1d0d6ec504ae\",\"type\":\"BasicTicker\"},{\"attributes\":{\"days\":[1,8,15,22]},\"id\":\"082edd3f-f305-4c49-bbb5-e04452570e2a\",\"type\":\"DaysTicker\"},{\"attributes\":{\"line_alpha\":{\"value\":0.1},\"line_color\":{\"value\":\"#1f77b4\"},\"line_width\":{\"value\":2},\"x\":{\"field\":\"x\"},\"y\":{\"field\":\"value\"}},\"id\":\"5870801b-58bf-4b99-8444-2255ea715418\",\"type\":\"Line\"},{\"attributes\":{\"bottom_units\":\"screen\",\"fill_alpha\":{\"value\":0.5},\"fill_color\":{\"value\":\"lightgrey\"},\"left_units\":\"screen\",\"level\":\"overlay\",\"line_alpha\":{\"value\":1.0},\"line_color\":{\"value\":\"black\"},\"line_dash\":[4,4],\"line_width\":{\"value\":2},\"plot\":null,\"render_mode\":\"css\",\"right_units\":\"screen\",\"top_units\":\"screen\"},\"id\":\"b7c9f325-f3f0-4e09-b649-4b1817cd03ce\",\"type\":\"BoxAnnotation\"},{\"attributes\":{\"plot\":{\"id\":\"8448a953-70d0-4b7a-ad91-befc4f5844bb\",\"subtype\":\"Figure\",\"type\":\"Plot\"}},\"id\":\"4112bea4-76c8-44f7-a6b5-9f2e3dd80c71\",\"type\":\"PanTool\"},{\"attributes\":{\"months\":[0,4,8]},\"id\":\"cac88ddc-504c-454c-a4fc-7aea9d616225\",\"type\":\"MonthsTicker\"},{\"attributes\":{\"callback\":null,\"end\":1451628000000.0,\"start\":631173600000.0},\"id\":\"d374c6fe-ba91-4288-8450-359b02d8ad37\",\"type\":\"Range1d\"},{\"attributes\":{\"use_scientific\":false},\"id\":\"e5844674-ed64-49a5-bc57-7d8b2fcb6778\",\"type\":\"BasicTickFormatter\"},{\"attributes\":{\"months\":[0,1,2,3,4,5,6,7,8,9,10,11]},\"id\":\"a9c8ab9b-84b5-45b5-9c71-b7d30e8fd0e6\",\"type\":\"MonthsTicker\"},{\"attributes\":{\"dimension\":1,\"plot\":{\"id\":\"8448a953-70d0-4b7a-ad91-befc4f5844bb\",\"subtype\":\"Figure\",\"type\":\"Plot\"},\"ticker\":{\"id\":\"bddbea49-f598-49d4-a9e9-1d0d6ec504ae\",\"type\":\"BasicTicker\"}},\"id\":\"627da4f0-fff7-4251-97a3-77852d7c4e17\",\"type\":\"Grid\"},{\"attributes\":{\"line_color\":{\"value\":\"#dddcdc\"},\"line_width\":{\"value\":2},\"x\":{\"field\":\"x\"},\"y\":{\"field\":\"value\"}},\"id\":\"30cac5bb-debd-4f61-b9d8-ed16a4c5e9a2\",\"type\":\"Line\"},{\"attributes\":{\"days\":[1,4,7,10,13,16,19,22,25,28]},\"id\":\"1e87f159-4268-4af2-bdf8-6c63520dfa2a\",\"type\":\"DaysTicker\"},{\"attributes\":{},\"id\":\"b80f3c0e-e76d-4648-bcad-b31075c826c1\",\"type\":\"YearsTicker\"},{\"attributes\":{\"days\":[1,15]},\"id\":\"6544219f-1847-4b82-986b-0346df3058e0\",\"type\":\"DaysTicker\"},{\"attributes\":{\"base\":60,\"mantissas\":[1,2,5,10,15,20,30],\"max_interval\":1800000.0,\"min_interval\":1000.0,\"num_minor_ticks\":0},\"id\":\"3318d385-b24c-470b-a911-6246c3fed539\",\"type\":\"AdaptiveTicker\"},{\"attributes\":{\"formatter\":{\"id\":\"e5844674-ed64-49a5-bc57-7d8b2fcb6778\",\"type\":\"BasicTickFormatter\"},\"plot\":{\"id\":\"8448a953-70d0-4b7a-ad91-befc4f5844bb\",\"subtype\":\"Figure\",\"type\":\"Plot\"},\"ticker\":{\"id\":\"bddbea49-f598-49d4-a9e9-1d0d6ec504ae\",\"type\":\"BasicTicker\"}},\"id\":\"1bcb9b42-3f56-4ca2-9fd7-9a7bda41e0d8\",\"type\":\"LinearAxis\"},{\"attributes\":{\"formatter\":{\"id\":\"44ca92af-6026-46ba-ac20-fc563103e97f\",\"type\":\"DatetimeTickFormatter\"},\"plot\":{\"id\":\"8448a953-70d0-4b7a-ad91-befc4f5844bb\",\"subtype\":\"Figure\",\"type\":\"Plot\"},\"ticker\":{\"id\":\"ede16d07-48a8-4360-81c6-283d47d360de\",\"type\":\"DatetimeTicker\"}},\"id\":\"8ba79a3f-82bf-4ba7-bd99-43d7e066f4eb\",\"type\":\"DatetimeAxis\"},{\"attributes\":{\"num_minor_ticks\":5},\"id\":\"ede16d07-48a8-4360-81c6-283d47d360de\",\"type\":\"DatetimeTicker\"},{\"attributes\":{\"months\":[0,6]},\"id\":\"1eb01702-3fae-40ef-b67d-c0707bd8fffe\",\"type\":\"MonthsTicker\"},{\"attributes\":{\"plot\":null,\"text\":null},\"id\":\"94a3efab-0ba9-40f1-8049-9d5d17b510fc\",\"type\":\"Title\"},{\"attributes\":{\"callback\":null,\"column_names\":[\"date\",\"x\",\"percent\",\"value\"],\"data\":{\"date\":[\"1950-01-01\",\"1951-01-01\",\"1952-01-01\",\"1953-01-01\",\"1954-01-01\",\"1955-01-01\",\"1956-01-01\",\"1957-01-01\",\"1958-01-01\",\"1959-01-01\",\"1960-01-01\",\"1961-01-01\",\"1962-01-01\",\"1963-01-01\",\"1964-01-01\",\"1965-01-01\",\"1966-01-01\",\"1967-01-01\",\"1968-01-01\",\"1969-01-01\",\"1970-01-01\",\"1971-01-01\",\"1972-01-01\",\"1973-01-01\",\"1974-01-01\",\"1975-01-01\",\"1976-01-01\",\"1977-01-01\",\"1978-01-01\",\"1979-01-01\",\"1980-01-01\",\"1981-01-01\",\"1982-01-01\",\"1983-01-01\",\"1984-01-01\",\"1985-01-01\",\"1986-01-01\",\"1987-01-01\",\"1988-01-01\",\"1989-01-01\",\"1990-01-01\",\"1991-01-01\",\"1992-01-01\",\"1993-01-01\",\"1994-01-01\",\"1995-01-01\",\"1996-01-01\",\"1997-01-01\",\"1998-01-01\",\"1999-01-01\",\"2000-01-01\",\"2001-01-01\",\"2002-01-01\",\"2003-01-01\",\"2004-01-01\",\"2005-01-01\",\"2006-01-01\",\"2007-01-01\",\"2008-01-01\",\"2009-01-01\",\"2010-01-01\",\"2011-01-01\",\"2012-01-01\",\"2013-01-01\",\"2014-01-01\",\"2015-01-01\"],\"percent\":[\"0.00%\",\"0.00%\",\"0.00%\",\"0.00%\",\"0.00%\",\"0.00%\",\"0.00%\",\"0.00%\",\"nan%\",\"nan%\",\"0.00%\",\"nan%\",\"nan%\",\"nan%\",\"0.00%\",\"0.00%\",\"0.00%\",\"0.00%\",\"0.00%\",\"0.00%\",\"0.00%\",\"0.00%\",\"0.00%\",\"0.00%\",\"0.00%\",\"0.00%\",\"0.00%\",\"0.00%\",\"0.00%\",\"0.00%\",\"0.00%\",\"0.00%\",\"0.00%\",\"0.00%\",\"0.00%\",\"0.00%\",\"0.00%\",\"0.00%\",\"0.00%\",\"0.00%\",\"0.00%\",\"0.00%\",\"0.01%\",\"0.01%\",\"0.01%\",\"0.00%\",\"0.01%\",\"0.01%\",\"0.01%\",\"0.01%\",\"0.01%\",\"0.01%\",\"0.01%\",\"0.02%\",\"0.02%\",\"0.02%\",\"0.02%\",\"0.03%\",\"0.03%\",\"0.03%\",\"0.04%\",\"0.04%\",\"0.04%\",\"0.05%\",\"0.04%\",\"0.04%\"],\"value\":[0.0,0.0,0.0,9.215315854950929e-06,0.0,0.0,0.0,0.0,\"NaN\",\"NaN\",0.0,\"NaN\",\"NaN\",\"NaN\",0.0,0.0,0.0,0.0,0.0,0.0,0.0,0.0,0.0,0.0,0.0,0.0,0.0,0.0,0.0,0.0,0.0,0.0,0.0,0.0,0.0,0.0,0.0,0.0,0.0,0.0,6.814936978870288e-06,2.8830970672249525e-05,5.097558594809167e-05,5.3971189763741113e-05,6.1034555402641025e-05,4.350498363472105e-05,5.3941582150818895e-05,7.672883426485586e-05,9.208602383737092e-05,0.00010523586303510332,0.00010039194342208756,0.00013025615082149614,0.00013851986261421813,0.00015426802968242825,0.00017612964320850728,0.00019512779825458184,0.00023062514790091006,0.00026410640808905615,0.0003032829472819323,0.00034539034933933177,0.00036843563372357044,0.00042317380352644834,0.0004353340757878475,0.0004661228400690161,0.00044739043620320895,0.0004189037212245473],\"x\":[-631152000000.0,-599616000000.0,-568080000000.0,-536457600000.0,-504921600000.0,-473385600000.0,-441849600000.0,-410227200000.0,-378691200000.0,-347155200000.0,-315619200000.0,-283996800000.0,-252460800000.0,-220924800000.0,-189388800000.0,-157766400000.0,-126230400000.0,-94694400000.0,-63158400000.0,-31536000000.0,0.0,31536000000.0,63072000000.0,94694400000.0,126230400000.0,157766400000.0,189302400000.0,220924800000.0,252460800000.0,283996800000.0,315532800000.0,347155200000.0,378691200000.0,410227200000.0,441763200000.0,473385600000.0,504921600000.0,536457600000.0,567993600000.0,599616000000.0,631152000000.0,662688000000.0,694224000000.0,725846400000.0,757382400000.0,788918400000.0,820454400000.0,852076800000.0,883612800000.0,915148800000.0,946684800000.0,978307200000.0,1009843200000.0,1041379200000.0,1072915200000.0,1104537600000.0,1136073600000.0,1167609600000.0,1199145600000.0,1230768000000.0,1262304000000.0,1293840000000.0,1325376000000.0,1356998400000.0,1388534400000.0,1420070400000.0]}},\"id\":\"11cf4f0e-ba40-419f-897d-6107cc27631e\",\"type\":\"ColumnDataSource\"},{\"attributes\":{\"max_interval\":500.0,\"num_minor_ticks\":0},\"id\":\"c3006e18-1014-4abf-b26c-120e9e20672b\",\"type\":\"AdaptiveTicker\"},{\"attributes\":{\"months\":[0,2,4,6,8,10]},\"id\":\"0996f7f4-ead6-479e-98d5-553672b0e5a9\",\"type\":\"MonthsTicker\"},{\"attributes\":{\"below\":[{\"id\":\"8ba79a3f-82bf-4ba7-bd99-43d7e066f4eb\",\"type\":\"DatetimeAxis\"}],\"left\":[{\"id\":\"1bcb9b42-3f56-4ca2-9fd7-9a7bda41e0d8\",\"type\":\"LinearAxis\"}],\"plot_height\":350,\"plot_width\":800,\"renderers\":[{\"id\":\"8ba79a3f-82bf-4ba7-bd99-43d7e066f4eb\",\"type\":\"DatetimeAxis\"},{\"id\":\"a2087566-d269-418e-a330-fbcfd255d1a8\",\"type\":\"Grid\"},{\"id\":\"1bcb9b42-3f56-4ca2-9fd7-9a7bda41e0d8\",\"type\":\"LinearAxis\"},{\"id\":\"627da4f0-fff7-4251-97a3-77852d7c4e17\",\"type\":\"Grid\"},{\"id\":\"b7c9f325-f3f0-4e09-b649-4b1817cd03ce\",\"type\":\"BoxAnnotation\"},{\"id\":\"6653facd-4d0e-4db3-94ea-d5d2c6716056\",\"type\":\"GlyphRenderer\"}],\"title\":{\"id\":\"94a3efab-0ba9-40f1-8049-9d5d17b510fc\",\"type\":\"Title\"},\"tool_events\":{\"id\":\"af4365c0-8dec-4554-94b5-b8808d252cd3\",\"type\":\"ToolEvents\"},\"toolbar\":{\"id\":\"75a14221-8dde-4736-be67-191835c04d65\",\"type\":\"Toolbar\"},\"x_range\":{\"id\":\"d374c6fe-ba91-4288-8450-359b02d8ad37\",\"type\":\"Range1d\"},\"y_range\":{\"id\":\"3a6d6b1d-648b-4024-85e4-e8bff2273df2\",\"type\":\"DataRange1d\"}},\"id\":\"8448a953-70d0-4b7a-ad91-befc4f5844bb\",\"subtype\":\"Figure\",\"type\":\"Plot\"},{\"attributes\":{\"overlay\":{\"id\":\"b7c9f325-f3f0-4e09-b649-4b1817cd03ce\",\"type\":\"BoxAnnotation\"},\"plot\":{\"id\":\"8448a953-70d0-4b7a-ad91-befc4f5844bb\",\"subtype\":\"Figure\",\"type\":\"Plot\"}},\"id\":\"d32a91c2-ee98-4b0c-916e-50b79ba43428\",\"type\":\"BoxZoomTool\"},{\"attributes\":{\"plot\":{\"id\":\"8448a953-70d0-4b7a-ad91-befc4f5844bb\",\"subtype\":\"Figure\",\"type\":\"Plot\"},\"ticker\":{\"id\":\"ede16d07-48a8-4360-81c6-283d47d360de\",\"type\":\"DatetimeTicker\"}},\"id\":\"a2087566-d269-418e-a330-fbcfd255d1a8\",\"type\":\"Grid\"}],\"root_ids\":[\"8448a953-70d0-4b7a-ad91-befc4f5844bb\"]},\"title\":\"Bokeh Application\",\"version\":\"0.12.2\"}};\n",
       "            var render_items = [{\"docid\":\"f9abd910-acf7-4a7c-8920-574e45b2b4fa\",\"elementid\":\"f5f2742b-ec24-4b01-9fac-c1017fb81bc0\",\"modelid\":\"8448a953-70d0-4b7a-ad91-befc4f5844bb\"}];\n",
       "            \n",
       "            Bokeh.embed.embed_items(docs_json, render_items);\n",
       "        });\n",
       "      },\n",
       "      function(Bokeh) {\n",
       "      }\n",
       "    ];\n",
       "  \n",
       "    function run_inline_js() {\n",
       "      \n",
       "      if ((window.Bokeh !== undefined) || (force === \"1\")) {\n",
       "        for (var i = 0; i < inline_js.length; i++) {\n",
       "          inline_js[i](window.Bokeh);\n",
       "        }if (force === \"1\") {\n",
       "          display_loaded();\n",
       "        }} else if (Date.now() < window._bokeh_timeout) {\n",
       "        setTimeout(run_inline_js, 100);\n",
       "      } else if (!window._bokeh_failed_load) {\n",
       "        console.log(\"Bokeh: BokehJS failed to load within specified timeout.\");\n",
       "        window._bokeh_failed_load = true;\n",
       "      } else if (!force) {\n",
       "        var cell = $(\"#f5f2742b-ec24-4b01-9fac-c1017fb81bc0\").parents('.cell').data().cell;\n",
       "        cell.output_area.append_execute_result(NB_LOAD_WARNING)\n",
       "      }\n",
       "  \n",
       "    }\n",
       "  \n",
       "    if (window._bokeh_is_loading === 0) {\n",
       "      console.log(\"Bokeh: BokehJS loaded, going straight to plotting\");\n",
       "      run_inline_js();\n",
       "    } else {\n",
       "      load_libs(js_urls, function() {\n",
       "        console.log(\"Bokeh: BokehJS plotting callback run at\", now());\n",
       "        run_inline_js();\n",
       "      });\n",
       "    }\n",
       "  }(this));\n",
       "</script>"
      ]
     },
     "metadata": {},
     "output_type": "display_data"
    }
   ],
   "source": [
    "from ipywidgets import Dropdown,Text,Checkbox,interact\n",
    "\n",
    "disc_select = Text(description='Discipline',value='Psychology')\n",
    "rawcount_select = Checkbox(description = 'rawcount',value=True)\n",
    "cumulative_select = Checkbox(description='cumulativ',value=False)\n",
    "resample_select = Dropdown(description=\"Resample\",options=[\"Daily\",\"Weekly\",\"Monthly\",\"Yearly\"],value=\"Yearly\")\n",
    "data_select = Dropdown(description=\"Data\",options=[\"pubs\",\"refs\",\"keywords\",\"both\"],value=\"keywords\")\n",
    "\n",
    "\n",
    "\n",
    "interact(update,rawcount=rawcount_select,cumulative=cumulative_select,\n",
    "         disc=disc_select,resample=resample_select,data_type=data_select);\n"
   ]
  },
  {
   "cell_type": "code",
   "execution_count": 12,
   "metadata": {
    "collapsed": false
   },
   "outputs": [
    {
     "ename": "NameError",
     "evalue": "name 'df' is not defined",
     "output_type": "error",
     "traceback": [
      "\u001b[0;31m---------------------------------------------------------------------------\u001b[0m",
      "\u001b[0;31mNameError\u001b[0m                                 Traceback (most recent call last)",
      "\u001b[0;32m<ipython-input-12-ce98a6b81f69>\u001b[0m in \u001b[0;36m<module>\u001b[0;34m()\u001b[0m\n\u001b[0;32m----> 1\u001b[0;31m \u001b[0;34m'|'\u001b[0m\u001b[0;34m.\u001b[0m\u001b[0mjoin\u001b[0m\u001b[0;34m(\u001b[0m\u001b[0;34m[\u001b[0m\u001b[0mx\u001b[0m \u001b[0;32mfor\u001b[0m \u001b[0mx\u001b[0m \u001b[0;32min\u001b[0m \u001b[0mdf\u001b[0m\u001b[0;34m.\u001b[0m\u001b[0mcolumns\u001b[0m \u001b[0;32mif\u001b[0m \u001b[0;34m'psych'\u001b[0m \u001b[0;32min\u001b[0m \u001b[0mx\u001b[0m\u001b[0;34m.\u001b[0m\u001b[0mlower\u001b[0m\u001b[0;34m(\u001b[0m\u001b[0;34m)\u001b[0m\u001b[0;34m]\u001b[0m\u001b[0;34m)\u001b[0m\u001b[0;34m\u001b[0m\u001b[0m\n\u001b[0m",
      "\u001b[0;31mNameError\u001b[0m: name 'df' is not defined"
     ]
    }
   ],
   "source": [
    "'|'.join([x for x in df.columns if 'psych' in x.lower()])"
   ]
  },
  {
   "cell_type": "code",
   "execution_count": null,
   "metadata": {
    "collapsed": false
   },
   "outputs": [],
   "source": [
    "x = df.resample('AS').sum().cumsum().T\n",
    "'|'.join(x.index[(x['2000']<10000).ix[:,0]])"
   ]
  },
  {
   "cell_type": "code",
   "execution_count": null,
   "metadata": {
    "collapsed": false
   },
   "outputs": [],
   "source": [
    "#Genetics & Heredity|Mathematical & Computational Biology|Medical Informatics\n",
    "totals.sum()"
   ]
  },
  {
   "cell_type": "code",
   "execution_count": null,
   "metadata": {
    "collapsed": false
   },
   "outputs": [],
   "source": [
    "x=vc.value_counts().reindex(xrange(1,x.index.max()+1)).fillna(0)\n",
    "fig,ax = plt.subplots(1,1)\n",
    "ax.plot(x.index,x.values,ls='',marker='.')\n",
    "ax.set_xscale('log')\n",
    "ax.set_yscale('log')\n",
    "ax.set_xlabel('Number of papers')\n",
    "ax.set_ylabel('Number of unique keywords occuring in X distinct papers')"
   ]
  },
  {
   "cell_type": "code",
   "execution_count": null,
   "metadata": {
    "collapsed": false
   },
   "outputs": [],
   "source": [
    "srt = vc.sort_values(ascending=False)"
   ]
  },
  {
   "cell_type": "code",
   "execution_count": 30,
   "metadata": {
    "collapsed": false
   },
   "outputs": [
    {
     "data": {
      "text/plain": [
       "53785058"
      ]
     },
     "execution_count": 30,
     "metadata": {},
     "output_type": "execute_result"
    }
   ],
   "source": [
    "totals_pubs.sum()"
   ]
  },
  {
   "cell_type": "code",
   "execution_count": 31,
   "metadata": {
    "collapsed": false
   },
   "outputs": [
    {
     "data": {
      "text/plain": [
       "keyword\n",
       "care                      99135\n",
       "particles                 98740\n",
       "complex                   97436\n",
       "prediction                97306\n",
       "breast-cancer             96276\n",
       "metaanalysis              96171\n",
       "chemotherapy              95717\n",
       "energy                    95542\n",
       "reduction                 94350\n",
       "microstructure            93435\n",
       "complications             92578\n",
       "proliferation             92304\n",
       "size                      92188\n",
       "diffusion                 91994\n",
       "recognition               91325\n",
       "transition                91184\n",
       "diversity                 90466\n",
       "mutations                 89962\n",
       "pregnancy                 88860\n",
       "state                     88050\n",
       "adults                    87279\n",
       "information               86931\n",
       "hypertension              86482\n",
       "toxicity                  86465\n",
       "polymers                  86133\n",
       "plants                    86019\n",
       "family                    85870\n",
       "double-blind              85449\n",
       "validation                85280\n",
       "adolescents               84585\n",
       "                          ...  \n",
       "prognosis                 70463\n",
       "networks                  70442\n",
       "genes                     70429\n",
       "invitro                   70323\n",
       "central-nervous-system    70130\n",
       "variability               69989\n",
       "silicon                   69681\n",
       "schizophrenia             69575\n",
       "pharmacokinetics          69501\n",
       "nitrogen                  69241\n",
       "scale                     69079\n",
       "light                     68721\n",
       "radiation                 68559\n",
       "deposition                68258\n",
       "receptors                 67698\n",
       "carbon                    67612\n",
       "dependence                67186\n",
       "disorders                 66900\n",
       "pressure                  66766\n",
       "resolution                66173\n",
       "iron                      65272\n",
       "parameters                65259\n",
       "composites                64946\n",
       "damage                    64064\n",
       "angiogenesis              63968\n",
       "efficiency                63896\n",
       "myocardial-infarction     63818\n",
       "oxygen                    63438\n",
       "pathway                   63275\n",
       "transcription             63268\n",
       "Name: freq, dtype: int64"
      ]
     },
     "execution_count": 31,
     "metadata": {},
     "output_type": "execute_result"
    }
   ],
   "source": [
    "vc.sort_values(ascending=False)[100:200]"
   ]
  },
  {
   "cell_type": "code",
   "execution_count": null,
   "metadata": {
    "collapsed": true
   },
   "outputs": [],
   "source": []
  }
 ],
 "metadata": {
  "anaconda-cloud": {},
  "kernelspec": {
   "display_name": "Python [default]",
   "language": "python",
   "name": "python2"
  },
  "language_info": {
   "codemirror_mode": {
    "name": "ipython",
    "version": 2
   },
   "file_extension": ".py",
   "mimetype": "text/x-python",
   "name": "python",
   "nbconvert_exporter": "python",
   "pygments_lexer": "ipython2",
   "version": "2.7.12"
  },
  "widgets": {
   "state": {
    "3aab0db7d46842eb81771ce91cb488a3": {
     "views": [
      {
       "cell_index": 10
      }
     ]
    }
   },
   "version": "1.2.0"
  }
 },
 "nbformat": 4,
 "nbformat_minor": 0
}
