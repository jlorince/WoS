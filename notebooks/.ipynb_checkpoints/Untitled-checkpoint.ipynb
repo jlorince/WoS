{
 "cells": [
  {
   "cell_type": "code",
   "execution_count": 1,
   "metadata": {
    "collapsed": true
   },
   "outputs": [],
   "source": [
    "from matplotlib import pyplot as plt\n",
    "%matplotlib inline\n",
    "import seaborn as sns\n",
    "from seaborn import color_palette\n",
    "\n",
    "import pandas as pd \n",
    "import numpy as np\n",
    "from dateutil.parser import parse\n",
    "\n",
    "import bokeh\n",
    "from bokeh.io import push_notebook, show, output_notebook\n",
    "from bokeh.plotting import figure, output_file, show, curdoc\n",
    "from bokeh.models import Circle,BoxSelectTool, BoxZoomTool, LassoSelectTool,Text,HoverTool,ColumnDataSource, Range1d, Axis"
   ]
  },
  {
   "cell_type": "code",
   "execution_count": 2,
   "metadata": {
    "collapsed": false
   },
   "outputs": [],
   "source": [
    "totals_pubs = pd.Series(index=pd.date_range('1950-01-01','2015-12-31',freq='AS',),data=[97529,102475,106673,108515,113949,100346,115704,122845,133961,137311,152292,179267,188095,196106,221271,288753,327167,349344,364851,399384,405709,420089,448565,459029,495345,566369,606671,683684,703905,728908,749425,775628,810977,875161,893747,893536,909200,920189,901468,856502,880419,901808,922010,963477,1015818,1080336,1130853,1159929,1161957,1187808,1205276,1189963,1234480,1270516,1356955,1434957,1495934,1567550,1655220,1716898,1750645,1836125,1913473,2005909,2027312,1809485,])\n",
    "totals_refs = pd.Series(index=pd.date_range('1950-01-01','2015-12-31',freq='AS',),data=[862276,913941,991301,1054144,1082894,993625,1132516,1195067,1291857,1390632,1496650,1927193,2030321,2167335,2530307,3071105,3556047,3822576,4197118,4439659,4483020,4909395,5406217,5614448,5994449,6801509,7391424,7858516,8097995,8733158,9155748,9680861,10507381,11104584,11725145,12482330,12384351,12773481,13165658,13524406,14225948,15057108,15906821,16710320,17930450,19381008,21289915,22082648,22865217,23589060,24585765,25072234,26210739,27773579,29654550,31816766,34430852,36991583,40692695,43594503,46666951,50946087,55088628,59408651,62668029,59436898,])"
   ]
  },
  {
   "cell_type": "code",
   "execution_count": 3,
   "metadata": {
    "collapsed": true
   },
   "outputs": [],
   "source": [
    "# df_refs = pd.read_pickle('/Users/jaredlorince/Desktop/d_pop_refs.pkl')\n",
    "# df_pubs = pd.read_pickle('/Users/jaredlorince/Desktop/d_pop.pkl')\n",
    "df_keywords = pd.read_pickle('/Users/jaredlorince/Desktop/d_pop_keywords_lem.pkl')"
   ]
  },
  {
   "cell_type": "code",
   "execution_count": 4,
   "metadata": {
    "collapsed": false
   },
   "outputs": [],
   "source": [
    "vc = df_keywords.groupby('keyword')['freq'].sum()\n",
    "vc_df = vc[vc>=100].reset_index()\n",
    "df_keywords=df_keywords.join(vc_df.set_index('keyword'),on='keyword',how='inner',rsuffix='_')"
   ]
  },
  {
   "cell_type": "code",
   "execution_count": 5,
   "metadata": {
    "collapsed": false
   },
   "outputs": [],
   "source": [
    "#df_pubs = df_pubs.reset_index().pivot_table(index='date',columns='category',values='uid').fillna(0).ix['1991':'2015']\n",
    "#df_refs = df_refs.reset_index().pivot_table(index='date',columns='category',values='cnt').fillna(0).ix['1991':'2015']\n",
    "df_keywords = df_keywords.pivot_table(index='date',columns='keyword',values='freq').fillna(0).ix['1991':'2015']"
   ]
  },
  {
   "cell_type": "code",
   "execution_count": 6,
   "metadata": {
    "collapsed": false
   },
   "outputs": [],
   "source": [
    "#totals = df.sum(1)\n",
    "cum_totals_pubs = totals_pubs.cumsum()#.ix['1991':'2015']\n",
    "cum_totals_refs = totals_refs.cumsum()#.ix['1991':'2015']"
   ]
  },
  {
   "cell_type": "code",
   "execution_count": 7,
   "metadata": {
    "collapsed": false
   },
   "outputs": [],
   "source": [
    "total_pubs = totals_pubs#.ix['1991':'2015']"
   ]
  },
  {
   "cell_type": "code",
   "execution_count": 8,
   "metadata": {
    "collapsed": false
   },
   "outputs": [
    {
     "data": {
      "text/html": [
       "\n",
       "    <div class=\"bk-root\">\n",
       "        <a href=\"http://bokeh.pydata.org\" target=\"_blank\" class=\"bk-logo bk-logo-small bk-logo-notebook\"></a>\n",
       "        <span id=\"d5d23c6a-fde7-419b-bfa9-de7e4c2cde70\">Loading BokehJS ...</span>\n",
       "    </div>"
      ]
     },
     "metadata": {},
     "output_type": "display_data"
    },
    {
     "data": {
      "application/javascript": [
       "\n",
       "(function(global) {\n",
       "  function now() {\n",
       "    return new Date();\n",
       "  }\n",
       "\n",
       "  var force = \"1\";\n",
       "\n",
       "  if (typeof (window._bokeh_onload_callbacks) === \"undefined\" || force !== \"\") {\n",
       "    window._bokeh_onload_callbacks = [];\n",
       "    window._bokeh_is_loading = undefined;\n",
       "  }\n",
       "\n",
       "\n",
       "  \n",
       "  if (typeof (window._bokeh_timeout) === \"undefined\" || force !== \"\") {\n",
       "    window._bokeh_timeout = Date.now() + 5000;\n",
       "    window._bokeh_failed_load = false;\n",
       "  }\n",
       "\n",
       "  var NB_LOAD_WARNING = {'data': {'text/html':\n",
       "     \"<div style='background-color: #fdd'>\\n\"+\n",
       "     \"<p>\\n\"+\n",
       "     \"BokehJS does not appear to have successfully loaded. If loading BokehJS from CDN, this \\n\"+\n",
       "     \"may be due to a slow or bad network connection. Possible fixes:\\n\"+\n",
       "     \"</p>\\n\"+\n",
       "     \"<ul>\\n\"+\n",
       "     \"<li>re-rerun `output_notebook()` to attempt to load from CDN again, or</li>\\n\"+\n",
       "     \"<li>use INLINE resources instead, as so:</li>\\n\"+\n",
       "     \"</ul>\\n\"+\n",
       "     \"<code>\\n\"+\n",
       "     \"from bokeh.resources import INLINE\\n\"+\n",
       "     \"output_notebook(resources=INLINE)\\n\"+\n",
       "     \"</code>\\n\"+\n",
       "     \"</div>\"}};\n",
       "\n",
       "  function display_loaded() {\n",
       "    if (window.Bokeh !== undefined) {\n",
       "      Bokeh.$(\"#d5d23c6a-fde7-419b-bfa9-de7e4c2cde70\").text(\"BokehJS successfully loaded.\");\n",
       "    } else if (Date.now() < window._bokeh_timeout) {\n",
       "      setTimeout(display_loaded, 100)\n",
       "    }\n",
       "  }\n",
       "\n",
       "  function run_callbacks() {\n",
       "    window._bokeh_onload_callbacks.forEach(function(callback) { callback() });\n",
       "    delete window._bokeh_onload_callbacks\n",
       "    console.info(\"Bokeh: all callbacks have finished\");\n",
       "  }\n",
       "\n",
       "  function load_libs(js_urls, callback) {\n",
       "    window._bokeh_onload_callbacks.push(callback);\n",
       "    if (window._bokeh_is_loading > 0) {\n",
       "      console.log(\"Bokeh: BokehJS is being loaded, scheduling callback at\", now());\n",
       "      return null;\n",
       "    }\n",
       "    if (js_urls == null || js_urls.length === 0) {\n",
       "      run_callbacks();\n",
       "      return null;\n",
       "    }\n",
       "    console.log(\"Bokeh: BokehJS not loaded, scheduling load and callback at\", now());\n",
       "    window._bokeh_is_loading = js_urls.length;\n",
       "    for (var i = 0; i < js_urls.length; i++) {\n",
       "      var url = js_urls[i];\n",
       "      var s = document.createElement('script');\n",
       "      s.src = url;\n",
       "      s.async = false;\n",
       "      s.onreadystatechange = s.onload = function() {\n",
       "        window._bokeh_is_loading--;\n",
       "        if (window._bokeh_is_loading === 0) {\n",
       "          console.log(\"Bokeh: all BokehJS libraries loaded\");\n",
       "          run_callbacks()\n",
       "        }\n",
       "      };\n",
       "      s.onerror = function() {\n",
       "        console.warn(\"failed to load library \" + url);\n",
       "      };\n",
       "      console.log(\"Bokeh: injecting script tag for BokehJS library: \", url);\n",
       "      document.getElementsByTagName(\"head\")[0].appendChild(s);\n",
       "    }\n",
       "  };var element = document.getElementById(\"d5d23c6a-fde7-419b-bfa9-de7e4c2cde70\");\n",
       "  if (element == null) {\n",
       "    console.log(\"Bokeh: ERROR: autoload.js configured with elementid 'd5d23c6a-fde7-419b-bfa9-de7e4c2cde70' but no matching script tag was found. \")\n",
       "    return false;\n",
       "  }\n",
       "\n",
       "  var js_urls = ['https://cdn.pydata.org/bokeh/release/bokeh-0.12.2.min.js', 'https://cdn.pydata.org/bokeh/release/bokeh-widgets-0.12.2.min.js', 'https://cdn.pydata.org/bokeh/release/bokeh-compiler-0.12.2.min.js'];\n",
       "\n",
       "  var inline_js = [\n",
       "    function(Bokeh) {\n",
       "      Bokeh.set_log_level(\"info\");\n",
       "    },\n",
       "    \n",
       "    function(Bokeh) {\n",
       "      \n",
       "      Bokeh.$(\"#d5d23c6a-fde7-419b-bfa9-de7e4c2cde70\").text(\"BokehJS is loading...\");\n",
       "    },\n",
       "    function(Bokeh) {\n",
       "      console.log(\"Bokeh: injecting CSS: https://cdn.pydata.org/bokeh/release/bokeh-0.12.2.min.css\");\n",
       "      Bokeh.embed.inject_css(\"https://cdn.pydata.org/bokeh/release/bokeh-0.12.2.min.css\");\n",
       "      console.log(\"Bokeh: injecting CSS: https://cdn.pydata.org/bokeh/release/bokeh-widgets-0.12.2.min.css\");\n",
       "      Bokeh.embed.inject_css(\"https://cdn.pydata.org/bokeh/release/bokeh-widgets-0.12.2.min.css\");\n",
       "    }\n",
       "  ];\n",
       "\n",
       "  function run_inline_js() {\n",
       "    \n",
       "    if ((window.Bokeh !== undefined) || (force === \"1\")) {\n",
       "      for (var i = 0; i < inline_js.length; i++) {\n",
       "        inline_js[i](window.Bokeh);\n",
       "      }if (force === \"1\") {\n",
       "        display_loaded();\n",
       "      }} else if (Date.now() < window._bokeh_timeout) {\n",
       "      setTimeout(run_inline_js, 100);\n",
       "    } else if (!window._bokeh_failed_load) {\n",
       "      console.log(\"Bokeh: BokehJS failed to load within specified timeout.\");\n",
       "      window._bokeh_failed_load = true;\n",
       "    } else if (!force) {\n",
       "      var cell = $(\"#d5d23c6a-fde7-419b-bfa9-de7e4c2cde70\").parents('.cell').data().cell;\n",
       "      cell.output_area.append_execute_result(NB_LOAD_WARNING)\n",
       "    }\n",
       "\n",
       "  }\n",
       "\n",
       "  if (window._bokeh_is_loading === 0) {\n",
       "    console.log(\"Bokeh: BokehJS loaded, going straight to plotting\");\n",
       "    run_inline_js();\n",
       "  } else {\n",
       "    load_libs(js_urls, function() {\n",
       "      console.log(\"Bokeh: BokehJS plotting callback run at\", now());\n",
       "      run_inline_js();\n",
       "    });\n",
       "  }\n",
       "}(this));"
      ]
     },
     "metadata": {},
     "output_type": "display_data"
    }
   ],
   "source": [
    "output_notebook()\n",
    "\n",
    "\n",
    "\n",
    "def update(rawcount=True,cumulative=False,discipline='genomics',data_type='pubs'): #resample='yearly'\n",
    "    def do_plot():\n",
    "        df = globals()['df_'+data_type]\n",
    "        #totals = globals()['totals_'+data_type]\n",
    "        #totals = totals_pubs\n",
    "        #cum_totals = globals()['cum_totals_'+data_type]\n",
    "        #cum_totals = cum_totals_pubs\n",
    "        lines = {}\n",
    "        hovers = {}\n",
    "        data = {}\n",
    "        colors = ['#%02x%02x%02x' % (a, b, c) for a,b,c in np.round(255*np.array(color_palette(\"coolwarm\",n_colors=len(discipline)))).astype(int)]\n",
    "        for i,disc in enumerate(discipline):\n",
    "            current = df[disc]#.resample(resample).sum()\n",
    "            #totals_current = totals#.resample(resample).sum()\n",
    "\n",
    "            if cumulative:\n",
    "                #cum_totals_current = cum_totals#.resample(resample).sum()\n",
    "                if rawcount:\n",
    "                    values = current.cumsum()\n",
    "                else:\n",
    "                    values = current.cumsum()/cum_totals_pubs.ix['1991':'2015']\n",
    "            else:\n",
    "                #totals_current = totals#.resample(resample).sum()\n",
    "                if rawcount:\n",
    "                    values = current\n",
    "                else:\n",
    "                    values = current/totals_pubs.ix['1991':'2015']\n",
    "            data[disc] = ColumnDataSource({'x':idx,'value':values,'date':datestrings,'percent':{False:values.apply(lambda x: \"{:.2f}%\".format(100*x)),True:values.apply(lambda x: \"{:,.0f}\".format(x))}[rawcount]})\n",
    "            lines[disc] = p.line('x','value',source=data[disc],color=colors[i],line_width=2)\n",
    "            hovers[disc] = HoverTool(renderers=[lines[disc]],tooltips=[('Discipline', disc),('date','@date'),('{} this period'.format(data_type),'@percent')])\n",
    "            p.add_tools(hovers[disc])\n",
    "            if data_type == 'keywords':\n",
    "                p.set(x_range=Range1d(parse('1991-01-01'), parse('2016-01-01')))\n",
    "\n",
    "    if discipline == 'all':\n",
    "        discpline = df.columns\n",
    "    else:\n",
    "        discipline = discipline.strip().split('|')\n",
    "        \n",
    "    p = figure(width=800,height=350,x_axis_type='datetime',tools=['pan,box_zoom,reset'])\n",
    "    p.select(dict(type=Axis, layout=\"left\"))[0].formatter.use_scientific = False\n",
    "    #resample = {'Daily':'D','Weekly':'W','Monthly':'M','Yearly':'A'}[resample]\n",
    "    #freq = {'D':'D','W':'W','M':'MS','A':'AS'}[resample]\n",
    "    idx = pd.date_range('1991-01-01','2015-12-31',freq='AS')\n",
    "    datestrings = idx.map(lambda x: x.strftime('%Y-%m-%d'))\n",
    "    if data_type == 'both':\n",
    "        for data_type in ('pubs','refs'):\n",
    "            do_plot()#data_type,discipline,p,resample,cumulative,rawcount)\n",
    "    else:\n",
    "        do_plot()#data_type,discipline,p,resample,cumulative,rawcount)\n",
    "    show(p)\n",
    "    \n",
    "\n",
    "\n"
   ]
  },
  {
   "cell_type": "code",
   "execution_count": 9,
   "metadata": {
    "collapsed": false,
    "scrolled": false
   },
   "outputs": [
    {
     "data": {
      "text/html": [
       "\n",
       "\n",
       "    <div class=\"bk-root\">\n",
       "        <div class=\"plotdiv\" id=\"360137a7-f714-4c2b-b254-57ab837e41fe\"></div>\n",
       "    </div>\n",
       "<script type=\"text/javascript\">\n",
       "  \n",
       "  (function(global) {\n",
       "    function now() {\n",
       "      return new Date();\n",
       "    }\n",
       "  \n",
       "    var force = \"\";\n",
       "  \n",
       "    if (typeof (window._bokeh_onload_callbacks) === \"undefined\" || force !== \"\") {\n",
       "      window._bokeh_onload_callbacks = [];\n",
       "      window._bokeh_is_loading = undefined;\n",
       "    }\n",
       "  \n",
       "  \n",
       "    \n",
       "    if (typeof (window._bokeh_timeout) === \"undefined\" || force !== \"\") {\n",
       "      window._bokeh_timeout = Date.now() + 0;\n",
       "      window._bokeh_failed_load = false;\n",
       "    }\n",
       "  \n",
       "    var NB_LOAD_WARNING = {'data': {'text/html':\n",
       "       \"<div style='background-color: #fdd'>\\n\"+\n",
       "       \"<p>\\n\"+\n",
       "       \"BokehJS does not appear to have successfully loaded. If loading BokehJS from CDN, this \\n\"+\n",
       "       \"may be due to a slow or bad network connection. Possible fixes:\\n\"+\n",
       "       \"</p>\\n\"+\n",
       "       \"<ul>\\n\"+\n",
       "       \"<li>re-rerun `output_notebook()` to attempt to load from CDN again, or</li>\\n\"+\n",
       "       \"<li>use INLINE resources instead, as so:</li>\\n\"+\n",
       "       \"</ul>\\n\"+\n",
       "       \"<code>\\n\"+\n",
       "       \"from bokeh.resources import INLINE\\n\"+\n",
       "       \"output_notebook(resources=INLINE)\\n\"+\n",
       "       \"</code>\\n\"+\n",
       "       \"</div>\"}};\n",
       "  \n",
       "    function display_loaded() {\n",
       "      if (window.Bokeh !== undefined) {\n",
       "        Bokeh.$(\"#360137a7-f714-4c2b-b254-57ab837e41fe\").text(\"BokehJS successfully loaded.\");\n",
       "      } else if (Date.now() < window._bokeh_timeout) {\n",
       "        setTimeout(display_loaded, 100)\n",
       "      }\n",
       "    }\n",
       "  \n",
       "    function run_callbacks() {\n",
       "      window._bokeh_onload_callbacks.forEach(function(callback) { callback() });\n",
       "      delete window._bokeh_onload_callbacks\n",
       "      console.info(\"Bokeh: all callbacks have finished\");\n",
       "    }\n",
       "  \n",
       "    function load_libs(js_urls, callback) {\n",
       "      window._bokeh_onload_callbacks.push(callback);\n",
       "      if (window._bokeh_is_loading > 0) {\n",
       "        console.log(\"Bokeh: BokehJS is being loaded, scheduling callback at\", now());\n",
       "        return null;\n",
       "      }\n",
       "      if (js_urls == null || js_urls.length === 0) {\n",
       "        run_callbacks();\n",
       "        return null;\n",
       "      }\n",
       "      console.log(\"Bokeh: BokehJS not loaded, scheduling load and callback at\", now());\n",
       "      window._bokeh_is_loading = js_urls.length;\n",
       "      for (var i = 0; i < js_urls.length; i++) {\n",
       "        var url = js_urls[i];\n",
       "        var s = document.createElement('script');\n",
       "        s.src = url;\n",
       "        s.async = false;\n",
       "        s.onreadystatechange = s.onload = function() {\n",
       "          window._bokeh_is_loading--;\n",
       "          if (window._bokeh_is_loading === 0) {\n",
       "            console.log(\"Bokeh: all BokehJS libraries loaded\");\n",
       "            run_callbacks()\n",
       "          }\n",
       "        };\n",
       "        s.onerror = function() {\n",
       "          console.warn(\"failed to load library \" + url);\n",
       "        };\n",
       "        console.log(\"Bokeh: injecting script tag for BokehJS library: \", url);\n",
       "        document.getElementsByTagName(\"head\")[0].appendChild(s);\n",
       "      }\n",
       "    };var element = document.getElementById(\"360137a7-f714-4c2b-b254-57ab837e41fe\");\n",
       "    if (element == null) {\n",
       "      console.log(\"Bokeh: ERROR: autoload.js configured with elementid '360137a7-f714-4c2b-b254-57ab837e41fe' but no matching script tag was found. \")\n",
       "      return false;\n",
       "    }\n",
       "  \n",
       "    var js_urls = [];\n",
       "  \n",
       "    var inline_js = [\n",
       "      function(Bokeh) {\n",
       "        Bokeh.$(function() {\n",
       "            var docs_json = {\"647ca6fc-4065-4531-b607-0e4725735f43\":{\"roots\":{\"references\":[{\"attributes\":{\"plot\":{\"id\":\"75dcf7ca-f787-4ba2-b3fd-0842945611df\",\"subtype\":\"Figure\",\"type\":\"Plot\"},\"ticker\":{\"id\":\"10d89a5f-9d44-4bdf-a2b0-44c0daeb97f3\",\"type\":\"DatetimeTicker\"}},\"id\":\"7ce3417b-b3e5-4509-942e-d3299c4ab393\",\"type\":\"Grid\"},{\"attributes\":{\"callback\":null,\"column_names\":[\"date\",\"x\",\"percent\",\"value\"],\"data\":{\"date\":[\"1991-01-01\",\"1992-01-01\",\"1993-01-01\",\"1994-01-01\",\"1995-01-01\",\"1996-01-01\",\"1997-01-01\",\"1998-01-01\",\"1999-01-01\",\"2000-01-01\",\"2001-01-01\",\"2002-01-01\",\"2003-01-01\",\"2004-01-01\",\"2005-01-01\",\"2006-01-01\",\"2007-01-01\",\"2008-01-01\",\"2009-01-01\",\"2010-01-01\",\"2011-01-01\",\"2012-01-01\",\"2013-01-01\",\"2014-01-01\",\"2015-01-01\"],\"percent\":[\"0.31%\",\"0.34%\",\"0.37%\",\"0.41%\",\"0.42%\",\"0.41%\",\"0.41%\",\"0.41%\",\"0.36%\",\"0.35%\",\"0.33%\",\"0.27%\",\"0.24%\",\"0.20%\",\"0.17%\",\"0.15%\",\"0.13%\",\"0.12%\",\"0.11%\",\"0.11%\",\"0.10%\",\"0.10%\",\"0.09%\",\"0.08%\",\"0.08%\"],\"value\":[0.003141466919787804,0.0034088567369117474,0.0037489218735890944,0.004094237353541677,0.004231091067964041,0.004137584637437404,0.0040692145812373,0.004124076880641882,0.003587280099140602,0.003502102423013484,0.003254723046010674,0.0027282742531268226,0.0024194894043050225,0.002047230748256206,0.001685764799920834,0.0015147727105607601,0.0013428598768779306,0.0012161525356146011,0.0010676231203018468,0.001059609458228253,0.0010336986860916332,0.0009605570603818293,0.000850487235462825,0.0007946482830467141,0.0007781219518260721],\"x\":[662688000000.0,694224000000.0,725846400000.0,757382400000.0,788918400000.0,820454400000.0,852076800000.0,883612800000.0,915148800000.0,946684800000.0,978307200000.0,1009843200000.0,1041379200000.0,1072915200000.0,1104537600000.0,1136073600000.0,1167609600000.0,1199145600000.0,1230768000000.0,1262304000000.0,1293840000000.0,1325376000000.0,1356998400000.0,1388534400000.0,1420070400000.0]}},\"id\":\"41f63b0b-4501-4fa8-94d4-978f44ee4df0\",\"type\":\"ColumnDataSource\"},{\"attributes\":{\"max_interval\":500.0,\"num_minor_ticks\":0},\"id\":\"dbc83e3e-2fa1-4d6a-955f-57cceb54a942\",\"type\":\"AdaptiveTicker\"},{\"attributes\":{\"line_color\":{\"value\":\"#d44e41\"},\"line_width\":{\"value\":2},\"x\":{\"field\":\"x\"},\"y\":{\"field\":\"value\"}},\"id\":\"dc39e951-d15f-4957-ba5c-cfea001efa11\",\"type\":\"Line\"},{\"attributes\":{\"line_color\":{\"value\":\"#d1dae9\"},\"line_width\":{\"value\":2},\"x\":{\"field\":\"x\"},\"y\":{\"field\":\"value\"}},\"id\":\"fa9d5127-b3c3-4e37-8a7c-27749a836258\",\"type\":\"Line\"},{\"attributes\":{\"days\":[1,2,3,4,5,6,7,8,9,10,11,12,13,14,15,16,17,18,19,20,21,22,23,24,25,26,27,28,29,30,31]},\"id\":\"4f5e7943-fc69-4a50-920f-fed841494f57\",\"type\":\"DaysTicker\"},{\"attributes\":{\"months\":[0,6]},\"id\":\"7e39565d-b8b3-4771-96d0-3b4a65ccb3d6\",\"type\":\"MonthsTicker\"},{\"attributes\":{\"callback\":null,\"plot\":{\"id\":\"75dcf7ca-f787-4ba2-b3fd-0842945611df\",\"subtype\":\"Figure\",\"type\":\"Plot\"},\"renderers\":[{\"id\":\"2c375818-c137-479e-bf1a-e0dbc184ac46\",\"type\":\"GlyphRenderer\"}],\"tooltips\":[[\"Discipline\",\"guinea pig\"],[\"date\",\"@date\"],[\"keywords this period\",\"@percent\"]]},\"id\":\"e1df8079-afc3-4497-bcb5-642ef4eb71d7\",\"type\":\"HoverTool\"},{\"attributes\":{\"callback\":null,\"column_names\":[\"date\",\"x\",\"percent\",\"value\"],\"data\":{\"date\":[\"1991-01-01\",\"1992-01-01\",\"1993-01-01\",\"1994-01-01\",\"1995-01-01\",\"1996-01-01\",\"1997-01-01\",\"1998-01-01\",\"1999-01-01\",\"2000-01-01\",\"2001-01-01\",\"2002-01-01\",\"2003-01-01\",\"2004-01-01\",\"2005-01-01\",\"2006-01-01\",\"2007-01-01\",\"2008-01-01\",\"2009-01-01\",\"2010-01-01\",\"2011-01-01\",\"2012-01-01\",\"2013-01-01\",\"2014-01-01\",\"2015-01-01\"],\"percent\":[\"0.18%\",\"0.15%\",\"0.15%\",\"0.14%\",\"0.13%\",\"0.12%\",\"0.12%\",\"0.12%\",\"0.10%\",\"0.10%\",\"0.10%\",\"0.09%\",\"0.09%\",\"0.08%\",\"0.07%\",\"0.07%\",\"0.07%\",\"0.07%\",\"0.07%\",\"0.07%\",\"0.07%\",\"0.06%\",\"0.06%\",\"0.06%\",\"0.06%\"],\"value\":[0.001768669162393769,0.00152926757844275,0.001462411661098293,0.0013732774965594231,0.0012607188874572356,0.00122031776013328,0.0011854173833053575,0.00116183301103225,0.0010321533446482933,0.0010230022003259005,0.0009630551538157069,0.0008748622901950619,0.0009019957245717488,0.0007877932576983024,0.000708732038660392,0.0007313156863872337,0.0007093872603744697,0.0007237708582544919,0.0006639881926590863,0.0006517597799668122,0.0006530056504867588,0.0006229510424239067,0.0005957398865053201,0.000616579983742019,0.0005592751528749893],\"x\":[662688000000.0,694224000000.0,725846400000.0,757382400000.0,788918400000.0,820454400000.0,852076800000.0,883612800000.0,915148800000.0,946684800000.0,978307200000.0,1009843200000.0,1041379200000.0,1072915200000.0,1104537600000.0,1136073600000.0,1167609600000.0,1199145600000.0,1230768000000.0,1262304000000.0,1293840000000.0,1325376000000.0,1356998400000.0,1388534400000.0,1420070400000.0]}},\"id\":\"9b95c542-851a-459f-acbe-ac4c5998c888\",\"type\":\"ColumnDataSource\"},{\"attributes\":{\"line_color\":{\"value\":\"#f5c1a9\"},\"line_width\":{\"value\":2},\"x\":{\"field\":\"x\"},\"y\":{\"field\":\"value\"}},\"id\":\"468fa0e7-7727-4dc6-8ea9-293a367866bf\",\"type\":\"Line\"},{\"attributes\":{\"formatter\":{\"id\":\"2a61c802-4e3b-4da1-a28b-6cf1a2f0e39e\",\"type\":\"BasicTickFormatter\"},\"plot\":{\"id\":\"75dcf7ca-f787-4ba2-b3fd-0842945611df\",\"subtype\":\"Figure\",\"type\":\"Plot\"},\"ticker\":{\"id\":\"dae663d7-b5b0-40c8-8844-5a8e4b45ddf6\",\"type\":\"BasicTicker\"}},\"id\":\"6dc6072b-62b3-4595-8930-a1a55fc41b1d\",\"type\":\"LinearAxis\"},{\"attributes\":{\"data_source\":{\"id\":\"55baec24-f85f-4eed-926f-eaa81d52500b\",\"type\":\"ColumnDataSource\"},\"glyph\":{\"id\":\"fa9d5127-b3c3-4e37-8a7c-27749a836258\",\"type\":\"Line\"},\"hover_glyph\":null,\"nonselection_glyph\":{\"id\":\"32c0552b-e017-4f0b-b05d-5c743078e6bc\",\"type\":\"Line\"},\"selection_glyph\":null},\"id\":\"abf0b3d7-e820-4e13-b139-b1fb55753be2\",\"type\":\"GlyphRenderer\"},{\"attributes\":{\"days\":[1,8,15,22]},\"id\":\"6cb03b8d-7476-4b1d-8e57-32460071565a\",\"type\":\"DaysTicker\"},{\"attributes\":{\"callback\":null,\"column_names\":[\"date\",\"x\",\"percent\",\"value\"],\"data\":{\"date\":[\"1991-01-01\",\"1992-01-01\",\"1993-01-01\",\"1994-01-01\",\"1995-01-01\",\"1996-01-01\",\"1997-01-01\",\"1998-01-01\",\"1999-01-01\",\"2000-01-01\",\"2001-01-01\",\"2002-01-01\",\"2003-01-01\",\"2004-01-01\",\"2005-01-01\",\"2006-01-01\",\"2007-01-01\",\"2008-01-01\",\"2009-01-01\",\"2010-01-01\",\"2011-01-01\",\"2012-01-01\",\"2013-01-01\",\"2014-01-01\",\"2015-01-01\"],\"percent\":[\"0.68%\",\"0.65%\",\"0.63%\",\"0.61%\",\"0.52%\",\"0.49%\",\"0.44%\",\"0.40%\",\"0.35%\",\"0.32%\",\"0.30%\",\"0.27%\",\"0.25%\",\"0.22%\",\"0.21%\",\"0.19%\",\"0.19%\",\"0.18%\",\"0.17%\",\"0.17%\",\"0.16%\",\"0.15%\",\"0.07%\",\"0.15%\",\"0.15%\"],\"value\":[0.006829613398860955,0.006518367479745339,0.0063436906122304945,0.006112315395080615,0.0052289287777136,0.0048582795465016235,0.004446823900428388,0.00395883840796174,0.0035308736765537864,0.0032067343911270116,0.00301437943868843,0.0027007322921392004,0.002513939218396305,0.002207884565074008,0.002076717281423764,0.0019158599243014733,0.001862779496666773,0.0017616993511436546,0.001678608746704813,0.0016531049984434309,0.001590305670910205,0.001462785207839358,0.0007375708469327373,0.0014852178648377754,0.0015380066704062205],\"x\":[662688000000.0,694224000000.0,725846400000.0,757382400000.0,788918400000.0,820454400000.0,852076800000.0,883612800000.0,915148800000.0,946684800000.0,978307200000.0,1009843200000.0,1041379200000.0,1072915200000.0,1104537600000.0,1136073600000.0,1167609600000.0,1199145600000.0,1230768000000.0,1262304000000.0,1293840000000.0,1325376000000.0,1356998400000.0,1388534400000.0,1420070400000.0]}},\"id\":\"0297b499-7ba7-45f5-94c9-c2d12e199ce7\",\"type\":\"ColumnDataSource\"},{\"attributes\":{\"callback\":null,\"column_names\":[\"date\",\"x\",\"percent\",\"value\"],\"data\":{\"date\":[\"1991-01-01\",\"1992-01-01\",\"1993-01-01\",\"1994-01-01\",\"1995-01-01\",\"1996-01-01\",\"1997-01-01\",\"1998-01-01\",\"1999-01-01\",\"2000-01-01\",\"2001-01-01\",\"2002-01-01\",\"2003-01-01\",\"2004-01-01\",\"2005-01-01\",\"2006-01-01\",\"2007-01-01\",\"2008-01-01\",\"2009-01-01\",\"2010-01-01\",\"2011-01-01\",\"2012-01-01\",\"2013-01-01\",\"2014-01-01\",\"2015-01-01\"],\"percent\":[\"0.17%\",\"0.16%\",\"0.14%\",\"0.14%\",\"0.13%\",\"0.13%\",\"0.13%\",\"0.12%\",\"0.11%\",\"0.10%\",\"0.09%\",\"0.09%\",\"0.09%\",\"0.07%\",\"0.07%\",\"0.06%\",\"0.06%\",\"0.06%\",\"0.05%\",\"0.05%\",\"0.05%\",\"0.04%\",\"0.04%\",\"0.04%\",\"0.04%\"],\"value\":[0.0016511275127299824,0.0015921736206765654,0.0013990993038754428,0.0013752463531853147,0.0013060751469913064,0.0012583421541084473,0.0012716295566366563,0.0011652754792130862,0.0010548842910638755,0.001025491256774382,0.0009294406632811272,0.0008740522325189553,0.0008610674717988597,0.000733259393273911,0.0006704033640032419,0.0006297069255729197,0.0006009377691301713,0.0005685044888292795,0.0005038156023246576,0.0004826792410797163,0.0004928858329362108,0.00041756533800058846,0.0003778835430719938,0.0003778402140371092,0.0003575603003064408],\"x\":[662688000000.0,694224000000.0,725846400000.0,757382400000.0,788918400000.0,820454400000.0,852076800000.0,883612800000.0,915148800000.0,946684800000.0,978307200000.0,1009843200000.0,1041379200000.0,1072915200000.0,1104537600000.0,1136073600000.0,1167609600000.0,1199145600000.0,1230768000000.0,1262304000000.0,1293840000000.0,1325376000000.0,1356998400000.0,1388534400000.0,1420070400000.0]}},\"id\":\"19447daa-c5ad-40b5-a6b6-61fcb4341121\",\"type\":\"ColumnDataSource\"},{\"attributes\":{\"callback\":null,\"plot\":{\"id\":\"75dcf7ca-f787-4ba2-b3fd-0842945611df\",\"subtype\":\"Figure\",\"type\":\"Plot\"},\"renderers\":[{\"id\":\"e924ef47-aec2-4df9-983f-0ecc8cc4a5b0\",\"type\":\"GlyphRenderer\"}],\"tooltips\":[[\"Discipline\",\"purification\"],[\"date\",\"@date\"],[\"keywords this period\",\"@percent\"]]},\"id\":\"7067183c-09d9-40ae-85a9-15232aeb5e6d\",\"type\":\"HoverTool\"},{\"attributes\":{\"months\":[0,2,4,6,8,10]},\"id\":\"0f63039e-148b-4ad1-b077-52eead66604d\",\"type\":\"MonthsTicker\"},{\"attributes\":{\"callback\":null,\"plot\":{\"id\":\"75dcf7ca-f787-4ba2-b3fd-0842945611df\",\"subtype\":\"Figure\",\"type\":\"Plot\"},\"renderers\":[{\"id\":\"ddd21d39-6a03-4851-b205-aa602d16139d\",\"type\":\"GlyphRenderer\"}],\"tooltips\":[[\"Discipline\",\"glycoprotein\"],[\"date\",\"@date\"],[\"keywords this period\",\"@percent\"]]},\"id\":\"d0d953b6-fdc1-4000-8a26-cd2411b85f06\",\"type\":\"HoverTool\"},{\"attributes\":{\"active_drag\":\"auto\",\"active_scroll\":\"auto\",\"active_tap\":\"auto\",\"tools\":[{\"id\":\"b29f6b12-71e2-4e93-b0e4-0b3fca25e303\",\"type\":\"PanTool\"},{\"id\":\"ebdf6d65-0fa3-4faa-a43d-eea5c3338244\",\"type\":\"BoxZoomTool\"},{\"id\":\"13579b2a-6d04-42b5-8b2f-f91ad2bd8b8d\",\"type\":\"ResetTool\"},{\"id\":\"7067183c-09d9-40ae-85a9-15232aeb5e6d\",\"type\":\"HoverTool\"},{\"id\":\"3e426669-afd9-4557-a1f3-8d0866791f1c\",\"type\":\"HoverTool\"},{\"id\":\"7b21ff56-888e-4278-b9fa-d1309d3681e5\",\"type\":\"HoverTool\"},{\"id\":\"e3fa6d2b-137a-4ecb-b0cd-0eb75e547f78\",\"type\":\"HoverTool\"},{\"id\":\"30969f22-e57d-47ef-b62a-736685a1c471\",\"type\":\"HoverTool\"},{\"id\":\"9b429b28-b644-42e0-aeb9-0bf83e745f08\",\"type\":\"HoverTool\"},{\"id\":\"e1df8079-afc3-4497-bcb5-642ef4eb71d7\",\"type\":\"HoverTool\"},{\"id\":\"a41aee34-ca39-4b54-9776-15c6a60d3794\",\"type\":\"HoverTool\"},{\"id\":\"9b070843-3c27-4933-9e63-9a5e3cf9215c\",\"type\":\"HoverTool\"},{\"id\":\"d0d953b6-fdc1-4000-8a26-cd2411b85f06\",\"type\":\"HoverTool\"}]},\"id\":\"1affcc67-681a-4f9a-b460-5288ffc308c8\",\"type\":\"Toolbar\"},{\"attributes\":{\"callback\":null,\"column_names\":[\"date\",\"x\",\"percent\",\"value\"],\"data\":{\"date\":[\"1991-01-01\",\"1992-01-01\",\"1993-01-01\",\"1994-01-01\",\"1995-01-01\",\"1996-01-01\",\"1997-01-01\",\"1998-01-01\",\"1999-01-01\",\"2000-01-01\",\"2001-01-01\",\"2002-01-01\",\"2003-01-01\",\"2004-01-01\",\"2005-01-01\",\"2006-01-01\",\"2007-01-01\",\"2008-01-01\",\"2009-01-01\",\"2010-01-01\",\"2011-01-01\",\"2012-01-01\",\"2013-01-01\",\"2014-01-01\",\"2015-01-01\"],\"percent\":[\"0.13%\",\"0.13%\",\"0.11%\",\"0.12%\",\"0.11%\",\"0.10%\",\"0.09%\",\"0.09%\",\"0.08%\",\"0.07%\",\"0.07%\",\"0.06%\",\"0.06%\",\"0.05%\",\"0.05%\",\"0.05%\",\"0.04%\",\"0.04%\",\"0.04%\",\"0.04%\",\"0.04%\",\"0.04%\",\"0.04%\",\"0.03%\",\"0.04%\"],\"value\":[0.0013373134857974202,0.0012939122135334758,0.0011406603375067595,0.0011783606905961502,0.0011320552124524223,0.0010072042962259462,0.0009060899417119496,0.0008528714918021923,0.0007922155769282577,0.0007027436039546129,0.0007084253880162661,0.0005791912384161752,0.0005729955388204478,0.0005416539236746982,0.0004759724507424264,0.0004706089974557701,0.0004357117795285637,0.000411425671511944,0.0004007226987275889,0.00039185557323158035,0.00039376404111920484,0.0003543295358753429,0.0003584409861065482,0.00033147339925970943,0.00036750788207694457],\"x\":[662688000000.0,694224000000.0,725846400000.0,757382400000.0,788918400000.0,820454400000.0,852076800000.0,883612800000.0,915148800000.0,946684800000.0,978307200000.0,1009843200000.0,1041379200000.0,1072915200000.0,1104537600000.0,1136073600000.0,1167609600000.0,1199145600000.0,1230768000000.0,1262304000000.0,1293840000000.0,1325376000000.0,1356998400000.0,1388534400000.0,1420070400000.0]}},\"id\":\"14a42821-7231-4475-81f4-60d1a054b3a7\",\"type\":\"ColumnDataSource\"},{\"attributes\":{\"line_alpha\":{\"value\":0.1},\"line_color\":{\"value\":\"#1f77b4\"},\"line_width\":{\"value\":2},\"x\":{\"field\":\"x\"},\"y\":{\"field\":\"value\"}},\"id\":\"e3674fe0-7dba-49e5-b1c2-7ee7d025b8e7\",\"type\":\"Line\"},{\"attributes\":{\"line_alpha\":{\"value\":0.1},\"line_color\":{\"value\":\"#1f77b4\"},\"line_width\":{\"value\":2},\"x\":{\"field\":\"x\"},\"y\":{\"field\":\"value\"}},\"id\":\"902104e4-4a5d-4ba6-b5d8-c0d65192b861\",\"type\":\"Line\"},{\"attributes\":{\"line_alpha\":{\"value\":0.1},\"line_color\":{\"value\":\"#1f77b4\"},\"line_width\":{\"value\":2},\"x\":{\"field\":\"x\"},\"y\":{\"field\":\"value\"}},\"id\":\"1c7af84a-39e5-4a92-9a41-fdbca106f2ae\",\"type\":\"Line\"},{\"attributes\":{\"months\":[0,1,2,3,4,5,6,7,8,9,10,11]},\"id\":\"345e7c29-7dd1-408c-ad37-15106ba9f898\",\"type\":\"MonthsTicker\"},{\"attributes\":{\"callback\":null,\"column_names\":[\"date\",\"x\",\"percent\",\"value\"],\"data\":{\"date\":[\"1991-01-01\",\"1992-01-01\",\"1993-01-01\",\"1994-01-01\",\"1995-01-01\",\"1996-01-01\",\"1997-01-01\",\"1998-01-01\",\"1999-01-01\",\"2000-01-01\",\"2001-01-01\",\"2002-01-01\",\"2003-01-01\",\"2004-01-01\",\"2005-01-01\",\"2006-01-01\",\"2007-01-01\",\"2008-01-01\",\"2009-01-01\",\"2010-01-01\",\"2011-01-01\",\"2012-01-01\",\"2013-01-01\",\"2014-01-01\",\"2015-01-01\"],\"percent\":[\"0.63%\",\"0.58%\",\"0.55%\",\"0.52%\",\"0.48%\",\"0.45%\",\"0.41%\",\"0.40%\",\"0.35%\",\"0.32%\",\"0.30%\",\"0.28%\",\"0.27%\",\"0.25%\",\"0.23%\",\"0.22%\",\"0.23%\",\"0.21%\",\"0.21%\",\"0.20%\",\"0.21%\",\"0.20%\",\"0.10%\",\"0.19%\",\"0.20%\"],\"value\":[0.006257429519365541,0.00583941605839416,0.005533084858278921,0.005191874922476271,0.004847565942447535,0.004455044112718453,0.004076973676837117,0.003957977790916532,0.00348372800991406,0.00321005313305832,0.002963117340623196,0.00282953146264014,0.0027406187722153834,0.002454023899097612,0.0022941453994788693,0.002211995983780033,0.002284456636151957,0.002111501794323413,0.0021358286863867276,0.0020289664666451506,0.002134930900673974,0.00200473171035076,0.0009950600949494718,0.0019168238534571886,0.0020011218661663403],\"x\":[662688000000.0,694224000000.0,725846400000.0,757382400000.0,788918400000.0,820454400000.0,852076800000.0,883612800000.0,915148800000.0,946684800000.0,978307200000.0,1009843200000.0,1041379200000.0,1072915200000.0,1104537600000.0,1136073600000.0,1167609600000.0,1199145600000.0,1230768000000.0,1262304000000.0,1293840000000.0,1325376000000.0,1356998400000.0,1388534400000.0,1420070400000.0]}},\"id\":\"22fb091c-6462-4fe0-a9f1-14318f34bc5e\",\"type\":\"ColumnDataSource\"},{\"attributes\":{\"data_source\":{\"id\":\"0297b499-7ba7-45f5-94c9-c2d12e199ce7\",\"type\":\"ColumnDataSource\"},\"glyph\":{\"id\":\"50247407-f87e-4d84-aa61-01debcdcd902\",\"type\":\"Line\"},\"hover_glyph\":null,\"nonselection_glyph\":{\"id\":\"9e2ac0be-da6c-4c79-94fd-bbe5d69f6336\",\"type\":\"Line\"},\"selection_glyph\":null},\"id\":\"0a39d4d7-c170-4d01-b3d2-7180c3650606\",\"type\":\"GlyphRenderer\"},{\"attributes\":{\"bottom_units\":\"screen\",\"fill_alpha\":{\"value\":0.5},\"fill_color\":{\"value\":\"lightgrey\"},\"left_units\":\"screen\",\"level\":\"overlay\",\"line_alpha\":{\"value\":1.0},\"line_color\":{\"value\":\"black\"},\"line_dash\":[4,4],\"line_width\":{\"value\":2},\"plot\":null,\"render_mode\":\"css\",\"right_units\":\"screen\",\"top_units\":\"screen\"},\"id\":\"f7230bef-8b7f-4889-9f88-e66f4d3f44cc\",\"type\":\"BoxAnnotation\"},{\"attributes\":{\"data_source\":{\"id\":\"d3e80498-0b57-41cf-83b9-43151f5190fa\",\"type\":\"ColumnDataSource\"},\"glyph\":{\"id\":\"01ce55aa-e98d-46ac-9bce-765f193a76df\",\"type\":\"Line\"},\"hover_glyph\":null,\"nonselection_glyph\":{\"id\":\"b66091b3-60fd-42fb-8ff8-428e5fa53c02\",\"type\":\"Line\"},\"selection_glyph\":null},\"id\":\"483df828-ac05-43c0-871f-fb6ce530f33c\",\"type\":\"GlyphRenderer\"},{\"attributes\":{},\"id\":\"8081050e-ea11-457a-bd92-9f9b432999f5\",\"type\":\"ToolEvents\"},{\"attributes\":{},\"id\":\"5f60a8c5-974b-477c-8325-7a8043b06521\",\"type\":\"YearsTicker\"},{\"attributes\":{\"line_color\":{\"value\":\"#5673e0\"},\"line_width\":{\"value\":2},\"x\":{\"field\":\"x\"},\"y\":{\"field\":\"value\"}},\"id\":\"07950c6d-2da2-4984-a0b8-1cfdf5a9daf1\",\"type\":\"Line\"},{\"attributes\":{\"months\":[0,4,8]},\"id\":\"dd92612f-af7d-4843-b2a1-9acab1d617b5\",\"type\":\"MonthsTicker\"},{\"attributes\":{\"line_alpha\":{\"value\":0.1},\"line_color\":{\"value\":\"#1f77b4\"},\"line_width\":{\"value\":2},\"x\":{\"field\":\"x\"},\"y\":{\"field\":\"value\"}},\"id\":\"9e2ac0be-da6c-4c79-94fd-bbe5d69f6336\",\"type\":\"Line\"},{\"attributes\":{\"callback\":null,\"plot\":{\"id\":\"75dcf7ca-f787-4ba2-b3fd-0842945611df\",\"subtype\":\"Figure\",\"type\":\"Plot\"},\"renderers\":[{\"id\":\"972cccee-05a5-4736-a271-6c17e3b1e382\",\"type\":\"GlyphRenderer\"}],\"tooltips\":[[\"Discipline\",\"cat\"],[\"date\",\"@date\"],[\"keywords this period\",\"@percent\"]]},\"id\":\"9b429b28-b644-42e0-aeb9-0bf83e745f08\",\"type\":\"HoverTool\"},{\"attributes\":{\"callback\":null,\"column_names\":[\"date\",\"x\",\"percent\",\"value\"],\"data\":{\"date\":[\"1991-01-01\",\"1992-01-01\",\"1993-01-01\",\"1994-01-01\",\"1995-01-01\",\"1996-01-01\",\"1997-01-01\",\"1998-01-01\",\"1999-01-01\",\"2000-01-01\",\"2001-01-01\",\"2002-01-01\",\"2003-01-01\",\"2004-01-01\",\"2005-01-01\",\"2006-01-01\",\"2007-01-01\",\"2008-01-01\",\"2009-01-01\",\"2010-01-01\",\"2011-01-01\",\"2012-01-01\",\"2013-01-01\",\"2014-01-01\",\"2015-01-01\"],\"percent\":[\"0.14%\",\"0.15%\",\"0.15%\",\"0.14%\",\"0.13%\",\"0.12%\",\"0.13%\",\"0.12%\",\"0.11%\",\"0.10%\",\"0.09%\",\"0.09%\",\"0.08%\",\"0.08%\",\"0.07%\",\"0.07%\",\"0.06%\",\"0.05%\",\"0.04%\",\"0.04%\",\"0.04%\",\"0.04%\",\"0.04%\",\"0.03%\",\"0.02%\"],\"value\":[0.001409390912478044,0.0014988991442609083,0.0015277998333120563,0.0013762307814982604,0.0013097776987900061,0.0012371192365409121,0.0012509386350371444,0.0012427310132819029,0.0011197095826934993,0.0010445740228794069,0.0009386846481781367,0.000876482405547275,0.0008209263008100646,0.0007597893813722636,0.0006934005687975319,0.0006751634764635338,0.0006117827182546011,0.0005334638295815662,0.0004315923252284061,0.0004164179488131517,0.00038559466267274833,0.00035328431600550414,0.0003654203655300415,0.00033936562305160727,0.0001633061340657701],\"x\":[662688000000.0,694224000000.0,725846400000.0,757382400000.0,788918400000.0,820454400000.0,852076800000.0,883612800000.0,915148800000.0,946684800000.0,978307200000.0,1009843200000.0,1041379200000.0,1072915200000.0,1104537600000.0,1136073600000.0,1167609600000.0,1199145600000.0,1230768000000.0,1262304000000.0,1293840000000.0,1325376000000.0,1356998400000.0,1388534400000.0,1420070400000.0]}},\"id\":\"c2817143-80db-4ed1-9a84-aa973913c4cb\",\"type\":\"ColumnDataSource\"},{\"attributes\":{\"data_source\":{\"id\":\"19447daa-c5ad-40b5-a6b6-61fcb4341121\",\"type\":\"ColumnDataSource\"},\"glyph\":{\"id\":\"468fa0e7-7727-4dc6-8ea9-293a367866bf\",\"type\":\"Line\"},\"hover_glyph\":null,\"nonselection_glyph\":{\"id\":\"679c9574-7632-42f4-88e6-1207898d33fc\",\"type\":\"Line\"},\"selection_glyph\":null},\"id\":\"2c375818-c137-479e-bf1a-e0dbc184ac46\",\"type\":\"GlyphRenderer\"},{\"attributes\":{\"plot\":null,\"text\":null},\"id\":\"153b99f8-0748-48d7-b6ab-9cea31314e39\",\"type\":\"Title\"},{\"attributes\":{\"plot\":{\"id\":\"75dcf7ca-f787-4ba2-b3fd-0842945611df\",\"subtype\":\"Figure\",\"type\":\"Plot\"}},\"id\":\"13579b2a-6d04-42b5-8b2f-f91ad2bd8b8d\",\"type\":\"ResetTool\"},{\"attributes\":{\"data_source\":{\"id\":\"d5fe97d1-43c3-4336-bfaa-33a050907488\",\"type\":\"ColumnDataSource\"},\"glyph\":{\"id\":\"49b7021f-27cd-40a1-8dba-92a1f73f06a6\",\"type\":\"Line\"},\"hover_glyph\":null,\"nonselection_glyph\":{\"id\":\"e3674fe0-7dba-49e5-b1c2-7ee7d025b8e7\",\"type\":\"Line\"},\"selection_glyph\":null},\"id\":\"b32bd5ae-a2d3-444e-a3d3-f5fb62524f1c\",\"type\":\"GlyphRenderer\"},{\"attributes\":{\"below\":[{\"id\":\"cafe43e8-a7e0-4327-8d35-cc7a4382d8d2\",\"type\":\"DatetimeAxis\"}],\"left\":[{\"id\":\"6dc6072b-62b3-4595-8930-a1a55fc41b1d\",\"type\":\"LinearAxis\"}],\"plot_height\":350,\"plot_width\":800,\"renderers\":[{\"id\":\"cafe43e8-a7e0-4327-8d35-cc7a4382d8d2\",\"type\":\"DatetimeAxis\"},{\"id\":\"7ce3417b-b3e5-4509-942e-d3299c4ab393\",\"type\":\"Grid\"},{\"id\":\"6dc6072b-62b3-4595-8930-a1a55fc41b1d\",\"type\":\"LinearAxis\"},{\"id\":\"e9350c69-29fc-45c0-a31b-52a68899b5c3\",\"type\":\"Grid\"},{\"id\":\"f7230bef-8b7f-4889-9f88-e66f4d3f44cc\",\"type\":\"BoxAnnotation\"},{\"id\":\"e924ef47-aec2-4df9-983f-0ecc8cc4a5b0\",\"type\":\"GlyphRenderer\"},{\"id\":\"0a39d4d7-c170-4d01-b3d2-7180c3650606\",\"type\":\"GlyphRenderer\"},{\"id\":\"0dc377ce-1471-40d6-b806-8c2013292571\",\"type\":\"GlyphRenderer\"},{\"id\":\"483df828-ac05-43c0-871f-fb6ce530f33c\",\"type\":\"GlyphRenderer\"},{\"id\":\"abf0b3d7-e820-4e13-b139-b1fb55753be2\",\"type\":\"GlyphRenderer\"},{\"id\":\"972cccee-05a5-4736-a271-6c17e3b1e382\",\"type\":\"GlyphRenderer\"},{\"id\":\"2c375818-c137-479e-bf1a-e0dbc184ac46\",\"type\":\"GlyphRenderer\"},{\"id\":\"3beb0a13-8c01-42a1-a608-fbe0762714ed\",\"type\":\"GlyphRenderer\"},{\"id\":\"b32bd5ae-a2d3-444e-a3d3-f5fb62524f1c\",\"type\":\"GlyphRenderer\"},{\"id\":\"ddd21d39-6a03-4851-b205-aa602d16139d\",\"type\":\"GlyphRenderer\"}],\"title\":{\"id\":\"153b99f8-0748-48d7-b6ab-9cea31314e39\",\"type\":\"Title\"},\"tool_events\":{\"id\":\"8081050e-ea11-457a-bd92-9f9b432999f5\",\"type\":\"ToolEvents\"},\"toolbar\":{\"id\":\"1affcc67-681a-4f9a-b460-5288ffc308c8\",\"type\":\"Toolbar\"},\"x_range\":{\"id\":\"70f2d5f3-46ac-4d2e-8a5d-97a6b3aa23e2\",\"type\":\"Range1d\"},\"y_range\":{\"id\":\"ed6ff304-0811-4dc3-afa2-f017c2526ff5\",\"type\":\"DataRange1d\"}},\"id\":\"75dcf7ca-f787-4ba2-b3fd-0842945611df\",\"subtype\":\"Figure\",\"type\":\"Plot\"},{\"attributes\":{\"callback\":null,\"column_names\":[\"date\",\"x\",\"percent\",\"value\"],\"data\":{\"date\":[\"1991-01-01\",\"1992-01-01\",\"1993-01-01\",\"1994-01-01\",\"1995-01-01\",\"1996-01-01\",\"1997-01-01\",\"1998-01-01\",\"1999-01-01\",\"2000-01-01\",\"2001-01-01\",\"2002-01-01\",\"2003-01-01\",\"2004-01-01\",\"2005-01-01\",\"2006-01-01\",\"2007-01-01\",\"2008-01-01\",\"2009-01-01\",\"2010-01-01\",\"2011-01-01\",\"2012-01-01\",\"2013-01-01\",\"2014-01-01\",\"2015-01-01\"],\"percent\":[\"0.16%\",\"0.15%\",\"0.14%\",\"0.14%\",\"0.12%\",\"0.12%\",\"0.12%\",\"0.10%\",\"0.10%\",\"0.09%\",\"0.08%\",\"0.08%\",\"0.08%\",\"0.08%\",\"0.07%\",\"0.06%\",\"0.06%\",\"0.05%\",\"0.05%\",\"0.05%\",\"0.04%\",\"0.04%\",\"0.03%\",\"0.03%\",\"0.03%\"],\"value\":[0.0015723967851249934,0.001490222448780382,0.0014354260662164224,0.0014195456272678767,0.0012366523007656877,0.0011752190603022674,0.0011569673661060288,0.0010422072417481886,0.000985007678008567,0.00092343994238664,0.0008412026256278556,0.0008173481951914976,0.0007965267655031499,0.0007693696548522243,0.0006690095940157092,0.0006450819354329804,0.0006002998309463812,0.0005419219197448073,0.00048517733726756044,0.00046154417371882934,0.00041228129893117297,0.0003684400041181663,0.00034896897117466446,0.00034923090279147956,0.0003133488257708685],\"x\":[662688000000.0,694224000000.0,725846400000.0,757382400000.0,788918400000.0,820454400000.0,852076800000.0,883612800000.0,915148800000.0,946684800000.0,978307200000.0,1009843200000.0,1041379200000.0,1072915200000.0,1104537600000.0,1136073600000.0,1167609600000.0,1199145600000.0,1230768000000.0,1262304000000.0,1293840000000.0,1325376000000.0,1356998400000.0,1388534400000.0,1420070400000.0]}},\"id\":\"d5fe97d1-43c3-4336-bfaa-33a050907488\",\"type\":\"ColumnDataSource\"},{\"attributes\":{\"callback\":null,\"plot\":{\"id\":\"75dcf7ca-f787-4ba2-b3fd-0842945611df\",\"subtype\":\"Figure\",\"type\":\"Plot\"},\"renderers\":[{\"id\":\"b32bd5ae-a2d3-444e-a3d3-f5fb62524f1c\",\"type\":\"GlyphRenderer\"}],\"tooltips\":[[\"Discipline\",\"rat liver\"],[\"date\",\"@date\"],[\"keywords this period\",\"@percent\"]]},\"id\":\"9b070843-3c27-4933-9e63-9a5e3cf9215c\",\"type\":\"HoverTool\"},{\"attributes\":{},\"id\":\"d4e8735e-9ff7-4c99-84cd-0506abd5a614\",\"type\":\"DatetimeTickFormatter\"},{\"attributes\":{\"data_source\":{\"id\":\"41f63b0b-4501-4fa8-94d4-978f44ee4df0\",\"type\":\"ColumnDataSource\"},\"glyph\":{\"id\":\"79fb8ddd-4b1f-4a20-869b-503dd3ac26d4\",\"type\":\"Line\"},\"hover_glyph\":null,\"nonselection_glyph\":{\"id\":\"902104e4-4a5d-4ba6-b5d8-c0d65192b861\",\"type\":\"Line\"},\"selection_glyph\":null},\"id\":\"0dc377ce-1471-40d6-b806-8c2013292571\",\"type\":\"GlyphRenderer\"},{\"attributes\":{\"callback\":null,\"plot\":{\"id\":\"75dcf7ca-f787-4ba2-b3fd-0842945611df\",\"subtype\":\"Figure\",\"type\":\"Plot\"},\"renderers\":[{\"id\":\"483df828-ac05-43c0-871f-fb6ce530f33c\",\"type\":\"GlyphRenderer\"}],\"tooltips\":[[\"Discipline\",\"stimulation\"],[\"date\",\"@date\"],[\"keywords this period\",\"@percent\"]]},\"id\":\"e3fa6d2b-137a-4ecb-b0cd-0eb75e547f78\",\"type\":\"HoverTool\"},{\"attributes\":{\"callback\":null,\"column_names\":[\"date\",\"x\",\"percent\",\"value\"],\"data\":{\"date\":[\"1991-01-01\",\"1992-01-01\",\"1993-01-01\",\"1994-01-01\",\"1995-01-01\",\"1996-01-01\",\"1997-01-01\",\"1998-01-01\",\"1999-01-01\",\"2000-01-01\",\"2001-01-01\",\"2002-01-01\",\"2003-01-01\",\"2004-01-01\",\"2005-01-01\",\"2006-01-01\",\"2007-01-01\",\"2008-01-01\",\"2009-01-01\",\"2010-01-01\",\"2011-01-01\",\"2012-01-01\",\"2013-01-01\",\"2014-01-01\",\"2015-01-01\"],\"percent\":[\"0.32%\",\"0.31%\",\"0.29%\",\"0.26%\",\"0.25%\",\"0.24%\",\"0.23%\",\"0.22%\",\"0.20%\",\"0.18%\",\"0.18%\",\"0.17%\",\"0.15%\",\"0.14%\",\"0.13%\",\"0.12%\",\"0.12%\",\"0.11%\",\"0.11%\",\"0.11%\",\"0.11%\",\"0.11%\",\"0.10%\",\"0.10%\",\"0.10%\"],\"value\":[0.0031636445895356882,0.003113849090573855,0.0029113305247556506,0.0026333457371300766,0.00253439670620992,0.0024335612144107148,0.0022673801586131563,0.0021704761880172846,0.0019784342250599423,0.0017962690703208228,0.0017882908964396373,0.0016557578899617652,0.0015348094789833422,0.0014156696426926463,0.0013003873983680348,0.0012406964478379394,0.0011999617237089726,0.001138821425550682,0.0011095592166803154,0.0010944537584718775,0.0010565729457417115,0.0010520137989927217,0.0009731249024756357,0.0010121777013108984,0.00102846942638375],\"x\":[662688000000.0,694224000000.0,725846400000.0,757382400000.0,788918400000.0,820454400000.0,852076800000.0,883612800000.0,915148800000.0,946684800000.0,978307200000.0,1009843200000.0,1041379200000.0,1072915200000.0,1104537600000.0,1136073600000.0,1167609600000.0,1199145600000.0,1230768000000.0,1262304000000.0,1293840000000.0,1325376000000.0,1356998400000.0,1388534400000.0,1420070400000.0]}},\"id\":\"d3e80498-0b57-41cf-83b9-43151f5190fa\",\"type\":\"ColumnDataSource\"},{\"attributes\":{\"line_alpha\":{\"value\":0.1},\"line_color\":{\"value\":\"#1f77b4\"},\"line_width\":{\"value\":2},\"x\":{\"field\":\"x\"},\"y\":{\"field\":\"value\"}},\"id\":\"b66091b3-60fd-42fb-8ff8-428e5fa53c02\",\"type\":\"Line\"},{\"attributes\":{\"callback\":null,\"plot\":{\"id\":\"75dcf7ca-f787-4ba2-b3fd-0842945611df\",\"subtype\":\"Figure\",\"type\":\"Plot\"},\"renderers\":[{\"id\":\"abf0b3d7-e820-4e13-b139-b1fb55753be2\",\"type\":\"GlyphRenderer\"}],\"tooltips\":[[\"Discipline\",\"secretion\"],[\"date\",\"@date\"],[\"keywords this period\",\"@percent\"]]},\"id\":\"30969f22-e57d-47ef-b62a-736685a1c471\",\"type\":\"HoverTool\"},{\"attributes\":{\"days\":[1,4,7,10,13,16,19,22,25,28]},\"id\":\"b9ee655e-705b-4b1f-a6f1-e691c57745d3\",\"type\":\"DaysTicker\"},{\"attributes\":{\"data_source\":{\"id\":\"14a42821-7231-4475-81f4-60d1a054b3a7\",\"type\":\"ColumnDataSource\"},\"glyph\":{\"id\":\"dc39e951-d15f-4957-ba5c-cfea001efa11\",\"type\":\"Line\"},\"hover_glyph\":null,\"nonselection_glyph\":{\"id\":\"47ab13b9-1559-4126-816b-ec3296628140\",\"type\":\"Line\"},\"selection_glyph\":null},\"id\":\"ddd21d39-6a03-4851-b205-aa602d16139d\",\"type\":\"GlyphRenderer\"},{\"attributes\":{},\"id\":\"dae663d7-b5b0-40c8-8844-5a8e4b45ddf6\",\"type\":\"BasicTicker\"},{\"attributes\":{\"data_source\":{\"id\":\"22fb091c-6462-4fe0-a9f1-14318f34bc5e\",\"type\":\"ColumnDataSource\"},\"glyph\":{\"id\":\"07950c6d-2da2-4984-a0b8-1cfdf5a9daf1\",\"type\":\"Line\"},\"hover_glyph\":null,\"nonselection_glyph\":{\"id\":\"a3218632-7618-4c16-8a8d-59e8c6a07af1\",\"type\":\"Line\"},\"selection_glyph\":null},\"id\":\"e924ef47-aec2-4df9-983f-0ecc8cc4a5b0\",\"type\":\"GlyphRenderer\"},{\"attributes\":{\"callback\":null,\"column_names\":[\"date\",\"x\",\"percent\",\"value\"],\"data\":{\"date\":[\"1991-01-01\",\"1992-01-01\",\"1993-01-01\",\"1994-01-01\",\"1995-01-01\",\"1996-01-01\",\"1997-01-01\",\"1998-01-01\",\"1999-01-01\",\"2000-01-01\",\"2001-01-01\",\"2002-01-01\",\"2003-01-01\",\"2004-01-01\",\"2005-01-01\",\"2006-01-01\",\"2007-01-01\",\"2008-01-01\",\"2009-01-01\",\"2010-01-01\",\"2011-01-01\",\"2012-01-01\",\"2013-01-01\",\"2014-01-01\",\"2015-01-01\"],\"percent\":[\"0.31%\",\"0.31%\",\"0.29%\",\"0.28%\",\"0.26%\",\"0.25%\",\"0.23%\",\"0.23%\",\"0.19%\",\"0.19%\",\"0.18%\",\"0.17%\",\"0.15%\",\"0.14%\",\"0.13%\",\"0.12%\",\"0.12%\",\"0.11%\",\"0.11%\",\"0.11%\",\"0.10%\",\"0.10%\",\"0.10%\",\"0.09%\",\"0.08%\"],\"value\":[0.0030760427940315456,0.0030661272654309607,0.002889534467351063,0.002753445991309467,0.002568645310347892,0.002494577102417379,0.0023397983842114475,0.0022522348073121465,0.0019338142191330585,0.0019115953524337995,0.0018437548058216936,0.0016695288704555765,0.0015458286239606585,0.0014009307604157838,0.001275996423586212,0.0011999192477743002,0.0012133584255685625,0.0011231135438189484,0.0010524795299429552,0.0010527548417868843,0.0009928517938593505,0.0009861649471928791,0.000981101336102485,0.0009258565035870157,0.0008494129545146824],\"x\":[662688000000.0,694224000000.0,725846400000.0,757382400000.0,788918400000.0,820454400000.0,852076800000.0,883612800000.0,915148800000.0,946684800000.0,978307200000.0,1009843200000.0,1041379200000.0,1072915200000.0,1104537600000.0,1136073600000.0,1167609600000.0,1199145600000.0,1230768000000.0,1262304000000.0,1293840000000.0,1325376000000.0,1356998400000.0,1388534400000.0,1420070400000.0]}},\"id\":\"55baec24-f85f-4eed-926f-eaa81d52500b\",\"type\":\"ColumnDataSource\"},{\"attributes\":{\"callback\":null,\"plot\":{\"id\":\"75dcf7ca-f787-4ba2-b3fd-0842945611df\",\"subtype\":\"Figure\",\"type\":\"Plot\"},\"renderers\":[{\"id\":\"3beb0a13-8c01-42a1-a608-fbe0762714ed\",\"type\":\"GlyphRenderer\"}],\"tooltips\":[[\"Discipline\",\"gaas\"],[\"date\",\"@date\"],[\"keywords this period\",\"@percent\"]]},\"id\":\"a41aee34-ca39-4b54-9776-15c6a60d3794\",\"type\":\"HoverTool\"},{\"attributes\":{\"callback\":null,\"end\":1451628000000.0,\"start\":662709600000.0},\"id\":\"70f2d5f3-46ac-4d2e-8a5d-97a6b3aa23e2\",\"type\":\"Range1d\"},{\"attributes\":{\"plot\":{\"id\":\"75dcf7ca-f787-4ba2-b3fd-0842945611df\",\"subtype\":\"Figure\",\"type\":\"Plot\"}},\"id\":\"b29f6b12-71e2-4e93-b0e4-0b3fca25e303\",\"type\":\"PanTool\"},{\"attributes\":{\"line_color\":{\"value\":\"#b5cdfa\"},\"line_width\":{\"value\":2},\"x\":{\"field\":\"x\"},\"y\":{\"field\":\"value\"}},\"id\":\"01ce55aa-e98d-46ac-9bce-765f193a76df\",\"type\":\"Line\"},{\"attributes\":{\"line_alpha\":{\"value\":0.1},\"line_color\":{\"value\":\"#1f77b4\"},\"line_width\":{\"value\":2},\"x\":{\"field\":\"x\"},\"y\":{\"field\":\"value\"}},\"id\":\"dc989e1f-26c3-4ff7-9e5e-e7d733dfc18e\",\"type\":\"Line\"},{\"attributes\":{\"callback\":null},\"id\":\"ed6ff304-0811-4dc3-afa2-f017c2526ff5\",\"type\":\"DataRange1d\"},{\"attributes\":{\"num_minor_ticks\":5},\"id\":\"10d89a5f-9d44-4bdf-a2b0-44c0daeb97f3\",\"type\":\"DatetimeTicker\"},{\"attributes\":{\"days\":[1,15]},\"id\":\"256e28ff-47cc-40c7-9dd4-bb45c8c2695a\",\"type\":\"DaysTicker\"},{\"attributes\":{\"data_source\":{\"id\":\"9b95c542-851a-459f-acbe-ac4c5998c888\",\"type\":\"ColumnDataSource\"},\"glyph\":{\"id\":\"26d4b997-82ed-4abe-803d-2280b490b1bc\",\"type\":\"Line\"},\"hover_glyph\":null,\"nonselection_glyph\":{\"id\":\"1c7af84a-39e5-4a92-9a41-fdbca106f2ae\",\"type\":\"Line\"},\"selection_glyph\":null},\"id\":\"972cccee-05a5-4736-a271-6c17e3b1e382\",\"type\":\"GlyphRenderer\"},{\"attributes\":{\"overlay\":{\"id\":\"f7230bef-8b7f-4889-9f88-e66f4d3f44cc\",\"type\":\"BoxAnnotation\"},\"plot\":{\"id\":\"75dcf7ca-f787-4ba2-b3fd-0842945611df\",\"subtype\":\"Figure\",\"type\":\"Plot\"}},\"id\":\"ebdf6d65-0fa3-4faa-a43d-eea5c3338244\",\"type\":\"BoxZoomTool\"},{\"attributes\":{\"line_alpha\":{\"value\":0.1},\"line_color\":{\"value\":\"#1f77b4\"},\"line_width\":{\"value\":2},\"x\":{\"field\":\"x\"},\"y\":{\"field\":\"value\"}},\"id\":\"679c9574-7632-42f4-88e6-1207898d33fc\",\"type\":\"Line\"},{\"attributes\":{\"base\":24,\"mantissas\":[1,2,4,6,8,12],\"max_interval\":43200000.0,\"min_interval\":3600000.0,\"num_minor_ticks\":0},\"id\":\"e46c3407-24de-41ce-ad02-4d9c0b820c9d\",\"type\":\"AdaptiveTicker\"},{\"attributes\":{\"line_alpha\":{\"value\":0.1},\"line_color\":{\"value\":\"#1f77b4\"},\"line_width\":{\"value\":2},\"x\":{\"field\":\"x\"},\"y\":{\"field\":\"value\"}},\"id\":\"a3218632-7618-4c16-8a8d-59e8c6a07af1\",\"type\":\"Line\"},{\"attributes\":{\"callback\":null,\"plot\":{\"id\":\"75dcf7ca-f787-4ba2-b3fd-0842945611df\",\"subtype\":\"Figure\",\"type\":\"Plot\"},\"renderers\":[{\"id\":\"0dc377ce-1471-40d6-b806-8c2013292571\",\"type\":\"GlyphRenderer\"}],\"tooltips\":[[\"Discipline\",\"cloning\"],[\"date\",\"@date\"],[\"keywords this period\",\"@percent\"]]},\"id\":\"7b21ff56-888e-4278-b9fa-d1309d3681e5\",\"type\":\"HoverTool\"},{\"attributes\":{\"line_alpha\":{\"value\":0.1},\"line_color\":{\"value\":\"#1f77b4\"},\"line_width\":{\"value\":2},\"x\":{\"field\":\"x\"},\"y\":{\"field\":\"value\"}},\"id\":\"47ab13b9-1559-4126-816b-ec3296628140\",\"type\":\"Line\"},{\"attributes\":{\"line_color\":{\"value\":\"#94b6ff\"},\"line_width\":{\"value\":2},\"x\":{\"field\":\"x\"},\"y\":{\"field\":\"value\"}},\"id\":\"79fb8ddd-4b1f-4a20-869b-503dd3ac26d4\",\"type\":\"Line\"},{\"attributes\":{\"line_color\":{\"value\":\"#f6a283\"},\"line_width\":{\"value\":2},\"x\":{\"field\":\"x\"},\"y\":{\"field\":\"value\"}},\"id\":\"83d865f2-0a90-4ade-9ecb-dc5722825a48\",\"type\":\"Line\"},{\"attributes\":{\"formatter\":{\"id\":\"d4e8735e-9ff7-4c99-84cd-0506abd5a614\",\"type\":\"DatetimeTickFormatter\"},\"plot\":{\"id\":\"75dcf7ca-f787-4ba2-b3fd-0842945611df\",\"subtype\":\"Figure\",\"type\":\"Plot\"},\"ticker\":{\"id\":\"10d89a5f-9d44-4bdf-a2b0-44c0daeb97f3\",\"type\":\"DatetimeTicker\"}},\"id\":\"cafe43e8-a7e0-4327-8d35-cc7a4382d8d2\",\"type\":\"DatetimeAxis\"},{\"attributes\":{\"base\":60,\"mantissas\":[1,2,5,10,15,20,30],\"max_interval\":1800000.0,\"min_interval\":1000.0,\"num_minor_ticks\":0},\"id\":\"c45f88f5-59ce-4778-886a-d186cfb331e5\",\"type\":\"AdaptiveTicker\"},{\"attributes\":{\"line_color\":{\"value\":\"#7597f6\"},\"line_width\":{\"value\":2},\"x\":{\"field\":\"x\"},\"y\":{\"field\":\"value\"}},\"id\":\"50247407-f87e-4d84-aa61-01debcdcd902\",\"type\":\"Line\"},{\"attributes\":{\"callback\":null,\"plot\":{\"id\":\"75dcf7ca-f787-4ba2-b3fd-0842945611df\",\"subtype\":\"Figure\",\"type\":\"Plot\"},\"renderers\":[{\"id\":\"0a39d4d7-c170-4d01-b3d2-7180c3650606\",\"type\":\"GlyphRenderer\"}],\"tooltips\":[[\"Discipline\",\"monoclonal antibody\"],[\"date\",\"@date\"],[\"keywords this period\",\"@percent\"]]},\"id\":\"3e426669-afd9-4557-a1f3-8d0866791f1c\",\"type\":\"HoverTool\"},{\"attributes\":{\"line_color\":{\"value\":\"#e8d6cc\"},\"line_width\":{\"value\":2},\"x\":{\"field\":\"x\"},\"y\":{\"field\":\"value\"}},\"id\":\"26d4b997-82ed-4abe-803d-2280b490b1bc\",\"type\":\"Line\"},{\"attributes\":{\"data_source\":{\"id\":\"c2817143-80db-4ed1-9a84-aa973913c4cb\",\"type\":\"ColumnDataSource\"},\"glyph\":{\"id\":\"83d865f2-0a90-4ade-9ecb-dc5722825a48\",\"type\":\"Line\"},\"hover_glyph\":null,\"nonselection_glyph\":{\"id\":\"dc989e1f-26c3-4ff7-9e5e-e7d733dfc18e\",\"type\":\"Line\"},\"selection_glyph\":null},\"id\":\"3beb0a13-8c01-42a1-a608-fbe0762714ed\",\"type\":\"GlyphRenderer\"},{\"attributes\":{\"dimension\":1,\"plot\":{\"id\":\"75dcf7ca-f787-4ba2-b3fd-0842945611df\",\"subtype\":\"Figure\",\"type\":\"Plot\"},\"ticker\":{\"id\":\"dae663d7-b5b0-40c8-8844-5a8e4b45ddf6\",\"type\":\"BasicTicker\"}},\"id\":\"e9350c69-29fc-45c0-a31b-52a68899b5c3\",\"type\":\"Grid\"},{\"attributes\":{\"line_alpha\":{\"value\":0.1},\"line_color\":{\"value\":\"#1f77b4\"},\"line_width\":{\"value\":2},\"x\":{\"field\":\"x\"},\"y\":{\"field\":\"value\"}},\"id\":\"32c0552b-e017-4f0b-b05d-5c743078e6bc\",\"type\":\"Line\"},{\"attributes\":{\"use_scientific\":false},\"id\":\"2a61c802-4e3b-4da1-a28b-6cf1a2f0e39e\",\"type\":\"BasicTickFormatter\"},{\"attributes\":{\"line_color\":{\"value\":\"#ea7b60\"},\"line_width\":{\"value\":2},\"x\":{\"field\":\"x\"},\"y\":{\"field\":\"value\"}},\"id\":\"49b7021f-27cd-40a1-8dba-92a1f73f06a6\",\"type\":\"Line\"}],\"root_ids\":[\"75dcf7ca-f787-4ba2-b3fd-0842945611df\"]},\"title\":\"Bokeh Application\",\"version\":\"0.12.2\"}};\n",
       "            var render_items = [{\"docid\":\"647ca6fc-4065-4531-b607-0e4725735f43\",\"elementid\":\"360137a7-f714-4c2b-b254-57ab837e41fe\",\"modelid\":\"75dcf7ca-f787-4ba2-b3fd-0842945611df\"}];\n",
       "            \n",
       "            Bokeh.embed.embed_items(docs_json, render_items);\n",
       "        });\n",
       "      },\n",
       "      function(Bokeh) {\n",
       "      }\n",
       "    ];\n",
       "  \n",
       "    function run_inline_js() {\n",
       "      \n",
       "      if ((window.Bokeh !== undefined) || (force === \"1\")) {\n",
       "        for (var i = 0; i < inline_js.length; i++) {\n",
       "          inline_js[i](window.Bokeh);\n",
       "        }if (force === \"1\") {\n",
       "          display_loaded();\n",
       "        }} else if (Date.now() < window._bokeh_timeout) {\n",
       "        setTimeout(run_inline_js, 100);\n",
       "      } else if (!window._bokeh_failed_load) {\n",
       "        console.log(\"Bokeh: BokehJS failed to load within specified timeout.\");\n",
       "        window._bokeh_failed_load = true;\n",
       "      } else if (!force) {\n",
       "        var cell = $(\"#360137a7-f714-4c2b-b254-57ab837e41fe\").parents('.cell').data().cell;\n",
       "        cell.output_area.append_execute_result(NB_LOAD_WARNING)\n",
       "      }\n",
       "  \n",
       "    }\n",
       "  \n",
       "    if (window._bokeh_is_loading === 0) {\n",
       "      console.log(\"Bokeh: BokehJS loaded, going straight to plotting\");\n",
       "      run_inline_js();\n",
       "    } else {\n",
       "      load_libs(js_urls, function() {\n",
       "        console.log(\"Bokeh: BokehJS plotting callback run at\", now());\n",
       "        run_inline_js();\n",
       "      });\n",
       "    }\n",
       "  }(this));\n",
       "</script>"
      ]
     },
     "metadata": {},
     "output_type": "display_data"
    }
   ],
   "source": [
    "from ipywidgets import Dropdown,Text,Checkbox,interact\n",
    "\n",
    "disc_select = Text(description='Discipline',value='Psychology')\n",
    "rawcount_select = Checkbox(description = 'rawcount',value=True)\n",
    "cumulative_select = Checkbox(description='cumulativ',value=False)\n",
    "#resample_select = Dropdown(description=\"Resample\",options=[\"Daily\",\"Weekly\",\"Monthly\",\"Yearly\"],value=\"Yearly\")\n",
    "data_select = Dropdown(description=\"Data\",options=[\"pubs\",\"refs\",\"keywords\",\"both\"],value=\"keywords\")\n",
    "\n",
    "\n",
    "\n",
    "interact(update,rawcount=rawcount_select,cumulative=cumulative_select,\n",
    "         disc=disc_select,data_type=data_select); # resample=resample_select,\n"
   ]
  },
  {
   "cell_type": "code",
   "execution_count": 10,
   "metadata": {
    "collapsed": false
   },
   "outputs": [
    {
     "data": {
      "text/plain": [
       "(25,)"
      ]
     },
     "execution_count": 10,
     "metadata": {},
     "output_type": "execute_result"
    }
   ],
   "source": [
    "total_pubs.shape"
   ]
  },
  {
   "cell_type": "code",
   "execution_count": 11,
   "metadata": {
    "collapsed": false
   },
   "outputs": [],
   "source": [
    "new_df = df_keywords.ix['1991':]\n",
    "arr_raw = new_df.T.values\n",
    "arr = new_df.divide(totals_pubs.reindex(new_df.index.values),axis=0).T.values\n",
    "arr_norm = (arr / arr.max(1,keepdims=True))"
   ]
  },
  {
   "cell_type": "code",
   "execution_count": 25,
   "metadata": {
    "collapsed": false
   },
   "outputs": [
    {
     "data": {
      "image/png": "[encoded data removed]",
      "text/plain": [
       "<matplotlib.figure.Figure at 0x1c2c20c50>"
      ]
     },
     "metadata": {},
     "output_type": "display_data"
    },
    {
     "data": {
      "image/png": "[encoded data removed]",
      "text/plain": [
       "<matplotlib.figure.Figure at 0x1c2dfd4d0>"
      ]
     },
     "metadata": {},
     "output_type": "display_data"
    }
   ],
   "source": [
    "from sklearn.cluster import KMeans\n",
    "bins = np.linspace(arr_raw.sum(1).min(),arr_raw.sum(1).max(),1000)\n",
    "for n in (2,3,4,5):\n",
    "    kmeans = KMeans(n_clusters=n, random_state=0).fit(arr_norm)\n",
    "\n",
    "    labels = kmeans.labels_\n",
    "    rows = int(math.ceil(np.sqrt(n)))\n",
    "    fig,axes = plt.subplots(rows,rows)\n",
    "    hist_fig,hist_axes = plt.subplots(rows,rows)\n",
    "    af = axes.flat\n",
    "    hist_af = hist_axes.flat\n",
    "    for i,row in enumerate(kmeans.cluster_centers_):\n",
    "        ax = af.next()\n",
    "        ax_hist = hist_af.next()\n",
    "        ax.plot(row,lw=3)\n",
    "        ax.set_xticklabels([])\n",
    "        ax.set_yticklabels([])\n",
    "        ax_hist.set_xticklabels([])\n",
    "        ax_hist.set_yticklabels([])\n",
    "        matching = np.where(labels==i)[0]\n",
    "        ax.set_title('N = {}'.format(len(matching)))\n",
    "        #rand_sample = np.random.choice(matching,min(500,len(matching)),replace=False)\n",
    "        vals,_= np.histogram(arr_raw[matching].sum(1),bins=bins)\n",
    "        ax_hist.plot((vals/float(vals.sum()))[:100])\n",
    "        #ax_hist.set_xscale('log')\n",
    "        ax_hist.set_yscale('log')\n",
    "        ax_hist.set_ylim(0,1)\n",
    "        #for r in rand_sample:\n",
    "        #    ax.plot(arr_norm[r],lw=0.01)"
   ]
  },
  {
   "cell_type": "code",
   "execution_count": 20,
   "metadata": {
    "collapsed": false,
    "scrolled": false
   },
   "outputs": [
    {
     "name": "stdout",
     "output_type": "stream",
     "text": [
      "0 oxidative stress|randomized controlled trial|quality of life|mechanical property|obesity|cardiovascular disease|safety|intervention|fabrication|device\n",
      "---\n",
      "1 in situ hybridization|cytochrome c|programmed cell death|tumor suppressor gene|map kinase|gene transfer|neutron diffraction|bcl 2|magnetoresistance|t lymphocyte\n",
      "---\n",
      "2 ab initio|atomic force microscopy|self assembled monolayers|ab initio calculation|deficient mouse|cutting edge|knockout mouse|mouse lacking|green fluorescent protein|factor kappa b\n",
      "---\n",
      "3 management|risk|in vitro|performance|prevalence|risk factor|design|stability|association|simulation\n",
      "---\n",
      "4 conversion|physiology|coal|band structure|molecular biology|deoxyribonucleic acid|somatic mutation|chlamydomonas reinhardtii|electrical resistivity|carbon fiber\n",
      "---\n",
      "5 impact|health|inflammation|optimization|composite|validation|strategy|efficiency|sensor|metastasis\n",
      "---\n",
      "6 of life|balloon angioplasty|dna fragmentation|giant magnetoresistance|taxol|wild type p53|x ray star|retinoblastoma protein|niddm|iddm\n",
      "---\n",
      "7 rat|binding|sequence|dna|metabolism|messenger rna|localization|antibody|release|liver\n",
      "---\n",
      "8 angstrom resolution|pravastatin|fa ligand|factor v leiden|d branes|millimeter|il 12|dependent kinase inhibitor|combinatorial chemistry|colossal magnetoresistance\n",
      "---\n",
      "9 purification|monoclonal antibody|cloning|stimulation|secretion|cat|guinea pig|gaas|rat liver|glycoprotein\n",
      "---\n",
      "10 metaanalysis|meta analysis|gold nanoparticles|graphene|genome wide association|lithium ion battery|nanocomposite|metal organic framework|silver nanoparticles|autophagy\n",
      "---\n",
      "11 invitro|nucleotide sequence|invivo|amino acid sequence|interleukin 1|acquired immunodeficiency syndrome|lymphocyte t|insitu hybridization|adenylate cyclase|phorbol ester\n",
      "---\n",
      "12 outcome|nanoparticles|climate change|china|guideline|carbon nanotube|nanostructures|framework|metabolic syndrome|drug delivery\n",
      "---\n",
      "13 sequence alignment|monte carlo method|nanostructured material|permittivity|iii v semiconductor|probe wmap observation|stochastic process|magnetic moment|dna microarray|quantum theory\n",
      "---\n",
      "14 model|system|disease|behavior|child|cancer|therapy|gene expression|temperature|in vivo\n",
      "---\n",
      "15 expression|protein|growth|cell|mechanism|identification|gene|activation|mouse|infection\n",
      "---\n"
     ]
    }
   ],
   "source": [
    "for i in xrange(16):\n",
    "    print i,'|'.join(df_keywords.T.iloc[np.where(labels==i)].sum(1).sort_values(ascending=False).index[:10])\n",
    "    print '---'"
   ]
  },
  {
   "cell_type": "code",
   "execution_count": 32,
   "metadata": {
    "collapsed": false
   },
   "outputs": [
    {
     "data": {
      "text/plain": [
       "3.0"
      ]
     },
     "execution_count": 32,
     "metadata": {},
     "output_type": "execute_result"
    }
   ],
   "source": [
    "import math\n",
    "math.ceil(np.sqrt(5))"
   ]
  },
  {
   "cell_type": "code",
   "execution_count": 15,
   "metadata": {
    "collapsed": false
   },
   "outputs": [],
   "source": [
    "# d_reverse['irritable bowel syndrome']"
   ]
  },
  {
   "cell_type": "code",
   "execution_count": null,
   "metadata": {
    "collapsed": true
   },
   "outputs": [],
   "source": []
  }
 ],
 "metadata": {
  "anaconda-cloud": {},
  "kernelspec": {
   "display_name": "Python [default]",
   "language": "python",
   "name": "python2"
  },
  "language_info": {
   "codemirror_mode": {
    "name": "ipython",
    "version": 2
   },
   "file_extension": ".py",
   "mimetype": "text/x-python",
   "name": "python",
   "nbconvert_exporter": "python",
   "pygments_lexer": "ipython2",
   "version": "2.7.12"
  },
  "widgets": {
   "state": {
    "ffa88533d8bd4501ae8e11028bbe1f17": {
     "views": [
      {
       "cell_index": 8
      }
     ]
    }
   },
   "version": "1.2.0"
  }
 },
 "nbformat": 4,
 "nbformat_minor": 0
}
